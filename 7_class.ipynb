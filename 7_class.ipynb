{
 "cells": [
  {
   "cell_type": "markdown",
   "metadata": {},
   "source": [
    "클래스의 메소드는 클래스 내에 정의된 함수"
   ]
  },
  {
   "cell_type": "code",
   "execution_count": 1,
   "metadata": {},
   "outputs": [],
   "source": [
    "# 기본값은 함수설정할때 세팅\n",
    "class Car1:\n",
    "    Manufacture = 'India' #class변수 - 클래스에 바로 선언된 속성, 모든 객체에 적용됨\n",
    "    def __init__(self, color='blue', category='truck'): \n",
    "        self.color=color       # 인스턴스변수 - init안에서 self를 사용해 선언, \n",
    "        self.category=category #서로다른객체간 값공유불가\n",
    "    \n",
    "    def drive(self):\n",
    "        print(\"I'm driving\")\n",
    "        \n",
    "    def accel(self, speed_up, current_speed=10):\n",
    "        self.speed_up = speed_up\n",
    "        self.current_speed = current_speed + self.speed_up\n",
    "        print(\"speed up\", self.speed_up, \"driving at\", self.current_speed)"
   ]
  },
  {
   "cell_type": "code",
   "execution_count": 2,
   "metadata": {},
   "outputs": [],
   "source": [
    "mycar=Car1('purple','taxi')"
   ]
  },
  {
   "cell_type": "code",
   "execution_count": 3,
   "metadata": {},
   "outputs": [],
   "source": [
    "print(mycar.color)"
   ]
  },
  {
   "cell_type": "code",
   "execution_count": 4,
   "metadata": {},
   "outputs": [],
   "source": [
    "print(mycar.Manufacture, mycar.color)"
   ]
  },
  {
   "cell_type": "code",
   "execution_count": 5,
   "metadata": {},
   "outputs": [],
   "source": [
    "print(mycar.accel(5))"
   ]
  },
  {
   "cell_type": "markdown",
   "metadata": {},
   "source": [
    "상속    \n",
    "\n",
    "-새로운 메소드 추가\n",
    "\n",
    "-메소드 오버라이드(기존메소드 변경)\n",
    "\n",
    "-부모 메소드 호출(super())"
   ]
  },
  {
   "cell_type": "code",
   "execution_count": 6,
   "metadata": {},
   "outputs": [],
   "source": [
    "class NewCar(Car1):\n",
    "    \n",
    "    def __init__(self, maker, color, category):\n",
    "        super().__init__(color,category)\n",
    "        self.maker = maker\n",
    "        self.boost={1:0, 2:30, 3:50} #클래스내부에서 매개변수아녀도, 객체속성 직접지정가능\n",
    "        \n",
    "    def fly(self):\n",
    "        print(\"I'm flying!! This is the new car!!\")\n",
    "\n",
    "    def accel(self, speed_up, level=1,current_speed=10):\n",
    "        \n",
    "        self.speed_up=speed_up+self.boost[level]\n",
    "        self.current_speed=current_speed+self.speed_up\n",
    "        print(\"speed up\", self.speed_up, \"driving at\", self.current_speed)\n",
    "        "
   ]
  },
  {
   "cell_type": "code",
   "execution_count": 7,
   "metadata": {},
   "outputs": [],
   "source": [
    "car = NewCar('kia','red','sedan')"
   ]
  },
  {
   "cell_type": "code",
   "execution_count": 8,
   "metadata": {
    "scrolled": true
   },
   "outputs": [
    {
     "name": "stdout",
     "output_type": "stream",
     "text": [
      "I'm driving\n"
     ]
    },
    {
     "data": {
      "text/plain": [
       "'kia'"
      ]
     },
     "execution_count": 8,
     "metadata": {},
     "output_type": "execute_result"
    }
   ],
   "source": [
    "car.drive();car.maker"
   ]
  },
  {
   "cell_type": "code",
   "execution_count": 9,
   "metadata": {},
   "outputs": [
    {
     "name": "stdout",
     "output_type": "stream",
     "text": [
      "speed up 10 driving at 20\n"
     ]
    }
   ],
   "source": [
    "car.accel(10)"
   ]
  },
  {
   "cell_type": "code",
   "execution_count": 10,
   "metadata": {},
   "outputs": [
    {
     "data": {
      "text/plain": [
       "'kia'"
      ]
     },
     "execution_count": 10,
     "metadata": {},
     "output_type": "execute_result"
    }
   ],
   "source": [
    "car.maker"
   ]
  },
  {
   "cell_type": "code",
   "execution_count": 13,
   "metadata": {},
   "outputs": [],
   "source": [
    "class Car:\n",
    "    Manufacture='Vetnam'\n",
    "    \n",
    "    def __init__(self, color='red', category='sedan'):\n",
    "        self.color=color\n",
    "        self.category='2020Y'+category\n",
    "        \n",
    "class NewCar1(Car):\n",
    "    def __init__(self, color, category, maker):\n",
    "        super().__init__(color,category)\n",
    "        self.maker=maker"
   ]
  },
  {
   "cell_type": "code",
   "execution_count": 14,
   "metadata": {},
   "outputs": [],
   "source": [
    "newcar = NewCar1('red','sportscar','Kia')"
   ]
  },
  {
   "cell_type": "code",
   "execution_count": 15,
   "metadata": {},
   "outputs": [
    {
     "name": "stdout",
     "output_type": "stream",
     "text": [
      "2020Ysportscar\n"
     ]
    }
   ],
   "source": [
    "print(newcar.category)"
   ]
  },
  {
   "cell_type": "code",
   "execution_count": null,
   "metadata": {},
   "outputs": [],
   "source": []
  }
 ],
 "metadata": {
  "kernelspec": {
   "display_name": "Python 3",
   "language": "python",
   "name": "python3"
  },
  "language_info": {
   "codemirror_mode": {
    "name": "ipython",
    "version": 3
   },
   "file_extension": ".py",
   "mimetype": "text/x-python",
   "name": "python",
   "nbconvert_exporter": "python",
   "pygments_lexer": "ipython3",
   "version": "3.7.9"
  }
 },
 "nbformat": 4,
 "nbformat_minor": 4
}
