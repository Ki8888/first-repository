{
 "cells": [
  {
   "cell_type": "markdown",
   "metadata": {},
   "source": [
    "# 파이썬으로 이미지파일 다루기"
   ]
  },
  {
   "cell_type": "markdown",
   "metadata": {},
   "source": [
    "## 디지털 이미지"
   ]
  },
  {
   "cell_type": "markdown",
   "metadata": {},
   "source": [
    "* 디지털 화면은 수많은 점들로 이루어져있으며, 색상이 가지는 점 하나를 화소(pixel)이라고 한다.<br> 각 pixel은 R,G,B(Red, Green, Blue) 세개의 단일 색의 강도를 조절하여 색상표현"
   ]
  },
  {
   "cell_type": "markdown",
   "metadata": {},
   "source": [
    "* 비트맵(bitmap)방식 : 한점마다 색상별로 8비트를 사용하여 0~255사이 값으로 해당색의 감도 표시"
   ]
  },
  {
   "cell_type": "markdown",
   "metadata": {},
   "source": [
    "* 벡터(vector)방식 : 상대적인 점과 선의 위치를 방정식으로써 기록해두었다가, 확대 및 축소에 따라 디지털 화면의 각화소에 어떻게 표현될지 계산 >> 깨짐이 없음(확대, 축소 가능한 글꼴)"
   ]
  },
  {
   "cell_type": "markdown",
   "metadata": {},
   "source": [
    "* 색을 구성하는 방식 >>컬러스페이스, 스페이스 구성 단일축(R, G, B) >>채널(chanel)"
   ]
  },
  {
   "cell_type": "markdown",
   "metadata": {},
   "source": [
    "jpeg : 근처의 화소를 묶어 비슷한색을 뭉뚱그리는 방식 >>재압축 반복시 색상지저분(디지털풍화)<br>\n",
    "PNG : 색상의 손실없이 이미지 압축, 사용색상많아지면 jpeg보다 큰 용량 차지"
   ]
  },
  {
   "cell_type": "markdown",
   "metadata": {},
   "source": [
    "## Pillow 사용법"
   ]
  },
  {
   "cell_type": "markdown",
   "metadata": {},
   "source": [
    "* numpy와 결합하여 편리하게 사용가능한 이미지처리 도구"
   ]
  },
  {
   "cell_type": "markdown",
   "metadata": {},
   "source": [
    "* 이미지는 배열형태의 데이터 >>>32픽셀, 3색상 >> [32, 32, 3]"
   ]
  },
  {
   "cell_type": "code",
   "execution_count": 1,
   "metadata": {},
   "outputs": [],
   "source": [
    "# 32 X 32 pixel짜리 검은색 화면\n",
    "import numpy as np\n",
    "from PIL import Image\n",
    "\n",
    "data = np.zeros([32, 32, 3], dtype=np.uint8) #256사이의 값으로 데이터(1pixel) 표현가능하므로 uint8\n",
    "image = Image.fromarray(data, 'RGB')\n",
    "image.show()\n"
   ]
  },
  {
   "cell_type": "code",
   "execution_count": 2,
   "metadata": {},
   "outputs": [],
   "source": [
    "data[:, :] = [255, 0, 0]\n",
    "image = Image.fromarray(data, 'RGB')\n",
    "image.show()\n",
    "\n",
    "#  [[* ][* ][* ]] R (255X255X1)\n",
    "#  [[* ][* ][* ]] G \"\n",
    "#  [[* ][* ][* ]] B \" >>>255X255X3"
   ]
  },
  {
   "cell_type": "code",
   "execution_count": 3,
   "metadata": {},
   "outputs": [],
   "source": [
    "# 가로 세로 각 128 픽셀짜리 흰색 이미지 만들기\n",
    "data1 = np.zeros([128,128,3], dtype=np.uint8)\n",
    "data1[:,:] = [255, 255, 255]\n",
    "image1 = Image.fromarray(data1, 'RGB')\n",
    "image1.show()"
   ]
  },
  {
   "cell_type": "markdown",
   "metadata": {},
   "source": [
    "* 연습용 이미지를 열어 width(가로)와 height(세로)를 출력하고 save를 이용하여 jpg포맷으로 저장하기"
   ]
  },
  {
   "cell_type": "code",
   "execution_count": 4,
   "metadata": {},
   "outputs": [
    {
     "name": "stdout",
     "output_type": "stream",
     "text": [
      "620\n",
      "465\n"
     ]
    }
   ],
   "source": [
    "from PIL import Image\n",
    "import os\n",
    "\n",
    "# 연습용파일 경로\n",
    "image_path = os.getenv('HOME')+'/aiffel/python_image_proc/pillow_practice.png'\n",
    "\n",
    "# 이미지 열기 (open이용)\n",
    "img = Image.open(image_path)\n",
    "img.show()\n",
    "\n",
    "# width와 height 출력\n",
    "print(img.width)\n",
    "print(img.height)\n",
    "\n",
    "# JPG 파일 형식으로 저장해보기\n",
    "new_image_path = os.getenv('HOME')+'/aiffel/python_image_proc/pillow_practice.jpg'\n",
    "img = img.convert('RGB')\n",
    "img.save(new_image_path)"
   ]
  },
  {
   "cell_type": "markdown",
   "metadata": {},
   "source": [
    "* resize() 이용하여 이미지 크기를 100 * 200으로 변경하여 저장"
   ]
  },
  {
   "cell_type": "code",
   "execution_count": 5,
   "metadata": {},
   "outputs": [],
   "source": [
    "resized_image = img.resize((100, 200))\n",
    "resized_image.show()\n",
    "\n",
    "# save\n",
    "resized_image_path = os.getenv('HOME')+'/aiffel/python_image_proc/pillow_practice_resized.png'\n",
    "resized_image.save(resized_image_path)"
   ]
  },
  {
   "cell_type": "markdown",
   "metadata": {},
   "source": [
    "* crop() 이용하여 눈 부분만 잘라내어 저장하기 (눈부분 box좌표: 300,100,600,400)"
   ]
  },
  {
   "cell_type": "code",
   "execution_count": 6,
   "metadata": {},
   "outputs": [],
   "source": [
    "box = (300, 100, 600, 400)\n",
    "region = img.crop(box)\n",
    "region.show()\n",
    "\n",
    "cropped_image_path = os.getenv('HOME')+'/aiffel/python_image_proc/pillow_practice_cropped.png'\n",
    "region.save(cropped_image_path)"
   ]
  },
  {
   "cell_type": "markdown",
   "metadata": {},
   "source": [
    "## Pillow를 활용한 데이터 전처리"
   ]
  },
  {
   "cell_type": "markdown",
   "metadata": {},
   "source": [
    "### CIFAR-100 데이터를 받아 개별 이미지 파일로 추출하기"
   ]
  },
  {
   "cell_type": "markdown",
   "metadata": {},
   "source": [
    "* 실습 파일(CIFAR-100 python version) : 32 * 32화소 이미지 100개 클래스당 600장(train:500, test:100) 총 6만장"
   ]
  },
  {
   "cell_type": "code",
   "execution_count": 7,
   "metadata": {},
   "outputs": [
    {
     "data": {
      "text/plain": [
       "dict"
      ]
     },
     "execution_count": 7,
     "metadata": {},
     "output_type": "execute_result"
    }
   ],
   "source": [
    "import os\n",
    "import pickle\n",
    "\n",
    "dir_path = os.getenv(\"HOME\")+'/aiffel/python_image_proc/cifar-100-python'\n",
    "# os.path.join 경로를 병합하여 새 경로 생성\n",
    "train_file_path = os.path.join(dir_path, 'train') # dir_path/train?\n",
    "\n",
    "# with문 나올때 close 자동으로 불러줌\n",
    "# 대부분 인코딩 형태 (읽기-rb, 쓰기-wb, 한작업엔 한개만 하는게 좋음)\n",
    "with open(train_file_path, 'rb') as f:\n",
    "    train = pickle.load(f, encoding='bytes')\n",
    "    \n",
    "type(train)"
   ]
  },
  {
   "cell_type": "code",
   "execution_count": 8,
   "metadata": {},
   "outputs": [
    {
     "data": {
      "text/plain": [
       "dict_keys([b'filenames', b'batch_label', b'fine_labels', b'coarse_labels', b'data'])"
      ]
     },
     "execution_count": 8,
     "metadata": {},
     "output_type": "execute_result"
    }
   ],
   "source": [
    "train.keys()"
   ]
  },
  {
   "cell_type": "code",
   "execution_count": 9,
   "metadata": {},
   "outputs": [
    {
     "data": {
      "text/plain": [
       "list"
      ]
     },
     "execution_count": 9,
     "metadata": {},
     "output_type": "execute_result"
    }
   ],
   "source": [
    "type(train[b'filenames'])"
   ]
  },
  {
   "cell_type": "code",
   "execution_count": 10,
   "metadata": {},
   "outputs": [
    {
     "data": {
      "text/plain": [
       "[b'bos_taurus_s_000507.png',\n",
       " b'stegosaurus_s_000125.png',\n",
       " b'mcintosh_s_000643.png',\n",
       " b'altar_boy_s_001435.png',\n",
       " b'cichlid_s_000031.png']"
      ]
     },
     "execution_count": 10,
     "metadata": {},
     "output_type": "execute_result"
    }
   ],
   "source": [
    "train[b'filenames'][0:5]"
   ]
  },
  {
   "cell_type": "code",
   "execution_count": 11,
   "metadata": {},
   "outputs": [
    {
     "data": {
      "text/plain": [
       "array([[255, 255, 255, ...,  10,  59,  79],\n",
       "       [255, 253, 253, ..., 253, 253, 255],\n",
       "       [250, 248, 247, ..., 194, 207, 228],\n",
       "       [124, 131, 135, ..., 232, 236, 231],\n",
       "       [ 43,  32,  87, ...,  60,  29,  37]], dtype=uint8)"
      ]
     },
     "execution_count": 11,
     "metadata": {},
     "output_type": "execute_result"
    }
   ],
   "source": [
    "train[b'data'][0:5]"
   ]
  },
  {
   "cell_type": "code",
   "execution_count": 12,
   "metadata": {},
   "outputs": [
    {
     "data": {
      "text/plain": [
       "(3072,)"
      ]
     },
     "execution_count": 12,
     "metadata": {},
     "output_type": "execute_result"
    }
   ],
   "source": [
    "train[b'data'][0].shape"
   ]
  },
  {
   "cell_type": "markdown",
   "metadata": {},
   "source": [
    "* 3072 = 3채널 * 1024(32*32)<br>\n",
    "* numpy배열을 reshape하면 이미지파일 원본 복구 가능"
   ]
  },
  {
   "cell_type": "code",
   "execution_count": 15,
   "metadata": {},
   "outputs": [],
   "source": [
    "# reshape를 앞에서채우는방식이 아닌 원하는 형태로\n",
    "image_data = train[b'data'][0].reshape([32,32,3], order='F')\n",
    "# Pillow를 사용하여 Numpy 배열을 Image객체로 만들어서\n",
    "image = Image.fromarray(image_data)\n",
    "image.show()"
   ]
  },
  {
   "cell_type": "markdown",
   "metadata": {},
   "source": [
    "* 사이즈가 작지만 정상이미지, but X축, Y축 뒤집어져 나옴"
   ]
  },
  {
   "cell_type": "code",
   "execution_count": 14,
   "metadata": {},
   "outputs": [],
   "source": [
    "# 축 바꿔주기\n",
    "# np.swapaxes(0,1)\n",
    "image_data = image_data.swapaxes(0,1)\n",
    "image.show()"
   ]
  },
  {
   "cell_type": "markdown",
   "metadata": {},
   "source": [
    "* 이미지파일을 실제파일처럼 만들어주는 반복작업을 tqdm이용하여 시각화 가능"
   ]
  },
  {
   "cell_type": "code",
   "execution_count": 17,
   "metadata": {},
   "outputs": [],
   "source": [
    "import os\n",
    "import pickle\n",
    "from PIL import Image\n",
    "import numpy\n",
    "from tqdm import tqdm\n",
    "\n",
    "dir_path = os.getenv('HOME')+'/aiffel/python_image_proc/cifar-100-python'\n",
    "train_file_path = os.path.join(dir_path, 'train')\n",
    "\n",
    "# image를 저장할 cifar-100-python의 하위디렉토리(images)를 생성합니다.\n",
    "# /cifar-100-python/images\n",
    "images_dir_path = os.path.join(dir_path, 'images')\n",
    "if not os.path.exists(images_dir_path):\n",
    "    os.mkdir(images_dir_path)\n",
    "    \n",
    "# 32*32 이미지파일 50000개를 생성\n",
    "with open(train_file_path, 'rb') a f:\n",
    "    train = pickle.load(f, encoding='bytes')\n",
    "    for i in tqdm(range(len(train[b'filenames'])))"
   ]
  },
  {
   "cell_type": "code",
   "execution_count": null,
   "metadata": {},
   "outputs": [],
   "source": []
  }
 ],
 "metadata": {
  "kernelspec": {
   "display_name": "Python 3",
   "language": "python",
   "name": "python3"
  },
  "language_info": {
   "codemirror_mode": {
    "name": "ipython",
    "version": 3
   },
   "file_extension": ".py",
   "mimetype": "text/x-python",
   "name": "python",
   "nbconvert_exporter": "python",
   "pygments_lexer": "ipython3",
   "version": "3.7.6"
  }
 },
 "nbformat": 4,
 "nbformat_minor": 4
}
