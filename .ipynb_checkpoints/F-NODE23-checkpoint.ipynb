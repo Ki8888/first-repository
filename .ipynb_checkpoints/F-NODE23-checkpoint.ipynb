{
 "cells": [
  {
   "cell_type": "markdown",
   "metadata": {},
   "source": [
    "# MNIST 복습"
   ]
  },
  {
   "cell_type": "code",
   "execution_count": 1,
   "metadata": {},
   "outputs": [
    {
     "name": "stderr",
     "output_type": "stream",
     "text": [
      "/home/jin/anaconda3/envs/aiffel/lib/python3.7/site-packages/tensorflow/python/framework/dtypes.py:516: FutureWarning: Passing (type, 1) or '1type' as a synonym of type is deprecated; in a future version of numpy, it will be understood as (type, (1,)) / '(1,)type'.\n",
      "  _np_qint8 = np.dtype([(\"qint8\", np.int8, 1)])\n",
      "/home/jin/anaconda3/envs/aiffel/lib/python3.7/site-packages/tensorflow/python/framework/dtypes.py:517: FutureWarning: Passing (type, 1) or '1type' as a synonym of type is deprecated; in a future version of numpy, it will be understood as (type, (1,)) / '(1,)type'.\n",
      "  _np_quint8 = np.dtype([(\"quint8\", np.uint8, 1)])\n",
      "/home/jin/anaconda3/envs/aiffel/lib/python3.7/site-packages/tensorflow/python/framework/dtypes.py:518: FutureWarning: Passing (type, 1) or '1type' as a synonym of type is deprecated; in a future version of numpy, it will be understood as (type, (1,)) / '(1,)type'.\n",
      "  _np_qint16 = np.dtype([(\"qint16\", np.int16, 1)])\n",
      "/home/jin/anaconda3/envs/aiffel/lib/python3.7/site-packages/tensorflow/python/framework/dtypes.py:519: FutureWarning: Passing (type, 1) or '1type' as a synonym of type is deprecated; in a future version of numpy, it will be understood as (type, (1,)) / '(1,)type'.\n",
      "  _np_quint16 = np.dtype([(\"quint16\", np.uint16, 1)])\n",
      "/home/jin/anaconda3/envs/aiffel/lib/python3.7/site-packages/tensorflow/python/framework/dtypes.py:520: FutureWarning: Passing (type, 1) or '1type' as a synonym of type is deprecated; in a future version of numpy, it will be understood as (type, (1,)) / '(1,)type'.\n",
      "  _np_qint32 = np.dtype([(\"qint32\", np.int32, 1)])\n",
      "/home/jin/anaconda3/envs/aiffel/lib/python3.7/site-packages/tensorflow/python/framework/dtypes.py:525: FutureWarning: Passing (type, 1) or '1type' as a synonym of type is deprecated; in a future version of numpy, it will be understood as (type, (1,)) / '(1,)type'.\n",
      "  np_resource = np.dtype([(\"resource\", np.ubyte, 1)])\n",
      "/home/jin/anaconda3/envs/aiffel/lib/python3.7/site-packages/tensorboard/compat/tensorflow_stub/dtypes.py:541: FutureWarning: Passing (type, 1) or '1type' as a synonym of type is deprecated; in a future version of numpy, it will be understood as (type, (1,)) / '(1,)type'.\n",
      "  _np_qint8 = np.dtype([(\"qint8\", np.int8, 1)])\n",
      "/home/jin/anaconda3/envs/aiffel/lib/python3.7/site-packages/tensorboard/compat/tensorflow_stub/dtypes.py:542: FutureWarning: Passing (type, 1) or '1type' as a synonym of type is deprecated; in a future version of numpy, it will be understood as (type, (1,)) / '(1,)type'.\n",
      "  _np_quint8 = np.dtype([(\"quint8\", np.uint8, 1)])\n",
      "/home/jin/anaconda3/envs/aiffel/lib/python3.7/site-packages/tensorboard/compat/tensorflow_stub/dtypes.py:543: FutureWarning: Passing (type, 1) or '1type' as a synonym of type is deprecated; in a future version of numpy, it will be understood as (type, (1,)) / '(1,)type'.\n",
      "  _np_qint16 = np.dtype([(\"qint16\", np.int16, 1)])\n",
      "/home/jin/anaconda3/envs/aiffel/lib/python3.7/site-packages/tensorboard/compat/tensorflow_stub/dtypes.py:544: FutureWarning: Passing (type, 1) or '1type' as a synonym of type is deprecated; in a future version of numpy, it will be understood as (type, (1,)) / '(1,)type'.\n",
      "  _np_quint16 = np.dtype([(\"quint16\", np.uint16, 1)])\n",
      "/home/jin/anaconda3/envs/aiffel/lib/python3.7/site-packages/tensorboard/compat/tensorflow_stub/dtypes.py:545: FutureWarning: Passing (type, 1) or '1type' as a synonym of type is deprecated; in a future version of numpy, it will be understood as (type, (1,)) / '(1,)type'.\n",
      "  _np_qint32 = np.dtype([(\"qint32\", np.int32, 1)])\n",
      "/home/jin/anaconda3/envs/aiffel/lib/python3.7/site-packages/tensorboard/compat/tensorflow_stub/dtypes.py:550: FutureWarning: Passing (type, 1) or '1type' as a synonym of type is deprecated; in a future version of numpy, it will be understood as (type, (1,)) / '(1,)type'.\n",
      "  np_resource = np.dtype([(\"resource\", np.ubyte, 1)])\n"
     ]
    },
    {
     "name": "stdout",
     "output_type": "stream",
     "text": [
      "WARNING:tensorflow:From /home/jin/anaconda3/envs/aiffel/lib/python3.7/site-packages/tensorflow/python/ops/init_ops.py:1251: calling VarianceScaling.__init__ (from tensorflow.python.ops.init_ops) with dtype is deprecated and will be removed in a future version.\n",
      "Instructions for updating:\n",
      "Call initializer instance with the dtype argument instead of passing it to the constructor\n",
      "Model: \"sequential\"\n",
      "_________________________________________________________________\n",
      "Layer (type)                 Output Shape              Param #   \n",
      "=================================================================\n",
      "dense (Dense)                (None, 50)                39250     \n",
      "_________________________________________________________________\n",
      "dense_1 (Dense)              (None, 10)                510       \n",
      "=================================================================\n",
      "Total params: 39,760\n",
      "Trainable params: 39,760\n",
      "Non-trainable params: 0\n",
      "_________________________________________________________________\n",
      "Epoch 1/10\n",
      "60000/60000 [==============================] - 8s 141us/sample - loss: 0.5022 - acc: 0.8801\n",
      "Epoch 2/10\n",
      "60000/60000 [==============================] - 8s 133us/sample - loss: 0.2339 - acc: 0.9337\n",
      "Epoch 3/10\n",
      "60000/60000 [==============================] - 8s 132us/sample - loss: 0.1833 - acc: 0.9474\n",
      "Epoch 4/10\n",
      "60000/60000 [==============================] - 8s 134us/sample - loss: 0.1530 - acc: 0.9561\n",
      "Epoch 5/10\n",
      "60000/60000 [==============================] - 8s 140us/sample - loss: 0.1311 - acc: 0.9628\n",
      "Epoch 6/10\n",
      "60000/60000 [==============================] - 7s 123us/sample - loss: 0.1151 - acc: 0.9670\n",
      "Epoch 7/10\n",
      "60000/60000 [==============================] - 8s 129us/sample - loss: 0.1023 - acc: 0.9714\n",
      "Epoch 8/10\n",
      "60000/60000 [==============================] - 8s 127us/sample - loss: 0.0923 - acc: 0.9740\n",
      "Epoch 9/10\n",
      "60000/60000 [==============================] - 7s 117us/sample - loss: 0.0835 - acc: 0.9765\n",
      "Epoch 10/10\n",
      "60000/60000 [==============================] - 8s 135us/sample - loss: 0.0761 - acc: 0.9788\n"
     ]
    },
    {
     "data": {
      "text/plain": [
       "<tensorflow.python.keras.callbacks.History at 0x7f37948a9090>"
      ]
     },
     "execution_count": 1,
     "metadata": {},
     "output_type": "execute_result"
    }
   ],
   "source": [
    "import tensorflow as tf\n",
    "from tensorflow import keras \n",
    "import numpy as np\n",
    "import matplotlib.pyplot as plt\n",
    "\n",
    "# MNIST데이터 로드\n",
    "mnist = keras.datasets.mnist\n",
    "(x_train, y_train),(x_test, y_test) = mnist.load_data()\n",
    "\n",
    "# 모델에 맞게 데이터 가공\n",
    "x_train_norm, x_test_norm = x_train / 255.0, x_test / 255.0\n",
    "x_train_reshaped = x_train_norm.reshape(-1, x_train_norm.shape[1]*x_train_norm.shape[2])\n",
    "x_test_reshaped = x_test_norm.reshape(-1, x_test_norm.shape[1]*x_test_norm.shape[2])\n",
    "\n",
    "# 딥러닝 모델 구성 -2 Layer Perceptron\n",
    "model = keras.models.Sequential()\n",
    "# 입력층 d=784, 은닉층레이어 H=50\n",
    "model.add(keras.layers.Dense(50, activation='sigmoid', input_shape=(784,)))\n",
    "# 출력층 레이어 K=10\n",
    "model.add(keras.layers.Dense(10, activation='softmax'))\n",
    "model.summary()\n",
    "\n",
    "# 모델 구성과 학습\n",
    "model.compile(optimizer='adam', loss='sparse_categorical_crossentropy',\n",
    "              metrics=['accuracy'])\n",
    "model.fit(x_train_reshaped, y_train, epochs=10)"
   ]
  },
  {
   "cell_type": "code",
   "execution_count": 2,
   "metadata": {},
   "outputs": [
    {
     "name": "stdout",
     "output_type": "stream",
     "text": [
      "10000/10000 - 0s - loss: 0.1067 - acc: 0.9679\n",
      "test_loss:0.10671353159025311\n",
      "test_accuracy:0.9678999781608582\n"
     ]
    }
   ],
   "source": [
    "# 모델 테스트 결과\n",
    "# verbose2 :epoch당 1줄의 로그\n",
    "test_loss, test_accuracy = model.evaluate(x_test_reshaped, y_test, verbose=2)\n",
    "print('test_loss:{}'.format(test_loss))\n",
    "print('test_accuracy:{}'.format(test_accuracy))  #format의 다른활용 확인"
   ]
  },
  {
   "cell_type": "markdown",
   "metadata": {},
   "source": [
    "# 신경망 구성"
   ]
  },
  {
   "cell_type": "markdown",
   "metadata": {},
   "source": [
    "* Parameters/Weights"
   ]
  },
  {
   "cell_type": "code",
   "execution_count": 3,
   "metadata": {},
   "outputs": [
    {
     "name": "stdout",
     "output_type": "stream",
     "text": [
      "(60000, 784)\n",
      "(5, 784)\n"
     ]
    }
   ],
   "source": [
    "# 입력층 데이터의 모양(shpae)\n",
    "print(x_train_reshaped.shape)\n",
    "\n",
    "# 테스트를 위해 x_train_reshaped의 앞 5개의 데이터를 가져온다.\n",
    "X = x_train_reshaped[:5]\n",
    "print(X.shape)"
   ]
  },
  {
   "cell_type": "code",
   "execution_count": 4,
   "metadata": {},
   "outputs": [
    {
     "name": "stdout",
     "output_type": "stream",
     "text": [
      "(784, 50)\n",
      "(50,)\n",
      "(5, 50)\n"
     ]
    }
   ],
   "source": [
    "weight_init_std = 0.1\n",
    "input_size = 784\n",
    "hidden_size = 50\n",
    "\n",
    "# 인접 레이어간 관계를 나타내는 파라미터 W를 생성하고 random 초기화\n",
    "W1 = weight_init_std * np.random.randn(input_size, hidden_size)\n",
    "# 바이어스 파라미터 b를 생성하고 zero로 초기화\n",
    "b1 = np.zeros(hidden_size)\n",
    "\n",
    "a1 = np.dot(X,W1)+b1 # 은닉층 출력\n",
    "\n",
    "print(W1.shape)\n",
    "print(b1.shape)\n",
    "print(a1.shape)"
   ]
  },
  {
   "cell_type": "code",
   "execution_count": 5,
   "metadata": {},
   "outputs": [
    {
     "data": {
      "text/plain": [
       "array([ 0.24891886, -0.27683003,  0.93864674, -0.06677098,  0.68454375,\n",
       "       -2.40300206, -1.1892742 , -0.66743814,  0.0500404 , -0.54686695,\n",
       "       -1.25177782, -1.87193539,  0.03267265, -2.27220909, -1.02872131,\n",
       "        0.44366265, -1.52665948, -0.46552785,  0.5479121 , -0.33810227,\n",
       "        0.02432425, -0.25832407,  2.19178118,  0.98334045,  0.16401727,\n",
       "        1.95155559, -0.32519451,  1.33125171,  0.68708373, -1.94980957,\n",
       "       -0.99187038, -1.65139585,  0.10922594, -0.65248281, -0.62576353,\n",
       "        0.63636942, -0.7467172 , -1.20638136, -1.45508432, -0.07313582,\n",
       "        0.71502759, -0.4386922 , -0.9556681 ,  2.42110817, -0.55360519,\n",
       "       -0.3199698 ,  0.10391101,  0.18930519,  0.69639835, -0.53155183])"
      ]
     },
     "execution_count": 5,
     "metadata": {},
     "output_type": "execute_result"
    }
   ],
   "source": [
    "# 첫번째 데이터의 은닉층 출력 확인, 50dim?\n",
    "a1[0]"
   ]
  },
  {
   "cell_type": "markdown",
   "metadata": {},
   "source": [
    "* 활성화 함수"
   ]
  },
  {
   "cell_type": "code",
   "execution_count": 6,
   "metadata": {},
   "outputs": [],
   "source": [
    "# 마크다운 이미지 적용시 git/image폴더에 이동시킨후 상대경로 사용 (./image~~)"
   ]
  },
  {
   "cell_type": "markdown",
   "metadata": {},
   "source": [
    "![img](./image/sigmoid.png)"
   ]
  },
  {
   "cell_type": "markdown",
   "metadata": {},
   "source": [
    "![img](./image/relu.png)"
   ]
  },
  {
   "cell_type": "code",
   "execution_count": 7,
   "metadata": {},
   "outputs": [
    {
     "name": "stdout",
     "output_type": "stream",
     "text": [
      "[0.56191038 0.43123111 0.71882623 0.48331345 0.66475206 0.08294406\n",
      " 0.23338877 0.33907072 0.51250749 0.36659161 0.22239254 0.13331794\n",
      " 0.50816744 0.09345089 0.26333208 0.60913142 0.17848297 0.38567529\n",
      " 0.63365105 0.41627053 0.50608076 0.43577573 0.89950903 0.72777053\n",
      " 0.54091264 0.87561616 0.41941033 0.79104761 0.66531787 0.12457412\n",
      " 0.2705428  0.16092039 0.52727937 0.34243026 0.34847176 0.6539323\n",
      " 0.32153703 0.23034195 0.18922032 0.48172419 0.67151112 0.39205264\n",
      " 0.27774635 0.91842281 0.36502838 0.42068311 0.5259544  0.54718547\n",
      " 0.66738876 0.37015502]\n"
     ]
    }
   ],
   "source": [
    "# sigmoid함수 구현\n",
    "def sigmoid(x):\n",
    "    return 1/(1+np.exp(-x))\n",
    "\n",
    "z1 = sigmoid(a1)\n",
    "print(z1[0]) #sigmoid : 0~1 사이"
   ]
  },
  {
   "cell_type": "code",
   "execution_count": 8,
   "metadata": {},
   "outputs": [
    {
     "name": "stdout",
     "output_type": "stream",
     "text": [
      "go~\n"
     ]
    }
   ],
   "source": [
    "# 단일 레이어 구현 함수\n",
    "def affine_layer_forward(X, W, b):\n",
    "    y = np.dot(X, W)+b\n",
    "    cache = (X, W ,b)\n",
    "    return y, cache\n",
    "\n",
    "print('go~')"
   ]
  },
  {
   "cell_type": "code",
   "execution_count": 9,
   "metadata": {},
   "outputs": [
    {
     "name": "stdout",
     "output_type": "stream",
     "text": [
      "[ 0.03867685 -0.56213752 -0.08822727  0.09725461  0.18551246 -0.35049344\n",
      " -0.00144551 -0.13024252  0.21515841  0.60880285]\n"
     ]
    }
   ],
   "source": [
    "input_size = 784\n",
    "hidden_size = 50\n",
    "output_size = 10\n",
    "\n",
    "W1 = weight_init_std * np.random.randn(input_size, hidden_size)\n",
    "b1 = np.zeros(hidden_size)\n",
    "W2 = weight_init_std * np.random.randn(hidden_size, output_size)\n",
    "b2 = np.zeros(output_size)\n",
    "\n",
    "a1, cache1 = affine_layer_forward(X, W1, b1)\n",
    "z1 = sigmoid(a1)\n",
    "# z1이 다시 두번째 레이어의 입력이 됩니다\n",
    "a2, cache2 = affine_layer_forward(z1, W2, b2)\n",
    "\n",
    "print(a2[0]) # 최종출력이 output_size만큼의 벡터가 되었습니다.\n"
   ]
  },
  {
   "cell_type": "code",
   "execution_count": 10,
   "metadata": {},
   "outputs": [],
   "source": [
    "# a2에 softmax함수 적용 >> 입력X가 10가지 숫자중 하나일 확률\n",
    "def softmax(x):\n",
    "    if x.ndim == 2:\n",
    "        x = x.T\n",
    "        x = x - np.max(x, axis=0)\n",
    "        y = np.exp(x) / np.sum(np.exp(x), axis=0)\n",
    "        return y.T\n",
    "    \n",
    "    x = x - np.max(x) # 오버플로 대책\n",
    "    return np.exp(x) / np.sum(np.exp(x))\n",
    "        "
   ]
  },
  {
   "cell_type": "code",
   "execution_count": 11,
   "metadata": {},
   "outputs": [
    {
     "data": {
      "text/plain": [
       "array([0.09908795, 0.05433635, 0.08727847, 0.10506568, 0.11476006,\n",
       "       0.06714387, 0.09519101, 0.08368741, 0.11821316, 0.17523604])"
      ]
     },
     "execution_count": 11,
     "metadata": {},
     "output_type": "execute_result"
    }
   ],
   "source": [
    "y_hat = softmax(a2)\n",
    "y_hat[0]  # 10개의 숫자 중 하나일 확률이 되었습니다."
   ]
  },
  {
   "cell_type": "markdown",
   "metadata": {},
   "source": [
    "* Loss function"
   ]
  },
  {
   "cell_type": "code",
   "execution_count": 12,
   "metadata": {},
   "outputs": [
    {
     "data": {
      "text/plain": [
       "array([[0., 0., 0., 0., 0., 1., 0., 0., 0., 0.],\n",
       "       [1., 0., 0., 0., 0., 0., 0., 0., 0., 0.],\n",
       "       [0., 0., 0., 0., 1., 0., 0., 0., 0., 0.],\n",
       "       [0., 1., 0., 0., 0., 0., 0., 0., 0., 0.],\n",
       "       [0., 0., 0., 0., 0., 0., 0., 0., 0., 1.]])"
      ]
     },
     "execution_count": 12,
     "metadata": {},
     "output_type": "execute_result"
    }
   ],
   "source": [
    "# 정답 라벨을 One-hot 인코딩하는 함수\n",
    "def _change_ont_hot_label(X, num_category):\n",
    "    T = np.zeros((X.size, num_category))\n",
    "    for idx, row in enumerate(T):\n",
    "        row[X[idx]] = 1\n",
    "    \n",
    "    return T\n",
    "\n",
    "Y_digit = y_train[:5]\n",
    "t = _change_ont_hot_label(Y_digit, 10)\n",
    "t # 정답 라벨의 one-hot 인코딩"
   ]
  },
  {
   "cell_type": "code",
   "execution_count": 13,
   "metadata": {},
   "outputs": [
    {
     "name": "stdout",
     "output_type": "stream",
     "text": [
      "[0.09908795 0.05433635 0.08727847 0.10506568 0.11476006 0.06714387\n",
      " 0.09519101 0.08368741 0.11821316 0.17523604]\n",
      "[0. 0. 0. 0. 0. 1. 0. 0. 0. 0.]\n"
     ]
    }
   ],
   "source": [
    "# 모델의 최종출력 / 정답라벨의 one-hot인코딩 유사?\n",
    "print(y_hat[0]) # 4번째?\n",
    "print(t[0])"
   ]
  },
  {
   "cell_type": "code",
   "execution_count": 14,
   "metadata": {},
   "outputs": [
    {
     "data": {
      "text/plain": [
       "1.0"
      ]
     },
     "execution_count": 14,
     "metadata": {},
     "output_type": "execute_result"
    }
   ],
   "source": [
    "sum(y_hat[0])"
   ]
  },
  {
   "cell_type": "code",
   "execution_count": 15,
   "metadata": {},
   "outputs": [
    {
     "data": {
      "text/plain": [
       "2.2964554591680257"
      ]
     },
     "execution_count": 15,
     "metadata": {},
     "output_type": "execute_result"
    }
   ],
   "source": [
    "def cross_entropy_error(y,t):\n",
    "    if y.ndim == 1:\n",
    "        t = t.reshape(1,t.size)\n",
    "        y = y.reshape(1, y.size)\n",
    "        \n",
    "    # 훈련 데이터가 원-핫 벡터라면 정답 레이블의 인덱스로 반환\n",
    "    if t.size == y.size:\n",
    "        t = t.argmax(axis=1)\n",
    "        \n",
    "    batch_size = y.shape[0]\n",
    "    return -np.sum(np.log(y[np.arange(batch_size),t]))/batch_size\n",
    "\n",
    "Loss = cross_entropy_error(y_hat, t)\n",
    "Loss"
   ]
  },
  {
   "cell_type": "markdown",
   "metadata": {},
   "source": [
    "# 경사하강법   ???????"
   ]
  },
  {
   "cell_type": "code",
   "execution_count": 16,
   "metadata": {},
   "outputs": [
    {
     "data": {
      "text/plain": [
       "array([[ 0.01981759,  0.01086727,  0.01745569,  0.02101314,  0.02295201,\n",
       "        -0.18657123,  0.0190382 ,  0.01673748,  0.02364263,  0.03504721],\n",
       "       [-0.17575523,  0.01093902,  0.01813236,  0.01955958,  0.0212667 ,\n",
       "         0.01510934,  0.01826514,  0.01581641,  0.02133252,  0.03533416],\n",
       "       [ 0.02572291,  0.0084674 ,  0.02126316,  0.02224473, -0.17417656,\n",
       "         0.01229153,  0.01799964,  0.01788846,  0.02006126,  0.02823747],\n",
       "       [ 0.02491215, -0.18915749,  0.01904769,  0.02456074,  0.02085185,\n",
       "         0.01333617,  0.01782244,  0.01757698,  0.02223917,  0.02881029],\n",
       "       [ 0.01987423,  0.01010696,  0.01883014,  0.02217001,  0.0197105 ,\n",
       "         0.01308934,  0.01585269,  0.01922881,  0.0249412 , -0.16380388]])"
      ]
     },
     "execution_count": 16,
     "metadata": {},
     "output_type": "execute_result"
    }
   ],
   "source": [
    "batch_num = y_hat.shape[0]\n",
    "dy = (y_hat - t) / batch_num\n",
    "dy    # softmax값의 출력으로 Loss를 미분한 값"
   ]
  },
  {
   "cell_type": "code",
   "execution_count": 17,
   "metadata": {
    "scrolled": true
   },
   "outputs": [
    {
     "data": {
      "text/plain": [
       "array([[-0.02762736, -0.10668477,  0.06190672,  0.07209476, -0.04868217,\n",
       "        -0.08789535,  0.05781491,  0.05750867,  0.07399622, -0.05243164],\n",
       "       [-0.05008529, -0.05424994,  0.05104241,  0.05889123, -0.04011318,\n",
       "        -0.09875706,  0.04836258,  0.04719936,  0.06118122, -0.02347131],\n",
       "       [-0.03816734, -0.11863976,  0.04955699,  0.0585377 ,  0.00471853,\n",
       "        -0.06649101,  0.0467445 ,  0.04635606,  0.06028604, -0.0429017 ],\n",
       "       [-0.08194458, -0.05958343,  0.05712491,  0.06624512, -0.00740828,\n",
       "        -0.13190484,  0.05498096,  0.05306663,  0.06969616, -0.02027266],\n",
       "       [-0.01839425, -0.06741641,  0.04206729,  0.04968409,  0.01348004,\n",
       "        -0.09295311,  0.03994966,  0.03983832,  0.0523362 , -0.05859183],\n",
       "       [-0.06202224, -0.08901193,  0.0329339 ,  0.03871426,  0.00591614,\n",
       "        -0.04677939,  0.03179299,  0.03022372,  0.0394991 ,  0.01873344],\n",
       "       [-0.08560887, -0.06309678,  0.05397828,  0.06148901, -0.07198307,\n",
       "        -0.04565281,  0.05042599,  0.04917666,  0.06283875, -0.01156714],\n",
       "       [-0.00160988, -0.08928508,  0.04110075,  0.04816817, -0.03614025,\n",
       "        -0.06427145,  0.03842515,  0.03812672,  0.04893122, -0.02344534],\n",
       "       [-0.04266151, -0.12184818,  0.04332064,  0.05050587, -0.04208787,\n",
       "        -0.00978874,  0.04012852,  0.03960671,  0.05030775, -0.00748319],\n",
       "       [-0.02240287, -0.05598717,  0.04926781,  0.05606204, -0.10745267,\n",
       "        -0.065033  ,  0.04566282,  0.04473741,  0.05648935, -0.00134373],\n",
       "       [-0.04076819, -0.03472092,  0.03928754,  0.04470027, -0.05893163,\n",
       "        -0.01238191,  0.03580098,  0.03620914,  0.0459195 , -0.05511478],\n",
       "       [-0.09494708, -0.1186619 ,  0.07657745,  0.08858405, -0.05473421,\n",
       "        -0.12165451,  0.07263106,  0.07043165,  0.0911123 , -0.00933881],\n",
       "       [-0.02553531, -0.10060499,  0.04330408,  0.05048676, -0.04452145,\n",
       "        -0.05905412,  0.0407326 ,  0.03969471,  0.05083271,  0.00466502],\n",
       "       [-0.05062645, -0.03301857,  0.03087062,  0.03528516, -0.03019499,\n",
       "        -0.02959272,  0.02890957,  0.02832352,  0.03641963, -0.01637577],\n",
       "       [-0.08426626, -0.03646914,  0.05603223,  0.064103  , -0.04765535,\n",
       "        -0.11790779,  0.05354601,  0.0514955 ,  0.06696511, -0.00584332],\n",
       "       [ 0.00502356, -0.07081239,  0.03659408,  0.04266971, -0.04846263,\n",
       "        -0.08259302,  0.03459389,  0.03365113,  0.04315769,  0.00617798],\n",
       "       [-0.07652284, -0.02191717,  0.03667989,  0.0422934 ,  0.00374074,\n",
       "        -0.0974759 ,  0.03580544,  0.03398232,  0.04503206, -0.00161794],\n",
       "       [-0.08637608, -0.04682484,  0.05350395,  0.06145626, -0.02709929,\n",
       "        -0.06633863,  0.05030934,  0.04961091,  0.06436558, -0.0526072 ],\n",
       "       [-0.0418057 , -0.09567013,  0.05481667,  0.06393794, -0.03038277,\n",
       "        -0.10949149,  0.05217123,  0.0507184 ,  0.06582491, -0.01011906],\n",
       "       [-0.0456717 , -0.08122768,  0.04487309,  0.05154397, -0.06642289,\n",
       "        -0.03140353,  0.04164578,  0.04087278,  0.05187649, -0.00608629],\n",
       "       [-0.04696174, -0.08710611,  0.05138367,  0.05968292, -0.02978959,\n",
       "        -0.035916  ,  0.04753193,  0.04783875,  0.06148109, -0.06814493],\n",
       "       [-0.04291427, -0.05350735,  0.04833477,  0.05500615, -0.09267472,\n",
       "        -0.07845282,  0.04543282,  0.0437652 ,  0.05568845,  0.01932177],\n",
       "       [-0.01484386, -0.06350267,  0.04560693,  0.05230485, -0.08584944,\n",
       "        -0.07743406,  0.04266142,  0.04154227,  0.05278188,  0.00673268],\n",
       "       [-0.04263495, -0.08923713,  0.05759622,  0.06712123, -0.02729733,\n",
       "        -0.10479926,  0.05446338,  0.05357216,  0.06953262, -0.03831695],\n",
       "       [-0.08083503, -0.08268088,  0.05976818,  0.06944015, -0.01166578,\n",
       "        -0.10258111,  0.05685853,  0.05553188,  0.072463  , -0.03629894],\n",
       "       [-0.00987276, -0.0304432 ,  0.02493562,  0.02873461, -0.03446088,\n",
       "        -0.05052036,  0.02348889,  0.02292348,  0.02942651, -0.0042119 ],\n",
       "       [-0.06729002, -0.02264065,  0.03540403,  0.0400183 , -0.04993105,\n",
       "        -0.04296031,  0.03336199,  0.03214814,  0.04125352,  0.00063604],\n",
       "       [-0.08237962, -0.0570256 ,  0.06796774,  0.07781118, -0.07330692,\n",
       "        -0.12393955,  0.06434402,  0.06243551,  0.08064804, -0.0165548 ],\n",
       "       [-0.04292097, -0.09239376,  0.04533457,  0.05326524, -0.00439087,\n",
       "        -0.10295706,  0.04366852,  0.04202426,  0.05498651,  0.00338357],\n",
       "       [-0.07213307, -0.069311  ,  0.05951913,  0.06822508, -0.06975695,\n",
       "        -0.09101174,  0.05614261,  0.05448276,  0.07006765, -0.00622447],\n",
       "       [-0.08676537, -0.06401662,  0.05248855,  0.05988606, -0.06021113,\n",
       "        -0.0226469 ,  0.04863183,  0.0480667 ,  0.06138532, -0.03681844],\n",
       "       [-0.00331262, -0.07236357,  0.05472628,  0.0625244 , -0.11972248,\n",
       "        -0.04751899,  0.04993276,  0.05004453,  0.06284857, -0.03715888],\n",
       "       [-0.03692964, -0.08225527,  0.05384914,  0.06194846, -0.08345838,\n",
       "        -0.10872252,  0.05111977,  0.04894568,  0.06269348,  0.03280929],\n",
       "       [-0.09356896, -0.09794733,  0.06542583,  0.07633892,  0.004785  ,\n",
       "        -0.13231904,  0.06282573,  0.06086281,  0.07988725, -0.02629021],\n",
       "       [-0.05466024, -0.11040211,  0.04453005,  0.0515784 , -0.0564701 ,\n",
       "        -0.06489539,  0.04249334,  0.04011254,  0.05132158,  0.05639192],\n",
       "       [ 0.01383801, -0.08324682,  0.04137664,  0.0477828 , -0.0933026 ,\n",
       "        -0.08719675,  0.03889323,  0.03742136,  0.04726746,  0.03716667],\n",
       "       [-0.03521792, -0.1215856 ,  0.05971764,  0.06987507, -0.03358318,\n",
       "        -0.09480329,  0.05629616,  0.05536912,  0.07153332, -0.02760132],\n",
       "       [-0.04026207, -0.12027858,  0.06675918,  0.07769591, -0.05332218,\n",
       "        -0.0970671 ,  0.06261091,  0.06178607,  0.07953421, -0.03745634],\n",
       "       [ 0.00774245, -0.10319004,  0.04571214,  0.05339514, -0.05961536,\n",
       "        -0.05954503,  0.04236623,  0.04219629,  0.05367877, -0.02274059],\n",
       "       [-0.08659285, -0.11028732,  0.06890907,  0.0802938 , -0.01358292,\n",
       "        -0.12753238,  0.06579463,  0.06391251,  0.08341557, -0.02433011],\n",
       "       [-0.04208149, -0.05278931,  0.05465535,  0.0627897 , -0.06639516,\n",
       "        -0.11531413,  0.05177349,  0.05024145,  0.0648059 , -0.0076858 ],\n",
       "       [-0.03350894, -0.13730014,  0.05633997,  0.06574504, -0.05613715,\n",
       "        -0.06182674,  0.05272747,  0.05170339,  0.06608346, -0.00382635],\n",
       "       [-0.03641159, -0.04845888,  0.04225586,  0.04835133, -0.05850577,\n",
       "        -0.02245277,  0.03869249,  0.03898059,  0.04953736, -0.05198863],\n",
       "       [-0.10409998, -0.02992666,  0.05457177,  0.06225607, -0.04203635,\n",
       "        -0.12612126,  0.05269204,  0.04991134,  0.06518758,  0.01756546],\n",
       "       [-0.00608568, -0.11692404,  0.03534246,  0.04199892, -0.01675531,\n",
       "        -0.0534034 ,  0.03344516,  0.03261385,  0.04197334,  0.00779469],\n",
       "       [ 0.02297029, -0.10518094,  0.04091356,  0.0478366 , -0.06822758,\n",
       "        -0.04357736,  0.03757731,  0.0376384 ,  0.047447  , -0.01739728],\n",
       "       [-0.05830155, -0.03610643,  0.0578036 ,  0.06587201, -0.07910387,\n",
       "        -0.08577001,  0.05399379,  0.05318112,  0.06822873, -0.03979738],\n",
       "       [-0.00315541, -0.05164715,  0.04198323,  0.04807845, -0.0858923 ,\n",
       "        -0.07274085,  0.03907722,  0.03831529,  0.04856332, -0.0025818 ],\n",
       "       [-0.00616804, -0.09966613,  0.04026388,  0.04709037, -0.04272098,\n",
       "        -0.0252169 ,  0.03699957,  0.03725312,  0.04732342, -0.03515831],\n",
       "       [-0.09589374, -0.04457174,  0.04247247,  0.04855817, -0.02314997,\n",
       "        -0.03898601,  0.04013493,  0.0389723 ,  0.05050068, -0.0180371 ]])"
      ]
     },
     "execution_count": 17,
     "metadata": {},
     "output_type": "execute_result"
    }
   ],
   "source": [
    "dW2 = np.dot(z1.T, dy)    \n",
    "dW2"
   ]
  },
  {
   "cell_type": "code",
   "execution_count": 18,
   "metadata": {},
   "outputs": [],
   "source": [
    "dW2 = np.dot(z1.T, dy)\n",
    "db2 = np.sum(dy, axis=0)"
   ]
  },
  {
   "cell_type": "code",
   "execution_count": 19,
   "metadata": {},
   "outputs": [],
   "source": [
    "def sigmoid_grad(x):\n",
    "    return (1.0 - sigmoid(x)) * sigmoid(x)"
   ]
  },
  {
   "cell_type": "code",
   "execution_count": 20,
   "metadata": {},
   "outputs": [],
   "source": [
    "dz1 = np.dot(dy, W2.T)\n",
    "da1 = sigmoid_grad(a1) * dz1\n",
    "dW1 = np.dot(X.T, da1)\n",
    "db1 = np.sum(dz1, axis=0)"
   ]
  },
  {
   "cell_type": "code",
   "execution_count": 21,
   "metadata": {},
   "outputs": [],
   "source": [
    "learning_rate = 0.1\n",
    "\n",
    "def update_params(W1, b1, W2, b2, dW1, db1, dW2, db2, learning_rate):\n",
    "    W1 = W1 - learning_rate*dW1\n",
    "    b1 = b1 - learning_rate*db1\n",
    "    W2 = W2 - learning_rate*dW2\n",
    "    b2 = b2 - learning_rate*db2\n",
    "    return W1, b1, W2, b2"
   ]
  },
  {
   "cell_type": "markdown",
   "metadata": {},
   "source": [
    "# 오차역전파법"
   ]
  },
  {
   "cell_type": "code",
   "execution_count": 22,
   "metadata": {},
   "outputs": [],
   "source": [
    "def affine_layer_backward(dy, cache):\n",
    "    X, W, b = cache\n",
    "    dX = np.dot(dy, W.T)\n",
    "    dW = np.dot(X.T, dy)\n",
    "    db = np.sum(dy, axis=0)\n",
    "    return dX, dW, db"
   ]
  },
  {
   "cell_type": "code",
   "execution_count": 23,
   "metadata": {},
   "outputs": [
    {
     "name": "stdout",
     "output_type": "stream",
     "text": [
      "[[0.07361473 0.08414921 0.13880562 0.10795557 0.11163094 0.14466404\n",
      "  0.0854113  0.07469427 0.10116371 0.07791061]\n",
      " [0.07559977 0.09413598 0.14439371 0.08829832 0.13004981 0.14723349\n",
      "  0.08773518 0.07375454 0.09171713 0.06708207]\n",
      " [0.10237207 0.08615624 0.13549822 0.09092507 0.1298368  0.14472654\n",
      "  0.09323642 0.0634908  0.0924549  0.06130293]\n",
      " [0.09272973 0.07045045 0.14387609 0.08636812 0.14428002 0.12739909\n",
      "  0.09095328 0.06798296 0.10301871 0.07294155]\n",
      " [0.08188269 0.10374418 0.13663444 0.09054921 0.13003374 0.14705146\n",
      "  0.08616814 0.07183905 0.09432691 0.05777018]]\n",
      "[[0. 0. 0. 0. 0. 1. 0. 0. 0. 0.]\n",
      " [1. 0. 0. 0. 0. 0. 0. 0. 0. 0.]\n",
      " [0. 0. 0. 0. 1. 0. 0. 0. 0. 0.]\n",
      " [0. 1. 0. 0. 0. 0. 0. 0. 0. 0.]\n",
      " [0. 0. 0. 0. 0. 0. 0. 0. 0. 1.]]\n",
      "Loss:  2.4122496700935514\n"
     ]
    }
   ],
   "source": [
    "# 파라미터 초기화\n",
    "W1 = weight_init_std * np.random.randn(input_size, hidden_size)\n",
    "b1 = np.zeros(hidden_size)\n",
    "W2 = weight_init_std * np.random.randn(hidden_size, output_size)\n",
    "b2 = np.zeros(output_size)\n",
    "\n",
    "# Forward Propagation\n",
    "a1, cache1 = affine_layer_forward(X, W1, b1)\n",
    "z1 = sigmoid(a1)\n",
    "a2, cache2 = affine_layer_forward(z1, W2, b2)\n",
    "\n",
    "# 추론과 오차(Loss) 계산\n",
    "y_hat = softmax(a2)\n",
    "t = _change_ont_hot_label(Y_digit, 10)   # 정답 One-hot 인코딩\n",
    "Loss = cross_entropy_error(y_hat, t)\n",
    "\n",
    "print(y_hat)\n",
    "print(t)\n",
    "print('Loss: ', Loss)\n",
    "        \n",
    "dy = (y_hat - t) / X.shape[0]\n",
    "dz1, dW2, db2 = affine_layer_backward(dy, cache2)\n",
    "da1 = sigmoid_grad(a1) * dz1\n",
    "dX, dW1, db1 = affine_layer_backward(da1, cache1)\n",
    "\n",
    "# 경사하강법을 통한 파라미터 업데이트    \n",
    "learning_rate = 0.1\n",
    "W1, b1, W2, b2 = update_params(W1, b1, W2, b2, dW1, db1, dW2, db2, learning_rate)"
   ]
  },
  {
   "cell_type": "markdown",
   "metadata": {},
   "source": [
    "* 업데이트 5스텝만 실행"
   ]
  },
  {
   "cell_type": "code",
   "execution_count": 24,
   "metadata": {},
   "outputs": [],
   "source": [
    "# 파라미터 초기화 후\n",
    "def train_step(X, Y, W1, b1, W2, b2, learning_rate=0.1, verbose=False):\n",
    "    a1, cache1 = affine_layer_forward(X, W1, b1)\n",
    "    z1 = sigmoid(a1)\n",
    "    a2, cache2 = affine_layer_forward(z1, W2, b2)\n",
    "    y_hat = softmax(a2)\n",
    "    t = _change_ont_hot_label(Y, 10)\n",
    "    Loss = cross_entropy_error(y_hat, t)\n",
    "\n",
    "    if verbose:\n",
    "        print('---------')\n",
    "        print(y_hat)\n",
    "        print(t)\n",
    "        print('Loss: ', Loss)\n",
    "        \n",
    "    dy = (y_hat - t) / X.shape[0]\n",
    "    dz1, dW2, db2 = affine_layer_backward(dy, cache2)\n",
    "    da1 = sigmoid_grad(a1) * dz1\n",
    "    dX, dW1, db1 = affine_layer_backward(da1, cache1)\n",
    "    \n",
    "    W1, b1, W2, b2 = update_params(W1, b1, W2, b2, dW1, db1, dW2, db2, learning_rate)\n",
    "    \n",
    "    return W1, b1, W2, b2, Loss"
   ]
  },
  {
   "cell_type": "code",
   "execution_count": 25,
   "metadata": {},
   "outputs": [
    {
     "name": "stdout",
     "output_type": "stream",
     "text": [
      "---------\n",
      "[[0.08778972 0.10052678 0.11131572 0.09272412 0.12214961 0.16425029\n",
      "  0.07457606 0.06644913 0.08659881 0.09361975]\n",
      " [0.09467122 0.1117014  0.11472708 0.07523424 0.14296803 0.16048919\n",
      "  0.07612165 0.06546523 0.07780854 0.08081342]\n",
      " [0.1201941  0.10181286 0.10630584 0.07719661 0.15195235 0.15337972\n",
      "  0.08015927 0.05594705 0.07838368 0.07466852]\n",
      " [0.10985157 0.08725727 0.11475554 0.07375619 0.15983671 0.13904583\n",
      "  0.07865215 0.06022306 0.08775093 0.08887073]\n",
      " [0.09555099 0.12267135 0.10864584 0.07726079 0.14418923 0.15809235\n",
      "  0.07418705 0.0640488  0.08137344 0.07398017]]\n",
      "[[0. 0. 0. 0. 0. 1. 0. 0. 0. 0.]\n",
      " [1. 0. 0. 0. 0. 0. 0. 0. 0. 0.]\n",
      " [0. 0. 0. 0. 1. 0. 0. 0. 0. 0.]\n",
      " [0. 1. 0. 0. 0. 0. 0. 0. 0. 0.]\n",
      " [0. 0. 0. 0. 0. 0. 0. 0. 0. 1.]]\n",
      "Loss:  2.2181499922953334\n",
      "---------\n",
      "[[0.10032942 0.11475962 0.09152072 0.07980251 0.12839256 0.17941862\n",
      "  0.06499247 0.05867687 0.07428062 0.10782658]\n",
      " [0.11341242 0.12655304 0.09364482 0.06428242 0.15085482 0.16813749\n",
      "  0.06597602 0.05770156 0.06626339 0.093174  ]\n",
      " [0.13502596 0.1148782  0.08576601 0.06576869 0.17050949 0.15634312\n",
      "  0.06891719 0.04899407 0.06671542 0.08708186]\n",
      " [0.12449802 0.10302541 0.09404435 0.06315986 0.16978667 0.14587207\n",
      "  0.06798691 0.05299926 0.0749977  0.10362974]\n",
      " [0.10688181 0.13866275 0.0889248  0.06620405 0.15360712 0.16368598\n",
      "  0.06392727 0.05680581 0.07053798 0.09076243]]\n",
      "[[0. 0. 0. 0. 0. 1. 0. 0. 0. 0.]\n",
      " [1. 0. 0. 0. 0. 0. 0. 0. 0. 0.]\n",
      " [0. 0. 0. 0. 1. 0. 0. 0. 0. 0.]\n",
      " [0. 1. 0. 0. 0. 0. 0. 0. 0. 0.]\n",
      " [0. 0. 0. 0. 0. 0. 0. 0. 0. 1.]]\n",
      "Loss:  2.0672023368665617\n",
      "---------\n",
      "[[0.11115023 0.12670048 0.07673606 0.06912627 0.13159606 0.19162275\n",
      "  0.05685763 0.0518076  0.06411922 0.1202837 ]\n",
      " [0.13152686 0.1386048  0.07807518 0.05532734 0.15517694 0.1721725\n",
      "  0.05745146 0.05088074 0.05686965 0.10391453]\n",
      " [0.14692413 0.12533495 0.07077514 0.05650192 0.186407   0.15592928\n",
      "  0.05961226 0.04297011 0.05726854 0.09827667]\n",
      " [0.13665129 0.11745404 0.0787606  0.05449172 0.17571827 0.14963008\n",
      "  0.05908724 0.04668721 0.0645992  0.11692035]\n",
      " [0.11593087 0.15167029 0.074432   0.05718623 0.15960374 0.16590169\n",
      "  0.05540959 0.05045391 0.06164225 0.10776942]]\n",
      "[[0. 0. 0. 0. 0. 1. 0. 0. 0. 0.]\n",
      " [1. 0. 0. 0. 0. 0. 0. 0. 0. 0.]\n",
      " [0. 0. 0. 0. 1. 0. 0. 0. 0. 0.]\n",
      " [0. 1. 0. 0. 0. 0. 0. 0. 0. 0.]\n",
      " [0. 0. 0. 0. 0. 0. 0. 0. 0. 1.]]\n",
      "Loss:  1.9460126383108622\n",
      "---------\n",
      "[[0.12030867 0.13644207 0.06539131 0.06036638 0.13279738 0.20208199\n",
      "  0.05005551 0.04590231 0.05579069 0.1308637 ]\n",
      " [0.14886584 0.14803723 0.06623966 0.04804382 0.15716023 0.17408175\n",
      "  0.0503821  0.04504593 0.04924765 0.1128958 ]\n",
      " [0.15613334 0.13339966 0.0595149  0.0490272  0.20058024 0.1537344\n",
      "  0.05200021 0.03787925 0.04965168 0.10807911]\n",
      " [0.1464866  0.13047514 0.06716072 0.04744555 0.17899838 0.15162898\n",
      "  0.0517542  0.04131517 0.05616285 0.12857241]\n",
      " [0.12288    0.16190816 0.06343322 0.04984504 0.16329485 0.16620556\n",
      "  0.04839488 0.04500947 0.05434765 0.12468116]]\n",
      "[[0. 0. 0. 0. 0. 1. 0. 0. 0. 0.]\n",
      " [1. 0. 0. 0. 0. 0. 0. 0. 0. 0.]\n",
      " [0. 0. 0. 0. 1. 0. 0. 0. 0. 0.]\n",
      " [0. 1. 0. 0. 0. 0. 0. 0. 0. 0.]\n",
      " [0. 0. 0. 0. 0. 0. 0. 0. 0. 1.]]\n",
      "Loss:  1.8457801126348556\n",
      "---------\n",
      "[[0.12794543 0.14422205 0.0564965  0.05316727 0.1327397  0.21165551\n",
      "  0.04438631 0.04088182 0.04895281 0.13955262]\n",
      " [0.16539985 0.15518789 0.05703382 0.04210295 0.15768279 0.17482729\n",
      "  0.04453083 0.04010609 0.0430373  0.12009119]\n",
      " [0.16298802 0.13940927 0.05085109 0.04297444 0.21378776 0.15071228\n",
      "  0.04577276 0.0336119  0.04348275 0.11640971]\n",
      " [0.15428212 0.14218468 0.0581546  0.04170405 0.18061906 0.15271151\n",
      "  0.04572063 0.03678814 0.04929708 0.13853813]\n",
      " [0.12798187 0.16974442 0.0548699  0.04383764 0.16549223 0.16551038\n",
      "  0.04260971 0.04037886 0.04833343 0.14124157]]\n",
      "[[0. 0. 0. 0. 0. 1. 0. 0. 0. 0.]\n",
      " [1. 0. 0. 0. 0. 0. 0. 0. 0. 0.]\n",
      " [0. 0. 0. 0. 1. 0. 0. 0. 0. 0.]\n",
      " [0. 1. 0. 0. 0. 0. 0. 0. 0. 0.]\n",
      " [0. 0. 0. 0. 0. 0. 0. 0. 0. 1.]]\n",
      "Loss:  1.760573655425053\n"
     ]
    }
   ],
   "source": [
    "X = x_train_reshaped[:5]\n",
    "Y = y_train[:5]\n",
    "\n",
    "# train_step을 다섯 번 반복 돌립니다.\n",
    "for i in range(5):\n",
    "    W1, b1, W2, b2, _ = train_step(X, Y, W1, b1, W2, b2, learning_rate=0.1, verbose=True)"
   ]
  },
  {
   "cell_type": "markdown",
   "metadata": {},
   "source": [
    "# 추론과정구현과 정확도(Accuracy)계산"
   ]
  },
  {
   "cell_type": "code",
   "execution_count": 26,
   "metadata": {},
   "outputs": [],
   "source": [
    "def predict(W1, b1, W2, b2, X):\n",
    "    a1 = np.dot(X, W1) + b1\n",
    "    z1 = sigmoid(a1)\n",
    "    a2 = np.dot(z1, W2) + b2\n",
    "    y = softmax(a2)\n",
    "\n",
    "    return y"
   ]
  },
  {
   "cell_type": "code",
   "execution_count": 27,
   "metadata": {},
   "outputs": [
    {
     "data": {
      "text/plain": [
       "array([0.13423989, 0.15033829, 0.04939477, 0.04721703, 0.13190561,\n",
       "       0.22088857, 0.03964919, 0.03662505, 0.04330744, 0.14643416])"
      ]
     },
     "execution_count": 27,
     "metadata": {},
     "output_type": "execute_result"
    }
   ],
   "source": [
    "# X = x_train[:100] 에 대해 모델 추론을 시도합니다. \n",
    "\n",
    "X = x_train_reshaped[:100]\n",
    "Y = y_test[:100]\n",
    "result = predict(W1, b1, W2, b2, X)\n",
    "result[0]"
   ]
  },
  {
   "cell_type": "code",
   "execution_count": 28,
   "metadata": {},
   "outputs": [],
   "source": [
    "def accuracy(W1, b1, W2, b2, x, y):\n",
    "    y_hat = predict(W1, b1, W2, b2, x)\n",
    "    y_hat = np.argmax(y_hat, axis=1)\n",
    "   # t = np.argmax(t, axis=1)\n",
    "\n",
    "    accuracy = np.sum(y_hat == y) / float(x.shape[0])\n",
    "    return accuracy"
   ]
  },
  {
   "cell_type": "code",
   "execution_count": 29,
   "metadata": {},
   "outputs": [
    {
     "name": "stdout",
     "output_type": "stream",
     "text": [
      "[0.13423989 0.15033829 0.04939477 0.04721703 0.13190561 0.22088857\n",
      " 0.03964919 0.03662505 0.04330744 0.14643416]\n",
      "[0. 0. 0. 0. 0. 0. 0. 1. 0. 0.]\n",
      "0.11\n"
     ]
    }
   ],
   "source": [
    "acc = accuracy(W1, b1, W2, b2, X, Y)\n",
    "\n",
    "t = _change_ont_hot_label(Y, 10)\n",
    "print(result[0])\n",
    "print(t[0])\n",
    "print(acc)"
   ]
  },
  {
   "cell_type": "markdown",
   "metadata": {},
   "source": [
    "# 전체 학습과정 수행"
   ]
  },
  {
   "cell_type": "code",
   "execution_count": 30,
   "metadata": {},
   "outputs": [],
   "source": [
    "def init_params(input_size, hidden_size, output_size, weight_init_std=0.01):\n",
    "\n",
    "    W1 = weight_init_std * np.random.randn(input_size, hidden_size)\n",
    "    b1 = np.zeros(hidden_size)\n",
    "    W2 = weight_init_std * np.random.randn(hidden_size, output_size)\n",
    "    b2 = np.zeros(output_size)\n",
    "\n",
    "    print(W1.shape)\n",
    "    print(b1.shape)\n",
    "    print(W2.shape)\n",
    "    print(b2.shape)\n",
    "    \n",
    "    return W1, b1, W2, b2"
   ]
  },
  {
   "cell_type": "code",
   "execution_count": 33,
   "metadata": {},
   "outputs": [
    {
     "name": "stdout",
     "output_type": "stream",
     "text": [
      "(784, 50)\n",
      "(50,)\n",
      "(50, 10)\n",
      "(10,)\n",
      "Loss:  2.295045732063917\n",
      "train acc, test acc | 0.10218333333333333, 0.101\n",
      "Loss:  0.842175538747245\n",
      "train acc, test acc | 0.7971333333333334, 0.7991\n"
     ]
    }
   ],
   "source": [
    "# 하이퍼파라미터\n",
    "iters_num = 1000  # 반복 횟수를 적절히 설정한다.\n",
    "train_size = x_train.shape[0]\n",
    "batch_size = 100   # 미니배치 크기\n",
    "learning_rate = 0.1\n",
    "\n",
    "train_loss_list = []\n",
    "train_acc_list = []\n",
    "test_acc_list = []\n",
    "\n",
    "# 1에폭당 반복 수\n",
    "iter_per_epoch = max(train_size / batch_size, 1)\n",
    "\n",
    "W1, b1, W2, b2 = init_params(784, 50, 10)\n",
    "\n",
    "for i in range(iters_num):\n",
    "    # 미니배치 획득\n",
    "    batch_mask = np.random.choice(train_size, batch_size)\n",
    "    x_batch = x_train_reshaped[batch_mask]\n",
    "    y_batch = y_train[batch_mask]\n",
    "    \n",
    "    W1, b1, W2, b2, Loss = train_step(x_batch, y_batch, W1, b1, W2, b2, learning_rate=0.1, verbose=False)\n",
    "\n",
    "    # 학습 경과 기록\n",
    "    train_loss_list.append(Loss)\n",
    "    \n",
    "    # 1에폭당 정확도 계산\n",
    "    if i % iter_per_epoch == 0:\n",
    "        print('Loss: ', Loss)\n",
    "        train_acc = accuracy(W1, b1, W2, b2, x_train_reshaped, y_train)\n",
    "        test_acc = accuracy(W1, b1, W2, b2, x_test_reshaped, y_test)\n",
    "        train_acc_list.append(train_acc)\n",
    "        test_acc_list.append(test_acc)\n",
    "        print(\"train acc, test acc | \" + str(train_acc) + \", \" + str(test_acc))"
   ]
  },
  {
   "cell_type": "code",
   "execution_count": 34,
   "metadata": {},
   "outputs": [
    {
     "data": {
      "image/png": "[encoded data removed]",
      "text/plain": [
       "<Figure size 864x432 with 1 Axes>"
      ]
     },
     "metadata": {
      "needs_background": "light"
     },
     "output_type": "display_data"
    }
   ],
   "source": [
    "from matplotlib.pylab import rcParams\n",
    "rcParams['figure.figsize'] = 12, 6 \n",
    "\n",
    "# Accuracy 그래프 그리기\n",
    "markers = {'train': 'o', 'test': 's'}\n",
    "x = np.arange(len(train_acc_list))\n",
    "plt.plot(x, train_acc_list, label='train acc')\n",
    "plt.plot(x, test_acc_list, label='test acc', linestyle='--')\n",
    "plt.xlabel(\"epochs\")\n",
    "plt.ylabel(\"accuracy\")\n",
    "plt.ylim(0, 1.0)\n",
    "plt.legend(loc='lower right')\n",
    "plt.show()"
   ]
  },
  {
   "cell_type": "code",
   "execution_count": 35,
   "metadata": {},
   "outputs": [
    {
     "data": {
      "image/png": "[encoded data removed]",
      "text/plain": [
       "<Figure size 864x432 with 1 Axes>"
      ]
     },
     "metadata": {
      "needs_background": "light"
     },
     "output_type": "display_data"
    }
   ],
   "source": [
    "# Loss 그래프 그리기\n",
    "x = np.arange(len(train_loss_list))\n",
    "plt.plot(x, train_loss_list, label='train acc')\n",
    "plt.xlabel(\"epochs\")\n",
    "plt.ylabel(\"Loss\")\n",
    "plt.ylim(0, 3.0)\n",
    "plt.legend(loc='best')\n",
    "plt.show()"
   ]
  },
  {
   "cell_type": "code",
   "execution_count": null,
   "metadata": {},
   "outputs": [],
   "source": []
  }
 ],
 "metadata": {
  "kernelspec": {
   "display_name": "Python 3",
   "language": "python",
   "name": "python3"
  },
  "language_info": {
   "codemirror_mode": {
    "name": "ipython",
    "version": 3
   },
   "file_extension": ".py",
   "mimetype": "text/x-python",
   "name": "python",
   "nbconvert_exporter": "python",
   "pygments_lexer": "ipython3",
   "version": "3.7.9"
  }
 },
 "nbformat": 4,
 "nbformat_minor": 4
}
