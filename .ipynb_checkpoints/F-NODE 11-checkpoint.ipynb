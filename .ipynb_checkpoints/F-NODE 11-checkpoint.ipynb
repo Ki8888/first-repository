{
 "cells": [
  {
   "cell_type": "markdown",
   "metadata": {},
   "source": [
    "# 텍스트 데이터 다루기"
   ]
  },
  {
   "cell_type": "code",
   "execution_count": 2,
   "metadata": {},
   "outputs": [
    {
     "name": "stdout",
     "output_type": "stream",
     "text": [
      "Welcome!\n",
      "You're welcome.\n"
     ]
    },
    {
     "data": {
      "text/plain": [
       "str"
      ]
     },
     "execution_count": 2,
     "metadata": {},
     "output_type": "execute_result"
    }
   ],
   "source": [
    "my_str = 'Welcome!'\n",
    "ur_str = \"You're welcome.\"\n",
    "\n",
    "print(my_str)\n",
    "print(ur_str)\n",
    "\n",
    "#- 아래 주석을 제거해 각 변수의 자료형을 확인해보세요 :)\n",
    "type(my_str);\n",
    "type(ur_str)"
   ]
  },
  {
   "cell_type": "markdown",
   "metadata": {},
   "source": [
    "* 인코딩 (encoding): 문자열을 바이트로 변환하는 과정<br>\n",
    "* 디코딩 (decoding) : 바이트를 문자열로 변환하는 과정"
   ]
  },
  {
   "cell_type": "code",
   "execution_count": 3,
   "metadata": {},
   "outputs": [
    {
     "name": "stdout",
     "output_type": "stream",
     "text": [
      "97\n",
      "65\n",
      "a\n",
      "44032\n",
      "가\n"
     ]
    }
   ],
   "source": [
    "# ord() : 해당 문자에 대응하는 유니코드 숫자를 반환합니다.\n",
    "# chr() : 해당 유니코드 숫자에 대응하는 문자를 반환합니다.\n",
    "print(ord('a'))    \n",
    "print(ord('A'))\n",
    "print(chr(97))\n",
    "print(ord('가'))\n",
    "print(chr(0xAC00))   \n",
    "#- 0xAC00은 44032의 16진수 표현입니다."
   ]
  },
  {
   "cell_type": "code",
   "execution_count": null,
   "metadata": {},
   "outputs": [],
   "source": [
    "# 11-2 마지막부분"
   ]
  },
  {
   "cell_type": "markdown",
   "metadata": {},
   "source": [
    "## 문자열 다루기"
   ]
  },
  {
   "cell_type": "markdown",
   "metadata": {},
   "source": [
    "* 이스케이프문자( \\\\ ) : 입력할 수 없는 문자를 입력하고 싶을때 사용"
   ]
  },
  {
   "cell_type": "code",
   "execution_count": 5,
   "metadata": {},
   "outputs": [
    {
     "name": "stdout",
     "output_type": "stream",
     "text": [
      "사회적\n",
      "거리두기\n",
      "--------------------------\n",
      "사회적\t거리두기\n",
      "--------------------------\n",
      "오늘부터 '사회적 거리두기'\n"
     ]
    }
   ],
   "source": [
    "#- 줄 바꿈\n",
    "print(\"사회적\\n거리두기\")\n",
    "print('--------------------------')\n",
    "\n",
    "#- 탭(tab)\n",
    "print(\"사회적\\t거리두기\")\n",
    "print('--------------------------')\n",
    "\n",
    "#- 작은따옴표 포함\n",
    "print('오늘부터 \\'사회적 거리두기\\'')"
   ]
  },
  {
   "cell_type": "markdown",
   "metadata": {},
   "source": [
    "* 원시 문자열 : 이스케이프 문자 무시 : 문자열시작 \"앞에 r 붙임"
   ]
  },
  {
   "cell_type": "code",
   "execution_count": 6,
   "metadata": {},
   "outputs": [
    {
     "name": "stdout",
     "output_type": "stream",
     "text": [
      "Please don't touch it\n",
      "Please don\\'t touch it\n"
     ]
    }
   ],
   "source": [
    "print('Please don\\'t touch it')\n",
    "print(r'Please don\\'t touch it')"
   ]
  },
  {
   "cell_type": "markdown",
   "metadata": {},
   "source": [
    "* startswith : 특정키워드로 시작하는 데이터만 찾기"
   ]
  },
  {
   "cell_type": "code",
   "execution_count": 7,
   "metadata": {},
   "outputs": [],
   "source": [
    "EmployeeID = ['OB94382', 'OW34723', 'OB32308', 'OB83461', \n",
    "                                  'OB74830', 'OW37402', 'OW11235', 'OB82345'] "
   ]
  },
  {
   "cell_type": "code",
   "execution_count": 8,
   "metadata": {},
   "outputs": [
    {
     "data": {
      "text/plain": [
       "['OB94382', 'OB32308', 'OB83461', 'OB74830', 'OB82345']"
      ]
     },
     "execution_count": 8,
     "metadata": {},
     "output_type": "execute_result"
    }
   ],
   "source": [
    "# 'OB'로 시작하는 직원 ID를 다 찾아봅니다\n",
    "Production_Employee = [P for P in EmployeeID if P.startswith('OB')]\n",
    "Production_Employee"
   ]
  },
  {
   "cell_type": "markdown",
   "metadata": {},
   "source": [
    "* endswith : 확장자로 찾기?"
   ]
  },
  {
   "cell_type": "code",
   "execution_count": 11,
   "metadata": {},
   "outputs": [
    {
     "data": {
      "text/plain": [
       "['스크린샷, 2020-09-26 10-13-03.png',\n",
       " '스크린샷, 2020-09-26 11-59-39.png',\n",
       " '스크린샷, 2020-10-14 10-56-35.png',\n",
       " '스크린샷, 2020-09-26 10-13-21.png',\n",
       " '스크린샷, 2020-09-20 00-43-35.png',\n",
       " 'sklearn.png',\n",
       " '스크린샷, 2020-09-26 10-20-40.png',\n",
       " '스크린샷, 2020-10-10 15-16-39.png',\n",
       " '스크린샷, 2020-10-16 21-18-19.png',\n",
       " 'append.png',\n",
       " '스크린샷, 2020-10-10 15-12-11.png',\n",
       " '스크린샷, 2020-10-16 22-01-04.png',\n",
       " '스크린샷, 2020-09-26 14-10-18.png',\n",
       " '스크린샷, 2020-09-26 15-41-46.png',\n",
       " '스크린샷, 2020-10-14 21-07-00.png',\n",
       " '스크린샷, 2020-09-26 14-08-50.png']"
      ]
     },
     "execution_count": 11,
     "metadata": {},
     "output_type": "execute_result"
    }
   ],
   "source": [
    "import os\n",
    "image_dir_path = os.getenv('HOME') + '/Pictures'\n",
    "photo = os.listdir(image_dir_path)\n",
    "photo"
   ]
  },
  {
   "cell_type": "code",
   "execution_count": 12,
   "metadata": {},
   "outputs": [
    {
     "name": "stdout",
     "output_type": "stream",
     "text": [
      "['스크린샷, 2020-09-26 10-13-03.png', '스크린샷, 2020-09-26 11-59-39.png', '스크린샷, 2020-10-14 10-56-35.png', '스크린샷, 2020-09-26 10-13-21.png', '스크린샷, 2020-09-20 00-43-35.png', 'sklearn.png', '스크린샷, 2020-09-26 10-20-40.png', '스크린샷, 2020-10-10 15-16-39.png', '스크린샷, 2020-10-16 21-18-19.png', 'append.png', '스크린샷, 2020-10-10 15-12-11.png', '스크린샷, 2020-10-16 22-01-04.png', '스크린샷, 2020-09-26 14-10-18.png', '스크린샷, 2020-09-26 15-41-46.png', '스크린샷, 2020-10-14 21-07-00.png', '스크린샷, 2020-09-26 14-08-50.png']\n"
     ]
    }
   ],
   "source": [
    "png = [png for png in photo if png.endswith('.png')]\n",
    "print(png)"
   ]
  },
  {
   "cell_type": "code",
   "execution_count": 21,
   "metadata": {},
   "outputs": [
    {
     "name": "stdout",
     "output_type": "stream",
     "text": [
      "['append.png']\n"
     ]
    }
   ],
   "source": [
    "png2 = [png2 for png2 in photo if png2.startswith('append')]\n",
    "print(png2)"
   ]
  },
  {
   "cell_type": "markdown",
   "metadata": {},
   "source": [
    "* 공백 문자 처리 : trimming <br>\n",
    "\\\\n line feed : 줄바꿈 <br>\n",
    "\\\\r carriage return : 개행복귀 (커서를 맨 앞으로 이동, 원위치복귀)"
   ]
  },
  {
   "cell_type": "code",
   "execution_count": 23,
   "metadata": {},
   "outputs": [
    {
     "name": "stdout",
     "output_type": "stream",
     "text": [
      "사회적 거리두기\n",
      "--------------------------\n",
      "사회적\t거리두기\n",
      "--------------------------\n",
      "사회적\n",
      "거리두기\n",
      "--------------------------\n",
      "사회적\r",
      "거리두기\n"
     ]
    }
   ],
   "source": [
    "print(\"사회적 거리두기\")\n",
    "print('--------------------------')\n",
    "print(\"사회적\\t거리두기\")\n",
    "print('--------------------------')\n",
    "print(\"사회적\\n거리두기\")\n",
    "print('--------------------------')\n",
    "print(\"사회적\\r거리두기\") #개행복귀 ??"
   ]
  },
  {
   "cell_type": "markdown",
   "metadata": {},
   "source": [
    "* 공백 문자 제거하기 : strip() 사용해 공백문자 처리"
   ]
  },
  {
   "cell_type": "code",
   "execution_count": 24,
   "metadata": {},
   "outputs": [
    {
     "name": "stdout",
     "output_type": "stream",
     "text": [
      "[      Strip white spaces.      ]\n",
      "--------------------------\n",
      "[Strip white spaces.]\n",
      "--------------------------\n",
      "[Strip white spaces.      ]\n",
      "--------------------------\n",
      "[      Strip white spaces.]\n"
     ]
    }
   ],
   "source": [
    "#txt = \"      공백 문자를 제거해 보아요.      \"\n",
    "txt = \"      Strip white spaces.      \"\n",
    "print('[{}]'.format(txt))\n",
    "print('--------------------------')\n",
    "\n",
    "#- 양쪽 공백 제거 : strip()\n",
    "print('[{}]'.format(txt.strip()))\n",
    "print('--------------------------')\n",
    "\n",
    "#- 왼쪽 공백 제거 : lstrip()\n",
    "print('[{}]'.format(txt.lstrip()))\n",
    "print('--------------------------')\n",
    "\n",
    "#- 오른쪽 공백 제거 : rstrip()\n",
    "print('[{}]'.format(txt.rstrip()))"
   ]
  },
  {
   "cell_type": "markdown",
   "metadata": {},
   "source": [
    "* 대소문자 관련  \n",
    "upper() : 모든 문자를 대문자로 변환  \n",
    "lower() : 모든 문자를 소문자로 변환  \n",
    "capitalize() : 첫 글자만 대문자로 변환 --*"
   ]
  },
  {
   "cell_type": "code",
   "execution_count": 29,
   "metadata": {},
   "outputs": [
    {
     "data": {
      "text/plain": [
       "'I FELL INTO AIFFEL'"
      ]
     },
     "execution_count": 29,
     "metadata": {},
     "output_type": "execute_result"
    }
   ],
   "source": [
    "#- 모든 문자를 대문자로 변환 : upper()\n",
    "txt = \"i fell into AIFFEL\"\n",
    "txt.upper()"
   ]
  },
  {
   "cell_type": "code",
   "execution_count": 30,
   "metadata": {},
   "outputs": [
    {
     "data": {
      "text/plain": [
       "'i fell into aiffel'"
      ]
     },
     "execution_count": 30,
     "metadata": {},
     "output_type": "execute_result"
    }
   ],
   "source": [
    "#- 모든 문자를 소문자로 변환 : lower()\n",
    "txt.lower()"
   ]
  },
  {
   "cell_type": "code",
   "execution_count": 31,
   "metadata": {},
   "outputs": [
    {
     "data": {
      "text/plain": [
       "'I fell into aiffel'"
      ]
     },
     "execution_count": 31,
     "metadata": {},
     "output_type": "execute_result"
    }
   ],
   "source": [
    "#- 첫 글자만 대문자로 변환 : capitalize()\n",
    "txt.capitalize()"
   ]
  },
  {
   "cell_type": "markdown",
   "metadata": {},
   "source": [
    "* is X"
   ]
  },
  {
   "cell_type": "markdown",
   "metadata": {},
   "source": [
    "isupper() : 문자열이 **모두 대문자**로만 되어 있으면 True, 그렇지 않으면 False를 반환  \n",
    "islower() : 문자열이 **모두 소문자**로만 되어 있으면 True, 그렇지 않으면 False를 반환  \n",
    "istitle(): 문자열의 **첫 글자만 대문자**로 되어 있으면 True, 그렇지 않으면 False를 반환  \n",
    "isalpha(): 문자열이 **모두 알파벳 문자**로만 되어 있으면 True, 그렇지 않으면 False를 반환  \n",
    "isalnum(): 문자열이 **모두 알파벳 문자와 숫자**로만 되어 있으면 True, 그렇지 않으면 False를 반환  \n",
    "isdecimal(): 문자열이 **모두 숫자**로만 되어 있으면 True, 그렇지 않으면 False를 반환"
   ]
  },
  {
   "cell_type": "code",
   "execution_count": 32,
   "metadata": {},
   "outputs": [
    {
     "name": "stdout",
     "output_type": "stream",
     "text": [
      "False\n",
      "True\n",
      "False\n",
      "False\n",
      "True\n",
      "True\n"
     ]
    }
   ],
   "source": [
    "print(\"aiffel\".isupper())\n",
    "print(\"aiffel\".islower())\n",
    "print(\"PYTHON\".istitle())\n",
    "print(\"python101\".isalpha())\n",
    "print(\"python101\".isalnum())\n",
    "print(\"101\".isdecimal())"
   ]
  },
  {
   "cell_type": "markdown",
   "metadata": {},
   "source": [
    "* join() : 각각의 원소를 모아 하나의 문자열로 합쳐줌"
   ]
  },
  {
   "cell_type": "code",
   "execution_count": 33,
   "metadata": {},
   "outputs": [
    {
     "data": {
      "text/plain": [
       "'fundamentals,exploration,goingdeeper'"
      ]
     },
     "execution_count": 33,
     "metadata": {},
     "output_type": "execute_result"
    }
   ],
   "source": [
    "#- join()\n",
    "stages = ['fundamentals', 'exploration', 'goingdeeper']\n",
    "\",\".join(stages)"
   ]
  },
  {
   "cell_type": "code",
   "execution_count": 34,
   "metadata": {},
   "outputs": [
    {
     "data": {
      "text/plain": [
       "['fundamentals', 'exploration', 'goingdeeper']"
      ]
     },
     "execution_count": 34,
     "metadata": {},
     "output_type": "execute_result"
    }
   ],
   "source": [
    "#- split()\n",
    "'fundamentals,exploration,goingdeeper'.split(',')"
   ]
  },
  {
   "cell_type": "code",
   "execution_count": 35,
   "metadata": {},
   "outputs": [],
   "source": [
    "# split - list반환, join - 문자열 반환"
   ]
  },
  {
   "cell_type": "code",
   "execution_count": 36,
   "metadata": {},
   "outputs": [
    {
     "data": {
      "text/plain": [
       "'You can do it!'"
      ]
     },
     "execution_count": 36,
     "metadata": {},
     "output_type": "execute_result"
    }
   ],
   "source": [
    "sent = 'I can do it!'\n",
    "sent.replace('I', 'You')"
   ]
  },
  {
   "cell_type": "markdown",
   "metadata": {},
   "source": [
    "* 불변(immutable)의 문자열  \n",
    "가변객체 :  생성후 값 수정가능, 같은객체 됨 (list, set, dict)  \n",
    "불변객체 : 생성후 값 수정불가, 다른객체 됨 (int, float, bool, str..)"
   ]
  },
  {
   "cell_type": "code",
   "execution_count": 2,
   "metadata": {},
   "outputs": [
    {
     "name": "stdout",
     "output_type": "stream",
     "text": [
      "i fell into AIFEEL\n",
      "140522751679584\n"
     ]
    }
   ],
   "source": [
    "sent = 'i fell into AIFEEL'\n",
    "print(sent)\n",
    "print(id(sent))"
   ]
  },
  {
   "cell_type": "code",
   "execution_count": 3,
   "metadata": {},
   "outputs": [
    {
     "data": {
      "text/plain": [
       "'I FELL INTO AIFEEL'"
      ]
     },
     "execution_count": 3,
     "metadata": {},
     "output_type": "execute_result"
    }
   ],
   "source": [
    "sent.upper()"
   ]
  },
  {
   "cell_type": "code",
   "execution_count": 4,
   "metadata": {},
   "outputs": [
    {
     "name": "stdout",
     "output_type": "stream",
     "text": [
      "i fell into AIFEEL\n",
      "140522751679584\n"
     ]
    }
   ],
   "source": [
    "print(sent)\n",
    "print(id(sent))"
   ]
  },
  {
   "cell_type": "markdown",
   "metadata": {},
   "source": [
    "# 정규 표현식"
   ]
  },
  {
   "cell_type": "code",
   "execution_count": 5,
   "metadata": {},
   "outputs": [
    {
     "data": {
      "text/plain": [
       "'You can do it!'"
      ]
     },
     "execution_count": 5,
     "metadata": {},
     "output_type": "execute_result"
    }
   ],
   "source": [
    "sent = 'I can do it!'\n",
    "sent.replace('I',\"You\")"
   ]
  },
  {
   "cell_type": "code",
   "execution_count": 6,
   "metadata": {},
   "outputs": [
    {
     "data": {
      "text/plain": [
       "'You can do it!'"
      ]
     },
     "execution_count": 6,
     "metadata": {},
     "output_type": "execute_result"
    }
   ],
   "source": [
    "# 정규 표현식 사용\n",
    "import re\n",
    "sent = 'I can do it!'\n",
    "pattern = re.sub('I','You',sent)\n",
    "pattern"
   ]
  },
  {
   "cell_type": "code",
   "execution_count": 7,
   "metadata": {},
   "outputs": [
    {
     "data": {
      "text/plain": [
       "['the', 'the', 'the']"
      ]
     },
     "execution_count": 7,
     "metadata": {},
     "output_type": "execute_result"
    }
   ],
   "source": [
    "# 찾고가 하는 문자열의 패턴 정의\n",
    "#1단계 :  \"the\"라는 패턴을 컴파일한 후 패턴 객체를 리턴합니다. \n",
    "pattern = re.compile(\"the\")    \n",
    "\n",
    "# 패턴과 매칭되는 다양한 처리 수행\n",
    "# 2단계 : 컴파일된 패턴 객체를 활용하여 다른 텍스트에서 검색을 수행합니다.\n",
    "pattern.findall('of the people, for the people, by the people')"
   ]
  },
  {
   "cell_type": "code",
   "execution_count": 8,
   "metadata": {},
   "outputs": [
    {
     "data": {
      "text/plain": [
       "['the', 'the', 'the']"
      ]
     },
     "execution_count": 8,
     "metadata": {},
     "output_type": "execute_result"
    }
   ],
   "source": [
    "# 위와 동일\n",
    "re.findall('the', 'of the people, for the people, by the people')"
   ]
  },
  {
   "cell_type": "markdown",
   "metadata": {},
   "source": [
    "## 메소드"
   ]
  },
  {
   "cell_type": "markdown",
   "metadata": {},
   "source": [
    "* search() : 일치하는 패턴 찾기 * 일치 패턴이 있으면 MatchObject를 반환합니다.<br>\n",
    "\n",
    "* match() : search()와 비슷하지만, 패턴이 검색대상에 처음부터 일치해야 합니다.<br>\n",
    "\n",
    "* findall() : 일치하는 모든 패턴 찾기 * 모든 일치 패턴을 리스트에 담아서 반환합니다.<br>\n",
    "\n",
    "* split() : 패턴으로 나누기<br>\n",
    "\n",
    "* sub() : 일치하는 패턴으로 대체하기<br>\n",
    "\n",
    "아래는 search(), match() 등이 리턴하는 MatchObject가 가진 메소드입니다.<br>\n",
    "\n",
    "* group() : 실제 결과에 해당하는 문자열을 반환합니다."
   ]
  },
  {
   "cell_type": "code",
   "execution_count": 9,
   "metadata": {},
   "outputs": [
    {
     "name": "stdout",
     "output_type": "stream",
     "text": [
      "No\n"
     ]
    }
   ],
   "source": [
    "src = 'my name is...'\n",
    "regex = re.match('My',src)\n",
    "if regex:\n",
    "    print(regex.group())\n",
    "else:\n",
    "    print('No')"
   ]
  },
  {
   "cell_type": "markdown",
   "metadata": {},
   "source": [
    "## 패턴 : 특수문자, 메타문자"
   ]
  },
  {
   "cell_type": "markdown",
   "metadata": {},
   "source": [
    "-. : 하나의 문자\n",
    "-? : 0회 또는 1회 반복<br>\n",
    "-* : 0회 이상 반복<br>\n",
    "-+ : 1회 이상 반복<br>\n",
    "-\\d, \\D : 숫자, 비숫자<br>\n",
    "-\\w, \\W : 알파벳, 비알파벳<br>\n",
    "-\\s, \\S : 공백, 비공백<br>\n",
    "-\\b, \\B : 비 단어 경계<br>"
   ]
  },
  {
   "cell_type": "code",
   "execution_count": 13,
   "metadata": {},
   "outputs": [],
   "source": [
    "# 연도(숫자)\n",
    "text = \"\"\"The first season of America Premiere League  was played in 1993. \n",
    "The second season was played in 1995 in South Africa. \n",
    "Last season was played in 2019 and won by Chennai Super Kings (CSK).\n",
    "CSK won the title in 2000 and 2002 as well.\n",
    "Mumbai Indians (MI) has also won the title 3 times in 2013, 2015 and 2017 \n",
    "\"\"\""
   ]
  },
  {
   "cell_type": "code",
   "execution_count": 14,
   "metadata": {},
   "outputs": [],
   "source": [
    "pattern = re.compile(\"[1-2]\\d\\d\\d\") # 1,2사이 숫자+숫자+숫자+숫자"
   ]
  },
  {
   "cell_type": "code",
   "execution_count": 15,
   "metadata": {},
   "outputs": [
    {
     "data": {
      "text/plain": [
       "['1993', '1995', '2019', '2000', '2002', '2013', '2015', '2017']"
      ]
     },
     "execution_count": 15,
     "metadata": {},
     "output_type": "execute_result"
    }
   ],
   "source": [
    "pattern.findall(text)"
   ]
  },
  {
   "cell_type": "code",
   "execution_count": 16,
   "metadata": {},
   "outputs": [],
   "source": [
    "# 전화번호(숫자, 기호)\n",
    "phonenumber = re.compile(r'\\d\\d\\d-\\d\\d\\d-\\d\\d\\d\\d')\n",
    "phone = phonenumber.search('This is my phone number 010-111-1111')\n",
    "\n",
    "if phone:\n",
    "    print(phone.group())\n",
    "print('------')"
   ]
  },
  {
   "cell_type": "code",
   "execution_count": 19,
   "metadata": {},
   "outputs": [
    {
     "data": {
      "text/plain": [
       "['doingharu@aiffel.com', 'tomorrow@aiffel.com']"
      ]
     },
     "execution_count": 19,
     "metadata": {},
     "output_type": "execute_result"
    }
   ],
   "source": [
    "# 이메일(알파벳, 숫자, 기호)\n",
    "text = \"My e-mail adress is doingharu@aiffel.com, and tomorrow@aiffel.com\"\n",
    "pattern = re.compile('[0-9a-zA-Z]+@[0-9a-z]+\\.[0-9a-z]+') # @는 이스케이프코드 없이 인식가능\n",
    "pattern.findall(text)"
   ]
  },
  {
   "cell_type": "markdown",
   "metadata": {},
   "source": [
    "# 파일"
   ]
  },
  {
   "cell_type": "code",
   "execution_count": 21,
   "metadata": {},
   "outputs": [],
   "source": [
    "# open(파일명, 파일모드)\n",
    "# 파일 열고 파일 객체 반환\n",
    "f = open('hello.txt','w')\n",
    "\n",
    "for i in range(10):\n",
    "    f.write('안녕')\n",
    "f.close() # 작업이 끝나면 close()메소드로 닫아줍니다. ***"
   ]
  },
  {
   "cell_type": "code",
   "execution_count": 22,
   "metadata": {},
   "outputs": [
    {
     "name": "stdout",
     "output_type": "stream",
     "text": [
      "안녕안녕안녕안녕안녕안녕안녕안녕안녕안녕\n"
     ]
    }
   ],
   "source": [
    "with open('hello.txt','r') as f:\n",
    "    print(f.read())"
   ]
  },
  {
   "cell_type": "code",
   "execution_count": null,
   "metadata": {},
   "outputs": [],
   "source": []
  }
 ],
 "metadata": {
  "kernelspec": {
   "display_name": "Python 3",
   "language": "python",
   "name": "python3"
  },
  "language_info": {
   "codemirror_mode": {
    "name": "ipython",
    "version": 3
   },
   "file_extension": ".py",
   "mimetype": "text/x-python",
   "name": "python",
   "nbconvert_exporter": "python",
   "pygments_lexer": "ipython3",
   "version": "3.7.3"
  }
 },
 "nbformat": 4,
 "nbformat_minor": 4
}
