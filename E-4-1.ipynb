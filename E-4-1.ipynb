{
 "cells": [
  {
   "cell_type": "code",
   "execution_count": 1,
   "metadata": {},
   "outputs": [],
   "source": [
    "import os\n",
    "import numpy as np\n",
    "import pandas as pd\n",
    "import glob"
   ]
  },
  {
   "cell_type": "markdown",
   "metadata": {},
   "source": [
    "Step 1. 형태소 분석기 변경해 보기 - Mecab 이외에도 Hannanum, Kkma, Komoran, Okt\n",
    "\n",
    "\n",
    "Step 2. 불용어 추가해 보기 - 직접 뉴스를 열어보면서 불용어가 총 50개가 될 때까지 추가, 추가 전후 모델성능 비교\n",
    "\n",
    "\n",
    "Step 3. 다른 날짜 데이터 추가해 보기 - 미 수집한 2020년 5월 6일 데이터와 추가로 수집된 데이터를 적절히 합치려면? 적절히 데이터를 섞기위해 수집고민하기\n",
    "\n",
    "# 데이터 가져오기"
   ]
  },
  {
   "cell_type": "code",
   "execution_count": 2,
   "metadata": {},
   "outputs": [
    {
     "data": {
      "text/plain": [
       "['/home/jin/aiffel/news_crawler/news_20_[101, 102, 103, 105]_20200215.csv',\n",
       " '/home/jin/aiffel/news_crawler/news_20_[101, 102, 103, 105]_20200530.csv',\n",
       " '/home/jin/aiffel/news_crawler/news_20_[101, 102, 103, 105]_20200914.csv',\n",
       " '/home/jin/aiffel/news_crawler/news_data.csv',\n",
       " '/home/jin/aiffel/news_crawler/news_20_[101, 102, 103, 105]_20200429.csv',\n",
       " '/home/jin/aiffel/news_crawler/news_20_[101, 102, 103, 105]_20200129.csv',\n",
       " '/home/jin/aiffel/news_crawler/news_20_[101, 102, 103, 105]_20200819.csv',\n",
       " '/home/jin/aiffel/news_crawler/news_20_[101, 102, 103, 105]_20200614.csv',\n",
       " '/home/jin/aiffel/news_crawler/news_20_[101, 102, 103, 105]_20201024.csv',\n",
       " '/home/jin/aiffel/news_crawler/news_20_[101, 102, 103, 105]_20200715.csv',\n",
       " '/home/jin/aiffel/news_crawler/news_20_[101, 102, 103, 105]_20200315.csv',\n",
       " '/home/jin/aiffel/news_crawler/news_20_[101, 102, 103, 105]_20201119.csv']"
      ]
     },
     "execution_count": 2,
     "metadata": {},
     "output_type": "execute_result"
    }
   ],
   "source": [
    "glob.glob(os.getenv('HOME')+'/aiffel/news_crawler/*.csv')"
   ]
  },
  {
   "cell_type": "code",
   "execution_count": 3,
   "metadata": {
    "scrolled": true
   },
   "outputs": [],
   "source": [
    "# map(func, iterable) 후 pd.concat로 DataFrame결합\n",
    "df = pd.concat(map(pd.read_csv, glob.glob(os.getenv('HOME')+'/aiffel/news_crawler/*.csv')))"
   ]
  },
  {
   "cell_type": "code",
   "execution_count": 4,
   "metadata": {},
   "outputs": [
    {
     "data": {
      "text/plain": [
       "'/home/jin/workplace'"
      ]
     },
     "execution_count": 4,
     "metadata": {},
     "output_type": "execute_result"
    }
   ],
   "source": [
    "os.getcwd()"
   ]
  },
  {
   "cell_type": "code",
   "execution_count": 5,
   "metadata": {
    "scrolled": true
   },
   "outputs": [
    {
     "data": {
      "text/html": [
       "<div>\n",
       "<style scoped>\n",
       "    .dataframe tbody tr th:only-of-type {\n",
       "        vertical-align: middle;\n",
       "    }\n",
       "\n",
       "    .dataframe tbody tr th {\n",
       "        vertical-align: top;\n",
       "    }\n",
       "\n",
       "    .dataframe thead th {\n",
       "        text-align: right;\n",
       "    }\n",
       "</style>\n",
       "<table border=\"1\" class=\"dataframe\">\n",
       "  <thead>\n",
       "    <tr style=\"text-align: right;\">\n",
       "      <th></th>\n",
       "      <th>news</th>\n",
       "      <th>code</th>\n",
       "    </tr>\n",
       "  </thead>\n",
       "  <tbody>\n",
       "    <tr>\n",
       "      <th>0</th>\n",
       "      <td>[파이낸셜뉴스] 고가주택에 대한 대출규제를 담은 12.16대책 이후 서울 아파트 시...</td>\n",
       "      <td>경제</td>\n",
       "    </tr>\n",
       "    <tr>\n",
       "      <th>1</th>\n",
       "      <td>플룸테크 JTI코리아 제공 플룸테크 JTI코리아 제공\\n\\n[파이낸셜뉴스] 전자담배...</td>\n",
       "      <td>경제</td>\n",
       "    </tr>\n",
       "    <tr>\n",
       "      <th>2</th>\n",
       "      <td>[파이낸셜뉴스] 이아이디가 2차전지 자회사의 실적호전에 힘입어 지난해 큰 폭의 턴어...</td>\n",
       "      <td>경제</td>\n",
       "    </tr>\n",
       "    <tr>\n",
       "      <th>3</th>\n",
       "      <td>본설 '배달 패키지' 본설 '배달 패키지'\\n\\n[파이낸셜뉴스] 외식 배달 전성시대...</td>\n",
       "      <td>경제</td>\n",
       "    </tr>\n",
       "    <tr>\n",
       "      <th>4</th>\n",
       "      <td>신종 코로나바이러스 감염증 공포가 확산하는 가운데 29일 인천국제공항 제1터미널 입...</td>\n",
       "      <td>경제</td>\n",
       "    </tr>\n",
       "    <tr>\n",
       "      <th>...</th>\n",
       "      <td>...</td>\n",
       "      <td>...</td>\n",
       "    </tr>\n",
       "    <tr>\n",
       "      <th>1595</th>\n",
       "      <td>중소벤처기업부는 19일 서울 여의도 중소기업중앙회 구내 나들가게에서 '스마트슈퍼 2...</td>\n",
       "      <td>IT/과학</td>\n",
       "    </tr>\n",
       "    <tr>\n",
       "      <th>1596</th>\n",
       "      <td>[서울=뉴시스] 이재은 기자 = 국내 대기업과 중견기업 상당수가 정부의 디지털 뉴딜...</td>\n",
       "      <td>IT/과학</td>\n",
       "    </tr>\n",
       "    <tr>\n",
       "      <th>1597</th>\n",
       "      <td>(지디넷코리아=이도원 기자)넷마블(대표 권영식, 이승원)은 모바일 다중접속역할수행게...</td>\n",
       "      <td>IT/과학</td>\n",
       "    </tr>\n",
       "    <tr>\n",
       "      <th>1598</th>\n",
       "      <td>SK텔레콤에서 AI 개발을 담당하고 있는 현직 전문가들이 19일 온라인으로 진행된 ...</td>\n",
       "      <td>IT/과학</td>\n",
       "    </tr>\n",
       "    <tr>\n",
       "      <th>1599</th>\n",
       "      <td>예방접종. /연합뉴스 예방접종. /연합뉴스\\n\\n화이자와 모더나 등 미국 제약사들이...</td>\n",
       "      <td>IT/과학</td>\n",
       "    </tr>\n",
       "  </tbody>\n",
       "</table>\n",
       "<p>18820 rows × 2 columns</p>\n",
       "</div>"
      ],
      "text/plain": [
       "                                                   news   code\n",
       "0     [파이낸셜뉴스] 고가주택에 대한 대출규제를 담은 12.16대책 이후 서울 아파트 시...     경제\n",
       "1     플룸테크 JTI코리아 제공 플룸테크 JTI코리아 제공\\n\\n[파이낸셜뉴스] 전자담배...     경제\n",
       "2     [파이낸셜뉴스] 이아이디가 2차전지 자회사의 실적호전에 힘입어 지난해 큰 폭의 턴어...     경제\n",
       "3     본설 '배달 패키지' 본설 '배달 패키지'\\n\\n[파이낸셜뉴스] 외식 배달 전성시대...     경제\n",
       "4     신종 코로나바이러스 감염증 공포가 확산하는 가운데 29일 인천국제공항 제1터미널 입...     경제\n",
       "...                                                 ...    ...\n",
       "1595  중소벤처기업부는 19일 서울 여의도 중소기업중앙회 구내 나들가게에서 '스마트슈퍼 2...  IT/과학\n",
       "1596  [서울=뉴시스] 이재은 기자 = 국내 대기업과 중견기업 상당수가 정부의 디지털 뉴딜...  IT/과학\n",
       "1597  (지디넷코리아=이도원 기자)넷마블(대표 권영식, 이승원)은 모바일 다중접속역할수행게...  IT/과학\n",
       "1598  SK텔레콤에서 AI 개발을 담당하고 있는 현직 전문가들이 19일 온라인으로 진행된 ...  IT/과학\n",
       "1599  예방접종. /연합뉴스 예방접종. /연합뉴스\\n\\n화이자와 모더나 등 미국 제약사들이...  IT/과학\n",
       "\n",
       "[18820 rows x 2 columns]"
      ]
     },
     "execution_count": 5,
     "metadata": {},
     "output_type": "execute_result"
    }
   ],
   "source": [
    "df"
   ]
  },
  {
   "cell_type": "markdown",
   "metadata": {},
   "source": [
    "# 데이터 전처리"
   ]
  },
  {
   "cell_type": "code",
   "execution_count": 6,
   "metadata": {},
   "outputs": [],
   "source": [
    "df1 = df.copy()"
   ]
  },
  {
   "cell_type": "markdown",
   "metadata": {},
   "source": [
    "* news column의 **문자열**을 한글이 아닌것(^)모두 빈칸으로"
   ]
  },
  {
   "cell_type": "code",
   "execution_count": 7,
   "metadata": {},
   "outputs": [],
   "source": [
    "\n",
    "df1['news'] = df['news'].str.replace('[^ㄱ-ㅎ가-힣ㅏ-ㅣ]',' ')"
   ]
  },
  {
   "cell_type": "code",
   "execution_count": 8,
   "metadata": {},
   "outputs": [
    {
     "data": {
      "text/html": [
       "<div>\n",
       "<style scoped>\n",
       "    .dataframe tbody tr th:only-of-type {\n",
       "        vertical-align: middle;\n",
       "    }\n",
       "\n",
       "    .dataframe tbody tr th {\n",
       "        vertical-align: top;\n",
       "    }\n",
       "\n",
       "    .dataframe thead th {\n",
       "        text-align: right;\n",
       "    }\n",
       "</style>\n",
       "<table border=\"1\" class=\"dataframe\">\n",
       "  <thead>\n",
       "    <tr style=\"text-align: right;\">\n",
       "      <th></th>\n",
       "      <th>news</th>\n",
       "      <th>code</th>\n",
       "    </tr>\n",
       "  </thead>\n",
       "  <tbody>\n",
       "    <tr>\n",
       "      <th>0</th>\n",
       "      <td>파이낸셜뉴스  고가주택에 대한 대출규제를 담은      대책 이후 서울 아파트 시...</td>\n",
       "      <td>경제</td>\n",
       "    </tr>\n",
       "    <tr>\n",
       "      <th>1</th>\n",
       "      <td>플룸테크    코리아 제공 플룸테크    코리아 제공   파이낸셜뉴스  전자담배 시...</td>\n",
       "      <td>경제</td>\n",
       "    </tr>\n",
       "    <tr>\n",
       "      <th>2</th>\n",
       "      <td>파이낸셜뉴스  이아이디가  차전지 자회사의 실적호전에 힘입어 지난해 큰 폭의 턴어...</td>\n",
       "      <td>경제</td>\n",
       "    </tr>\n",
       "    <tr>\n",
       "      <th>3</th>\n",
       "      <td>본설  배달 패키지  본설  배달 패키지    파이낸셜뉴스  외식 배달 전성시대를 ...</td>\n",
       "      <td>경제</td>\n",
       "    </tr>\n",
       "    <tr>\n",
       "      <th>4</th>\n",
       "      <td>신종 코로나바이러스 감염증 공포가 확산하는 가운데   일 인천국제공항 제 터미널 입...</td>\n",
       "      <td>경제</td>\n",
       "    </tr>\n",
       "    <tr>\n",
       "      <th>...</th>\n",
       "      <td>...</td>\n",
       "      <td>...</td>\n",
       "    </tr>\n",
       "    <tr>\n",
       "      <th>1595</th>\n",
       "      <td>중소벤처기업부는   일 서울 여의도 중소기업중앙회 구내 나들가게에서  스마트슈퍼  ...</td>\n",
       "      <td>IT/과학</td>\n",
       "    </tr>\n",
       "    <tr>\n",
       "      <th>1596</th>\n",
       "      <td>서울 뉴시스  이재은 기자   국내 대기업과 중견기업 상당수가 정부의 디지털 뉴딜...</td>\n",
       "      <td>IT/과학</td>\n",
       "    </tr>\n",
       "    <tr>\n",
       "      <th>1597</th>\n",
       "      <td>지디넷코리아 이도원 기자 넷마블 대표 권영식  이승원 은 모바일 다중접속역할수행게...</td>\n",
       "      <td>IT/과학</td>\n",
       "    </tr>\n",
       "    <tr>\n",
       "      <th>1598</th>\n",
       "      <td>텔레콤에서    개발을 담당하고 있는 현직 전문가들이   일 온라인으로 진행된 ...</td>\n",
       "      <td>IT/과학</td>\n",
       "    </tr>\n",
       "    <tr>\n",
       "      <th>1599</th>\n",
       "      <td>예방접종   연합뉴스 예방접종   연합뉴스  화이자와 모더나 등 미국 제약사들이 개...</td>\n",
       "      <td>IT/과학</td>\n",
       "    </tr>\n",
       "  </tbody>\n",
       "</table>\n",
       "<p>18820 rows × 2 columns</p>\n",
       "</div>"
      ],
      "text/plain": [
       "                                                   news   code\n",
       "0      파이낸셜뉴스  고가주택에 대한 대출규제를 담은      대책 이후 서울 아파트 시...     경제\n",
       "1     플룸테크    코리아 제공 플룸테크    코리아 제공   파이낸셜뉴스  전자담배 시...     경제\n",
       "2      파이낸셜뉴스  이아이디가  차전지 자회사의 실적호전에 힘입어 지난해 큰 폭의 턴어...     경제\n",
       "3     본설  배달 패키지  본설  배달 패키지    파이낸셜뉴스  외식 배달 전성시대를 ...     경제\n",
       "4     신종 코로나바이러스 감염증 공포가 확산하는 가운데   일 인천국제공항 제 터미널 입...     경제\n",
       "...                                                 ...    ...\n",
       "1595  중소벤처기업부는   일 서울 여의도 중소기업중앙회 구내 나들가게에서  스마트슈퍼  ...  IT/과학\n",
       "1596   서울 뉴시스  이재은 기자   국내 대기업과 중견기업 상당수가 정부의 디지털 뉴딜...  IT/과학\n",
       "1597   지디넷코리아 이도원 기자 넷마블 대표 권영식  이승원 은 모바일 다중접속역할수행게...  IT/과학\n",
       "1598    텔레콤에서    개발을 담당하고 있는 현직 전문가들이   일 온라인으로 진행된 ...  IT/과학\n",
       "1599  예방접종   연합뉴스 예방접종   연합뉴스  화이자와 모더나 등 미국 제약사들이 개...  IT/과학\n",
       "\n",
       "[18820 rows x 2 columns]"
      ]
     },
     "execution_count": 8,
     "metadata": {},
     "output_type": "execute_result"
    }
   ],
   "source": [
    "df1"
   ]
  },
  {
   "cell_type": "markdown",
   "metadata": {},
   "source": [
    "* 데이터에 null존재 확인"
   ]
  },
  {
   "cell_type": "code",
   "execution_count": 9,
   "metadata": {
    "scrolled": false
   },
   "outputs": [
    {
     "data": {
      "text/plain": [
       "news    0\n",
       "code    0\n",
       "dtype: int64"
      ]
     },
     "execution_count": 9,
     "metadata": {},
     "output_type": "execute_result"
    }
   ],
   "source": [
    "df1.isnull().sum()"
   ]
  },
  {
   "cell_type": "markdown",
   "metadata": {},
   "source": [
    "* 중복된 샘플 제거"
   ]
  },
  {
   "cell_type": "code",
   "execution_count": 10,
   "metadata": {},
   "outputs": [],
   "source": [
    "df1.drop_duplicates(subset=['news'], inplace=True, ignore_index=True)"
   ]
  },
  {
   "cell_type": "markdown",
   "metadata": {},
   "source": [
    "* 중복 제거결과 18820개의 뉴스가 15455개로 정리됨"
   ]
  },
  {
   "cell_type": "code",
   "execution_count": 11,
   "metadata": {
    "scrolled": true
   },
   "outputs": [
    {
     "name": "stdout",
     "output_type": "stream",
     "text": [
      " 파이낸셜뉴스  고가주택에 대한 대출규제를 담은      대책 이후 서울 아파트 시장이 양극화되는 분위기다  고가 아파트가 밀집한 강남권은 매수심리가 위축되면서 재건축 중심의 하락세를 보였다  반면 비강남권의 경우 중저가 아파트가 많은 노원  관악  도봉구 등에 수요가 유입되면서 집값 오름세를 이어갔다  수도권도 교통호재로 강남권 접근성이 개선되는 수원  용인 등 경기 남부권 일부 지역을 중심으로 집값이 큰 폭으로 올랐다   일 부동산   에 따르면 이번주 서울 아파트 매매가격은      를 기록했다  재건축은 강남구 대치동 은마와 송파구 잠실동 주공 단지 등 주요 단지가 하향 조정되면서       떨어졌다  일반 아파트는       올라 상승폭이 둔화됐다  신도시는       올랐다  경기 인천은 중저가 아파트로 수요가 유입되면서       상승했다 전세시장은 신종코로나 코로나   의 영향으로 국지적으로 문의가 줄었지만  서울은 매물품귀가 지속되며       상승했다  신도시는       올라 전주와 비슷한 흐름을 이어갔다  경기 인천은       상승해 지난주       보다 오름폭이 커졌다 서울은 비강남권의 상승세가 이어지면서 지역별로  노원         관악         성북         도봉         광진         강서         구로        순으로 올랐다  노원은 광운대 역세권 개발  동북선 경전철 호재가 있는 월계동 미륭 미성 삼호 차를 비롯해 상계동 주공 단지  불암현대 등이    만원     만원 상승했다 반면 고가 아파트 밀집지역인 송파          동작          강남        은 떨어졌다  송파는 잠실동 주공 단지와 레이크팰리스  신천동 잠실파크리오가     만원     만원 하락했다  동작은     년 입주한 흑석동 아크로리버하임이     만원 하향 조정됐다  강남은 대치동 은마  한보미도맨션   차 등 재건축 단지가    만원     만원 내렸다 신도시는  동탄         광교         분당         평촌         산본        순으로 상승했다  동탄은 청계동 시범예미지와 반송동 메타폴리스  능동 동탄숲속마을자연앤경남아너스빌이 중대형 면적 위주로    만원     만원 올랐다  광교는 매물이 소진된 후 원천동 광교호반베르디움  하동 광교레이크파크한양수자인이    만원     만원 상승했다 경기 인천은 신분당선 남부 연장 광교중앙 호매실  예비타당성 통과로 교통개선에 대한 기대감이 커진 지역들이 오름세를 견인했다  지역별로는  수원         용인         의왕         광명         안양         인천        순으로 올랐다  수원은 교통호재에 따른 기대감으로 거래가 이어지면서 호매실동 호매실  와 화서동 한진현대 등이      만원     만원 상승했다  용인은 마북동 삼거마을삼성래미안 차  성복동 성동마을  빌리지 차  중동 신동백서해그랑블 차 등이     만원     만원 상승했다 최근 정부는      대책 이후 집값 과열 양상을 보이는 수도권 일부 지역의 주택시장 동향을 점검하고  추가 대책을 검토했다  이에 신분당선 등 교통호재와 원도심 재개발 사업으로 집값이 크게 오른 수원을 비롯해 용인  성남 등 일부 지역이 규제 대상에 포함될 것으로 보인다  주택시장에 대한 모니터링 강화와 고가 아파트 거래자에 대한 자금출처조사 등의 조치가 집값 불안의 제동장치 기능을 할 전망이지만 수요가 규제를 피해 또 다른 지역으로 이동하는 부작용도 우려된다   저작권자   파이낸셜뉴스  무단 전재 재배포 금지\n"
     ]
    }
   ],
   "source": [
    "print(df1['news'][0])"
   ]
  },
  {
   "cell_type": "markdown",
   "metadata": {},
   "source": [
    "# 데이터 탐색"
   ]
  },
  {
   "cell_type": "code",
   "execution_count": 13,
   "metadata": {
    "scrolled": true
   },
   "outputs": [
    {
     "data": {
      "text/plain": [
       "IT/과학    3475\n",
       "사회       3932\n",
       "경제       3953\n",
       "생활/문화    4104\n",
       "Name: code, dtype: int64"
      ]
     },
     "execution_count": 13,
     "metadata": {},
     "output_type": "execute_result"
    }
   ],
   "source": [
    "df1.code.value_counts(ascending=True)"
   ]
  },
  {
   "cell_type": "code",
   "execution_count": 14,
   "metadata": {},
   "outputs": [
    {
     "name": "stdout",
     "output_type": "stream",
     "text": [
      "    code  count\n",
      "0  IT/과학   3475\n",
      "1     경제   3953\n",
      "2     사회   3932\n",
      "3  생활/문화   4104\n"
     ]
    }
   ],
   "source": [
    "# 데이터 실제 갯수 확인\n",
    "# size() - 각 그룹의 사이즈를 취득할 수 있습니다.\n",
    "print(df1.groupby('code').size().reset_index(name='count'))"
   ]
  },
  {
   "cell_type": "markdown",
   "metadata": {},
   "source": [
    "* 토큰화"
   ]
  },
  {
   "cell_type": "code",
   "execution_count": 15,
   "metadata": {},
   "outputs": [],
   "source": [
    "from konlpy.tag import Okt, Hannanum, Kkma, Komoran"
   ]
  },
  {
   "cell_type": "code",
   "execution_count": 16,
   "metadata": {},
   "outputs": [],
   "source": [
    "tokenizer1 = Komoran()"
   ]
  },
  {
   "cell_type": "code",
   "execution_count": 17,
   "metadata": {},
   "outputs": [
    {
     "data": {
      "text/plain": [
       "<bound method Komoran.morphs of <konlpy.tag._komoran.Komoran object at 0x7fdb996b2690>>"
      ]
     },
     "execution_count": 17,
     "metadata": {},
     "output_type": "execute_result"
    }
   ],
   "source": [
    "tokenizer1.morphs"
   ]
  },
  {
   "cell_type": "markdown",
   "metadata": {},
   "source": [
    "* 불용어 제거"
   ]
  },
  {
   "cell_type": "code",
   "execution_count": 23,
   "metadata": {},
   "outputs": [],
   "source": [
    "# 시간관걔상 기존stopword사용\n",
    "stopwords = ['에','는','은','을','했','에게','있','이','의','하','한','다','과','때문','할','수','무단','따른','및','금지','전재','경향신문','기자','는데','가','등','들','파이낸셜','저작','등','뉴스']"
   ]
  },
  {
   "cell_type": "code",
   "execution_count": 24,
   "metadata": {},
   "outputs": [],
   "source": [
    "# def preprocessing(data):\n",
    "#     text_data=[]\n",
    "    \n",
    "#     for sentence in data:\n",
    "#         temp_data=[]\n",
    "#         # 토큰화\n",
    "#         temp_data = tokenizer1.morphs(sentence)\n",
    "        \n",
    "#         # 불용어 제거\n",
    "#         temp_data = [word for word in temp_data if not word in stopwords]\n",
    "#         text_data.append(temp_data)\n",
    "        \n",
    "#     text_data = list(map(' '.join, text_data))  #.join -- list to str\n",
    "    \n",
    "#     return text_data\n",
    "    "
   ]
  },
  {
   "cell_type": "code",
   "execution_count": 26,
   "metadata": {},
   "outputs": [],
   "source": [
    "def preprocess(data):\n",
    "    text_data=[]\n",
    "    for line in data:\n",
    "        \n",
    "        word_data = tokenizer1.morphs(line)\n",
    "           \n",
    "        temp_data = [word for word in word_data if not word in stopwords]\n",
    "        text_data.append(word_data)\n",
    "        \n",
    "    text_data = list(map(' '.join, text_data))  #.join -- list to str\n",
    "        \n",
    "    return text_data\n",
    "   \n",
    "    \n",
    "    "
   ]
  },
  {
   "cell_type": "code",
   "execution_count": 33,
   "metadata": {
    "scrolled": true
   },
   "outputs": [],
   "source": [
    "test_set = preprocess(df1.news)"
   ]
  },
  {
   "cell_type": "code",
   "execution_count": 29,
   "metadata": {
    "scrolled": false
   },
   "outputs": [
    {
     "data": {
      "text/html": [
       "<div>\n",
       "<style scoped>\n",
       "    .dataframe tbody tr th:only-of-type {\n",
       "        vertical-align: middle;\n",
       "    }\n",
       "\n",
       "    .dataframe tbody tr th {\n",
       "        vertical-align: top;\n",
       "    }\n",
       "\n",
       "    .dataframe thead th {\n",
       "        text-align: right;\n",
       "    }\n",
       "</style>\n",
       "<table border=\"1\" class=\"dataframe\">\n",
       "  <thead>\n",
       "    <tr style=\"text-align: right;\">\n",
       "      <th></th>\n",
       "      <th>news</th>\n",
       "      <th>code</th>\n",
       "    </tr>\n",
       "  </thead>\n",
       "  <tbody>\n",
       "    <tr>\n",
       "      <th>0</th>\n",
       "      <td>파이낸셜뉴스  고가주택에 대한 대출규제를 담은      대책 이후 서울 아파트 시...</td>\n",
       "      <td>경제</td>\n",
       "    </tr>\n",
       "    <tr>\n",
       "      <th>1</th>\n",
       "      <td>플룸테크    코리아 제공 플룸테크    코리아 제공   파이낸셜뉴스  전자담배 시...</td>\n",
       "      <td>경제</td>\n",
       "    </tr>\n",
       "    <tr>\n",
       "      <th>2</th>\n",
       "      <td>파이낸셜뉴스  이아이디가  차전지 자회사의 실적호전에 힘입어 지난해 큰 폭의 턴어...</td>\n",
       "      <td>경제</td>\n",
       "    </tr>\n",
       "    <tr>\n",
       "      <th>3</th>\n",
       "      <td>본설  배달 패키지  본설  배달 패키지    파이낸셜뉴스  외식 배달 전성시대를 ...</td>\n",
       "      <td>경제</td>\n",
       "    </tr>\n",
       "    <tr>\n",
       "      <th>4</th>\n",
       "      <td>신종 코로나바이러스 감염증 공포가 확산하는 가운데   일 인천국제공항 제 터미널 입...</td>\n",
       "      <td>경제</td>\n",
       "    </tr>\n",
       "  </tbody>\n",
       "</table>\n",
       "</div>"
      ],
      "text/plain": [
       "                                                news code\n",
       "0   파이낸셜뉴스  고가주택에 대한 대출규제를 담은      대책 이후 서울 아파트 시...   경제\n",
       "1  플룸테크    코리아 제공 플룸테크    코리아 제공   파이낸셜뉴스  전자담배 시...   경제\n",
       "2   파이낸셜뉴스  이아이디가  차전지 자회사의 실적호전에 힘입어 지난해 큰 폭의 턴어...   경제\n",
       "3  본설  배달 패키지  본설  배달 패키지    파이낸셜뉴스  외식 배달 전성시대를 ...   경제\n",
       "4  신종 코로나바이러스 감염증 공포가 확산하는 가운데   일 인천국제공항 제 터미널 입...   경제"
      ]
     },
     "execution_count": 29,
     "metadata": {},
     "output_type": "execute_result"
    }
   ],
   "source": [
    "df1.head()"
   ]
  },
  {
   "cell_type": "code",
   "execution_count": 39,
   "metadata": {},
   "outputs": [
    {
     "data": {
      "text/plain": [
       "(15464, 2)"
      ]
     },
     "execution_count": 39,
     "metadata": {},
     "output_type": "execute_result"
    }
   ],
   "source": [
    "df1.shape"
   ]
  },
  {
   "cell_type": "markdown",
   "metadata": {},
   "source": [
    "# 머신러닝 사용하기"
   ]
  },
  {
   "cell_type": "code",
   "execution_count": 44,
   "metadata": {},
   "outputs": [],
   "source": [
    "# train_test_split, metrics , naivebaise\n",
    "# feature_extraction.text import CountVectorizer, TfidfTransformer\n",
    "from sklearn.model_selection import train_test_split\n",
    "from sklearn import metrics\n",
    "from sklearn.naive_bayes import MultinomialNB\n",
    "from sklearn.feature_extraction.text import CountVectorizer, TfidfTransformer"
   ]
  },
  {
   "cell_type": "code",
   "execution_count": 38,
   "metadata": {},
   "outputs": [
    {
     "data": {
      "text/plain": [
       "15464"
      ]
     },
     "execution_count": 38,
     "metadata": {},
     "output_type": "execute_result"
    }
   ],
   "source": [
    "len(test_set)"
   ]
  },
  {
   "cell_type": "code",
   "execution_count": 40,
   "metadata": {
    "scrolled": true
   },
   "outputs": [],
   "source": [
    "#- 훈련 데이터와 테스트 데이터를 분리합니다.\n",
    "X_train, X_test, y_train, y_test = train_test_split(test_set, df1['code'], random_state = 0)"
   ]
  },
  {
   "cell_type": "code",
   "execution_count": 41,
   "metadata": {},
   "outputs": [
    {
     "name": "stdout",
     "output_type": "stream",
     "text": [
      "훈련용 뉴스 기사의 개수 : 11598\n",
      "테스트용 뉴스 기사의 개수 :  3866\n",
      "훈련용 레이블의 개수 :  11598\n",
      "테스트용 레이블의 개수 :  3866\n"
     ]
    }
   ],
   "source": [
    "print('훈련용 뉴스 기사의 개수 :', len(X_train))\n",
    "print('테스트용 뉴스 기사의 개수 : ', len(X_test))\n",
    "print('훈련용 레이블의 개수 : ', len(y_train))\n",
    "print('테스트용 레이블의 개수 : ', len(y_test))"
   ]
  },
  {
   "cell_type": "markdown",
   "metadata": {},
   "source": [
    "## vectorize, TFIDF"
   ]
  },
  {
   "cell_type": "code",
   "execution_count": 42,
   "metadata": {},
   "outputs": [],
   "source": [
    "#- 단어의 수를 카운트하는 사이킷런의 카운트벡터라이저입니다.\n",
    "count_vect = CountVectorizer()\n",
    "X_train_counts = count_vect.fit_transform(X_train)\n",
    "\n",
    "#- 카운트벡터라이저의 결과로부터 TF-IDF 결과를 얻습니다.\n",
    "tfidf_transformer = TfidfTransformer()\n",
    "X_train_tfidf = tfidf_transformer.fit_transform(X_train_counts)"
   ]
  },
  {
   "cell_type": "code",
   "execution_count": 45,
   "metadata": {},
   "outputs": [],
   "source": [
    "#- 나이브 베이즈 분류기를 수행합니다.\n",
    "#- X_train은 TF-IDF 벡터, y_train은 레이블입니다.\n",
    "\n",
    "clf = MultinomialNB().fit(X_train_tfidf, y_train)"
   ]
  },
  {
   "cell_type": "code",
   "execution_count": 46,
   "metadata": {},
   "outputs": [],
   "source": [
    "# 텍스트를 입력하면 자동으로 TF-IDF벡터로 바꾸는 전처리 함수\n",
    "# count_vect의 정보가 이미 위에서 저장되있으므로 fit 필요없음??\n",
    "\n",
    "def tfidf_vectorizer(data):\n",
    "    data_counts = count_vect.transform(data)\n",
    "    data_tfidf = tfidf_transformer.transform(data_counts)\n",
    "    return data_tfidf"
   ]
  },
  {
   "cell_type": "markdown",
   "metadata": {},
   "source": [
    "* test set에 예측적용"
   ]
  },
  {
   "cell_type": "code",
   "execution_count": 47,
   "metadata": {},
   "outputs": [
    {
     "name": "stdout",
     "output_type": "stream",
     "text": [
      "              precision    recall  f1-score   support\n",
      "\n",
      "       IT/과학       0.78      0.77      0.77       868\n",
      "          경제       0.70      0.72      0.71       995\n",
      "          사회       0.74      0.82      0.78       970\n",
      "       생활/문화       0.80      0.70      0.75      1033\n",
      "\n",
      "    accuracy                           0.75      3866\n",
      "   macro avg       0.75      0.75      0.75      3866\n",
      "weighted avg       0.75      0.75      0.75      3866\n",
      "\n"
     ]
    }
   ],
   "source": [
    "y_pred = clf.predict(tfidf_vectorizer(X_test))\n",
    "print(metrics.classification_report(y_test, y_pred))"
   ]
  },
  {
   "cell_type": "markdown",
   "metadata": {},
   "source": [
    "# 머신러닝 성능향상?"
   ]
  },
  {
   "cell_type": "markdown",
   "metadata": {},
   "source": [
    "## 형태소 분석기 변경"
   ]
  },
  {
   "cell_type": "code",
   "execution_count": 48,
   "metadata": {},
   "outputs": [],
   "source": [
    "tokenizer2 = Kkma()"
   ]
  },
  {
   "cell_type": "code",
   "execution_count": 49,
   "metadata": {},
   "outputs": [],
   "source": [
    "def preprocess_k(data):\n",
    "    text_data=[]\n",
    "    for line in data:\n",
    "        \n",
    "        word_data = tokenizer2.morphs(line)\n",
    "           \n",
    "        temp_data = [word for word in word_data if not word in stopwords]\n",
    "        text_data.append(word_data)\n",
    "        \n",
    "    text_data = list(map(' '.join, text_data))  #.join -- list to str\n",
    "        \n",
    "    return text_data"
   ]
  },
  {
   "cell_type": "code",
   "execution_count": 50,
   "metadata": {},
   "outputs": [],
   "source": [
    "test_set2 = preprocess_k(df1.news)"
   ]
  },
  {
   "cell_type": "code",
   "execution_count": 51,
   "metadata": {},
   "outputs": [],
   "source": [
    "X_train, X_test, y_train, y_test = train_test_split(test_set2, df1['code'], random_state = 0)"
   ]
  },
  {
   "cell_type": "code",
   "execution_count": 52,
   "metadata": {},
   "outputs": [],
   "source": [
    "#- 단어의 수를 카운트하는 사이킷런의 카운트벡터라이저입니다.\n",
    "count_vect = CountVectorizer()\n",
    "X_train_counts = count_vect.fit_transform(X_train)\n",
    "\n",
    "#- 카운트벡터라이저의 결과로부터 TF-IDF 결과를 얻습니다.\n",
    "tfidf_transformer = TfidfTransformer()\n",
    "X_train_tfidf = tfidf_transformer.fit_transform(X_train_counts)"
   ]
  },
  {
   "cell_type": "code",
   "execution_count": 53,
   "metadata": {},
   "outputs": [],
   "source": [
    "#- 나이브 베이즈 분류기를 수행합니다.\n",
    "#- X_train은 TF-IDF 벡터, y_train은 레이블입니다.\n",
    "\n",
    "clf = MultinomialNB().fit(X_train_tfidf, y_train)"
   ]
  },
  {
   "cell_type": "code",
   "execution_count": 55,
   "metadata": {},
   "outputs": [],
   "source": [
    "# 텍스트를 입력하면 자동으로 TF-IDF벡터로 바꾸는 전처리 함수\n",
    "# count_vect의 정보가 이미 위에서 저장되있으므로 fit 필요없음??\n",
    "\n",
    "def tfidf_vectorizer2(data):\n",
    "    data_counts = count_vect.transform(data)\n",
    "    data_tfidf = tfidf_transformer.transform(data_counts)\n",
    "    return data_tfidf"
   ]
  },
  {
   "cell_type": "code",
   "execution_count": 56,
   "metadata": {},
   "outputs": [
    {
     "name": "stdout",
     "output_type": "stream",
     "text": [
      "              precision    recall  f1-score   support\n",
      "\n",
      "       IT/과학       0.77      0.77      0.77       868\n",
      "          경제       0.69      0.71      0.70       995\n",
      "          사회       0.75      0.81      0.78       970\n",
      "       생활/문화       0.79      0.70      0.74      1033\n",
      "\n",
      "    accuracy                           0.75      3866\n",
      "   macro avg       0.75      0.75      0.75      3866\n",
      "weighted avg       0.75      0.75      0.75      3866\n",
      "\n"
     ]
    }
   ],
   "source": [
    "y_pred = clf.predict(tfidf_vectorizer2(X_test))\n",
    "print(metrics.classification_report(y_test, y_pred))"
   ]
  },
  {
   "cell_type": "markdown",
   "metadata": {},
   "source": [
    "* Kkma로 토큰화 결과 정확도엔 큰차이가 없음"
   ]
  },
  {
   "cell_type": "code",
   "execution_count": null,
   "metadata": {},
   "outputs": [],
   "source": [
    "# 데이터추가후 실행하려했으나 시간이 많이 소요되어 미완"
   ]
  }
 ],
 "metadata": {
  "kernelspec": {
   "display_name": "Python 3",
   "language": "python",
   "name": "python3"
  },
  "language_info": {
   "codemirror_mode": {
    "name": "ipython",
    "version": 3
   },
   "file_extension": ".py",
   "mimetype": "text/x-python",
   "name": "python",
   "nbconvert_exporter": "python",
   "pygments_lexer": "ipython3",
   "version": "3.7.9"
  }
 },
 "nbformat": 4,
 "nbformat_minor": 4
}
