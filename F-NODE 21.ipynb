{
 "cells": [
  {
   "cell_type": "markdown",
   "metadata": {},
   "source": [
    "# 확률변로서의 모델 파라미터"
   ]
  },
  {
   "cell_type": "code",
   "execution_count": 1,
   "metadata": {},
   "outputs": [],
   "source": [
    "import numpy as np\n",
    "import matplotlib.pyplot as plt"
   ]
  },
  {
   "cell_type": "code",
   "execution_count": null,
   "metadata": {},
   "outputs": [],
   "source": [
    "parameter_point=[]\n",
    "flg1, axes1 = plt.subplots(2,5,figsize=(10,4))\n",
    "\n",
    "for ax in axes1.flatten():\n",
    "    #np.random.uniform : 정해진 구간에서 수를 무작위로 추출하여 반환합니다.\n",
    "    a, b = np.random.uniform(-10.,10,size=2)\n",
    "    a = round(a,3)\n",
    "    b = round(b,3)\n",
    "    parameter_points.append((a,b))\n",
    "    \n",
    "    x = np.linspace(-10,10,50)\n",
    "    y=a*x+b\n",
    "    ax.plot(x,y)\n",
    "    "
   ]
  }
 ],
 "metadata": {
  "kernelspec": {
   "display_name": "Python 3",
   "language": "python",
   "name": "python3"
  },
  "language_info": {
   "codemirror_mode": {
    "name": "ipython",
    "version": 3
   },
   "file_extension": ".py",
   "mimetype": "text/x-python",
   "name": "python",
   "nbconvert_exporter": "python",
   "pygments_lexer": "ipython3",
   "version": "3.7.9"
  }
 },
 "nbformat": 4,
 "nbformat_minor": 4
}
