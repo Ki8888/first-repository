{
 "cells": [
  {
   "cell_type": "code",
   "execution_count": 1,
   "metadata": {},
   "outputs": [],
   "source": [
    "from random import randrange\n",
    "\n",
    "class FunnyDice:\n",
    "    def __init__(self,n=6):\n",
    "        self.n=int(n)\n",
    "        self.numbers=list(range(1,n+1))\n",
    "        self.index=randrange(0,self.n)\n",
    "        self.val=self.numbers[self.index]\n",
    "        \n",
    "    def throw(self):\n",
    "        self.index=randrange(0, self.n)\n",
    "        self.val=self.numbers[self.index]\n",
    "    \n",
    "    def getval(self):\n",
    "        return self.val\n",
    "    \n",
    "    def setval(self, valnum):\n",
    "        if valnum<=self.n:\n",
    "            self.val=valnum\n",
    "        else:\n",
    "            print(\"Not in range,number can 1~{0}\".format(self.n))\n",
    "          \n",
    "            \n",
    "    "
   ]
  },
  {
   "cell_type": "code",
   "execution_count": 6,
   "metadata": {},
   "outputs": [
    {
     "name": "stdout",
     "output_type": "stream",
     "text": [
      "input dice dimension numbers.7\n",
      "Lucky number is 1\n"
     ]
    }
   ],
   "source": [
    "def main():\n",
    "    n=get_inputs()\n",
    "    mydice = FunnyDice(n)\n",
    "    mydice.throw()\n",
    "    print(\"Lucky number is {0}\".format(mydice.getval()))\n",
    "    \n",
    "def get_inputs():\n",
    "    n=int(input('input dice dimension numbers.'))\n",
    "    return n\n",
    "\n",
    "# 인터프리터에서 직접 실행했을 경우에만 if내의 코드를 돌려라.\n",
    "if __name__ == '__main__':\n",
    "    main()\n",
    "    "
   ]
  },
  {
   "cell_type": "code",
   "execution_count": 3,
   "metadata": {},
   "outputs": [],
   "source": [
    "luck = FunnyDice(8)"
   ]
  },
  {
   "cell_type": "code",
   "execution_count": 4,
   "metadata": {},
   "outputs": [
    {
     "data": {
      "text/plain": [
       "5"
      ]
     },
     "execution_count": 4,
     "metadata": {},
     "output_type": "execute_result"
    }
   ],
   "source": [
    "luck.throw();luck.getval()"
   ]
  },
  {
   "cell_type": "code",
   "execution_count": 5,
   "metadata": {},
   "outputs": [],
   "source": [
    "luck.setval(7)"
   ]
  },
  {
   "cell_type": "code",
   "execution_count": null,
   "metadata": {},
   "outputs": [],
   "source": []
  }
 ],
 "metadata": {
  "kernelspec": {
   "display_name": "Python 3",
   "language": "python",
   "name": "python3"
  },
  "language_info": {
   "codemirror_mode": {
    "name": "ipython",
    "version": 3
   },
   "file_extension": ".py",
   "mimetype": "text/x-python",
   "name": "python",
   "nbconvert_exporter": "python",
   "pygments_lexer": "ipython3",
   "version": "3.7.9"
  }
 },
 "nbformat": 4,
 "nbformat_minor": 4
}
