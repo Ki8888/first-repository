{
 "cells": [
  {
   "cell_type": "markdown",
   "metadata": {},
   "source": [
    "# 뉴스기사 크롤링 및 분류"
   ]
  },
  {
   "cell_type": "markdown",
   "metadata": {},
   "source": [
    "## HTML이란"
   ]
  },
  {
   "cell_type": "markdown",
   "metadata": {},
   "source": [
    "* HT : Hypterlink text - 문서와 문서가 링크로 연결되어 있음.\n",
    "    \n",
    "* M : Markdown - 태그로 이루어져 있다.\n",
    "    \n",
    "* L : Language"
   ]
  },
  {
   "cell_type": "markdown",
   "metadata": {},
   "source": [
    "* 태그의 형식 <br>\n",
    "<태그명 속성명1 = \"속성값1\" 속성명2='\"속성값2\">**컨텐츠**</태그명>\n",
    "\n",
    "\n",
    "* ```html\n",
    "<a href = \"http://opentutorials.org\">생활코딩</a>\n",
    "```\n",
    "\n",
    "* 닫히는 태그가 필요없는 경우 <태그명/>"
   ]
  },
  {
   "cell_type": "markdown",
   "metadata": {},
   "source": [
    "## 선택자"
   ]
  },
  {
   "cell_type": "markdown",
   "metadata": {},
   "source": [
    "* 특정 태그들에 그룹이나 번호를 주는 기능"
   ]
  },
  {
   "cell_type": "markdown",
   "metadata": {},
   "source": [
    "## BeautifulSoup 패키지"
   ]
  },
  {
   "cell_type": "code",
   "execution_count": 1,
   "metadata": {},
   "outputs": [],
   "source": [
    "from bs4 import BeautifulSoup\n",
    "\n",
    "#- HTML 문서를 문자열 html로 저장합니다.\n",
    "html = '''\n",
    "<html> \n",
    "    <head> \n",
    "    </head> \n",
    "    <body> \n",
    "        <h1> 장바구니\n",
    "            <p id='clothes' class='name' title='라운드티'> 라운드티\n",
    "                <span class = 'number'> 25 </span> \n",
    "                <span class = 'price'> 29000 </span> \n",
    "                <span class = 'menu'> 의류</span> \n",
    "                <a href = 'http://www.naver.com'> 바로가기 </a> \n",
    "            </p> \n",
    "            <p id='watch' class='name' title='시계'> 시계\n",
    "                <span class = 'number'> 28 </span>\n",
    "                <span class = 'price'> 32000 </span> \n",
    "                <span class = 'menu'> 악세서리 </span> \n",
    "                <a href = 'http://www.facebook.com'> 바로가기 </a> \n",
    "            </p> \n",
    "        </h1> \n",
    "    </body> \n",
    "</html>\n",
    "'''\n",
    "\n",
    "#- BeautifulSoup 인스턴스를 생성합니다.\n",
    "#- 두번째 매개변수는 분석할 분석기(parser)의 종류입니다.\n",
    "\n",
    "# 이 입력은 HTML 문법으로 작성되어져 있으니 HTML 문법을 기반으로 파싱\n",
    "soup = BeautifulSoup(html, 'html.parser')"
   ]
  },
  {
   "cell_type": "markdown",
   "metadata": {},
   "source": [
    "# 원하는 정보가 있는 위치 찾기 \n",
    "\n",
    "soup.select('원하는 정보')  # select('원하는 정보') -->  단 하나만 있더라도, 복수 가능한 형태로 되어있음\n",
    "\n",
    "\n",
    "soup.select('태그명')\n",
    "\n",
    "\n",
    "soup.select('.클래스명')\n",
    "\n",
    "\n",
    "soup.select('상위태그명 > 하위태그명 > 하위태그명')\n",
    "\n",
    "\n",
    "soup.select('상위태그명.클래스명 > 하위태그명.클래스명')    **# 바로 아래의(자식) 태그를 선택시에는 > 기호를 사용**\n",
    "\n",
    "\n",
    "soup.select('상위태그명.클래스명 하~위태그명')              **# 아래의(자손) 태그를 선택시에는   띄어쓰기 사용**\n",
    "\n",
    "\n",
    "soup.select('상위태그명 > 바로아래태그명 하~위태그명')  \n",
    "\n",
    "\n",
    "soup.select('.클래스명')\n",
    "\n",
    "\n",
    "soup.select('#아이디명')                  # 태그는 여러개에 사용 가능하나 아이디는 한번만 사용 가능함! ==> 선택하기 좋음\n",
    "\n",
    "\n",
    "soup.select('태그명.클래스명)\n",
    "\n",
    "\n",
    "soup.select('#아이디명 > 태그명.클래스명)\n",
    "\n",
    "\n",
    "soup.select('태그명[속성1=값1]')"
   ]
  },
  {
   "cell_type": "code",
   "execution_count": 10,
   "metadata": {
    "scrolled": true
   },
   "outputs": [
    {
     "name": "stdout",
     "output_type": "stream",
     "text": [
      "[<body>\n",
      "<h1> 장바구니\n",
      "            <p class=\"name\" id=\"clothes\" title=\"라운드티\"> 라운드티\n",
      "                <span class=\"number\"> 25 </span>\n",
      "<span class=\"price\"> 29000 </span>\n",
      "<span class=\"menu\"> 의류</span>\n",
      "<a href=\"http://www.naver.com\"> 바로가기 </a>\n",
      "</p>\n",
      "<p class=\"name\" id=\"watch\" title=\"시계\"> 시계\n",
      "                <span class=\"number\"> 28 </span>\n",
      "<span class=\"price\"> 32000 </span>\n",
      "<span class=\"menu\"> 악세서리 </span>\n",
      "<a href=\"http://www.facebook.com\"> 바로가기 </a>\n",
      "</p>\n",
      "</h1>\n",
      "</body>]\n"
     ]
    }
   ],
   "source": [
    "print(soup.select('body'))"
   ]
  },
  {
   "cell_type": "code",
   "execution_count": 4,
   "metadata": {},
   "outputs": [
    {
     "name": "stdout",
     "output_type": "stream",
     "text": [
      "[<p class=\"name\" id=\"clothes\" title=\"라운드티\"> 라운드티\n",
      "                <span class=\"number\"> 25 </span>\n",
      "<span class=\"price\"> 29000 </span>\n",
      "<span class=\"menu\"> 의류</span>\n",
      "<a href=\"http://www.naver.com\"> 바로가기 </a>\n",
      "</p>, <p class=\"name\" id=\"watch\" title=\"시계\"> 시계\n",
      "                <span class=\"number\"> 28 </span>\n",
      "<span class=\"price\"> 32000 </span>\n",
      "<span class=\"menu\"> 악세서리 </span>\n",
      "<a href=\"http://www.facebook.com\"> 바로가기 </a>\n",
      "</p>]\n"
     ]
    }
   ],
   "source": [
    "print(soup.select('p'))"
   ]
  },
  {
   "cell_type": "markdown",
   "metadata": {},
   "source": [
    "* HTML의 요소 간에는 부모-자식 관계가 존재. 한 개의 태그 내에 포함된 태그들은 상위 태그의 자식이 된다"
   ]
  },
  {
   "cell_type": "code",
   "execution_count": 11,
   "metadata": {
    "scrolled": true
   },
   "outputs": [
    {
     "name": "stdout",
     "output_type": "stream",
     "text": [
      "[<span class=\"menu\"> 의류</span>, <span class=\"menu\"> 악세서리 </span>]\n"
     ]
    }
   ],
   "source": [
    "# h1태그내의 name, menu태그 찾기\n",
    "# h1 >> p태그 class=name >>span태그 class=menu\n",
    "print(soup.select('h1 .name .menu'))"
   ]
  },
  {
   "cell_type": "code",
   "execution_count": 12,
   "metadata": {},
   "outputs": [
    {
     "name": "stdout",
     "output_type": "stream",
     "text": [
      "[]\n"
     ]
    }
   ],
   "source": [
    "# 바로 아래 자손태그가 아니므로 결과없음\n",
    "print(soup.select('html > h1'))"
   ]
  },
  {
   "cell_type": "code",
   "execution_count": 13,
   "metadata": {},
   "outputs": [
    {
     "data": {
      "text/plain": [
       "[<h1> 장바구니\n",
       "             <p class=\"name\" id=\"clothes\" title=\"라운드티\"> 라운드티\n",
       "                 <span class=\"number\"> 25 </span>\n",
       " <span class=\"price\"> 29000 </span>\n",
       " <span class=\"menu\"> 의류</span>\n",
       " <a href=\"http://www.naver.com\"> 바로가기 </a>\n",
       " </p>\n",
       " <p class=\"name\" id=\"watch\" title=\"시계\"> 시계\n",
       "                 <span class=\"number\"> 28 </span>\n",
       " <span class=\"price\"> 32000 </span>\n",
       " <span class=\"menu\"> 악세서리 </span>\n",
       " <a href=\"http://www.facebook.com\"> 바로가기 </a>\n",
       " </p>\n",
       " </h1>]"
      ]
     },
     "execution_count": 13,
     "metadata": {},
     "output_type": "execute_result"
    }
   ],
   "source": [
    "# 바로아래가 아닌 자손태그\n",
    "soup.select('html h1')"
   ]
  },
  {
   "cell_type": "markdown",
   "metadata": {},
   "source": [
    "## newspaper3k 패키지"
   ]
  },
  {
   "cell_type": "code",
   "execution_count": 14,
   "metadata": {},
   "outputs": [],
   "source": [
    "from newspaper import Article\n",
    "\n",
    "#- 파싱할 뉴스 기사 주소입니다.\n",
    "url = 'https://news.naver.com/main/read.nhn?mode=LSD&mid=sec&sid1=101&oid=030&aid=0002881076'\n",
    "\n",
    "#- 언어가 한국어이므로 language='ko'로 설정해줍니다.\n",
    "article = Article(url, language ='ko')\n",
    "article.download()\n",
    "article.parse()"
   ]
  },
  {
   "cell_type": "code",
   "execution_count": 15,
   "metadata": {},
   "outputs": [
    {
     "name": "stdout",
     "output_type": "stream",
     "text": [
      "기사 제목 :\n",
      "[AI 사피엔스 시대]자연어처리 기술, 컴퓨팅 파워 경쟁 시대로\n",
      "\n",
      "기사 제목 :\n",
      "[Copyright ⓒ 전자신문 & 전자신문인터넷, 무단전재 및 재배포 금지]\n",
      "\n",
      "주로 아이디어와 기술력으로 경쟁했던 자연어처리 인공지능(AI) 분야는 점차 컴퓨팅 파워 싸움으로 무게 추가 이동하고 있다. 모델이 대형화되면서 향상된 퍼포먼스 확보에 필요한 자금 규모도 커지고 있다. 자칫 대기업 자본력에 휘둘릴 수 있다는 우려도 함께 나온다.자연어처리(NLP)는 인간이 사용하는 언어 체계를 기계가 인식하도록 알고리즘을 디자인하는 기술이다. 흔히 말하는 컴퓨터 혹은 인간과 대화하는 컴퓨터 관련 기술이 포함된다.목적에 따라 세 가지 카테고리로 나뉜다. 인간이 제기한 질문에 자동으로 적절한 답을 찾아주는 '질의응답(QA)', 원하는 업무를 지시했을 때 작업을 수행하는 '테스크 컴플리션', 그리고 특별한 목적이 없는 대화를 의미하는 '오픈도메인 컨버세이션(비목적성 대화)'이 있다. 각기 발전해왔던 세 가지 기술은 지난 2018년 구글의 인공지능 언어모델 '버트(BERT)'의 등장으로 패러다임이 전환됐다. 압도적인 성능으로 대량의 프리트레이닝(사전학습)이 가능해지면서 굳이 셋을 구분할 필요가 없어진 것이다.기계학습 연구에서 모델을 학습할 때는 지도학습과 비지도학습, 강화학습 중 하나를 골라 활용한다. 지도학습은 사람이 적절한 입력과 출력을 부여하는 방식이다. 정답이 정해져 있고 기계의 정답률도 쉽게 측정할 수 있다. 반면에 비지도학습은 정답이 정해지지 않은 데이터에 대해서도 기계가 스스로 클러스터링 등을 통해 학습한다. 체계화되지 않은 대량의 데이터를 학습 가능하지만 학습이 맞게 됐는지 확인하기 어렵다.버트는 기존 AI 학습 방법을 혁신적으로 바꿔놨다는 평가를 받는다. 자연어처리를 교사 없이 양방향으로 사전 학습하는 최초의 시스템이다. 비지도학습 방식을 사용하면서도 기존 존재했던 어떤 기술보다 뛰어난 성능을 보여준다. 최근 1년 반 동안 버트를 필두로 AI 모델은 급격히 대형화되는 추세다.이는 기존의 빅데이터 개념을 훨씬 상회하는 초 대규모 데이터를 프리트레이닝 단계에서 학습 가능하게 만드는 결과로 이어졌다. 성능도 비약적으로 상승했다. 가장 최근 구글이 선보인 제너레이션 모델은 제시된 문장에 대해 인간의 80~90% 수준으로 답변 문장을 만들어 낸다.문제는 모델이 대형화되면서 기술을 구성하는 요소 중 알고리즘 대비 대량의 데이터셋과 컴퓨팅 파워 중요성이 더 커졌다는 점이다. 버트 자체는 '파인튜닝' 방식으로 다양한 분야에 확대 적용이 가능하지만 버트 성능에 준하는 최신 대형 모델을 만들어내려면 현존 최신 텐서처리장치(TPU)로도 학습에 수십 일이 걸린다.국내 한 AI 스타트업 대표는 “국내 상황은 데이터셋·인력·자금 인프라 모두 중국이나 영어권에 비해 떨어지는 게 사실이다. 자연어처리 모델 하나 만드는 데 10억~20억원씩 비용이 들어 고민이 많다”면서 “지금 글로벌 시장에서 격차가 나기 시작하면 이후에는 따라잡기 어려워진다. 정부 차원의 관심과 지원이 필요하다”고 말했다.이형두기자 dudu@etnews.com\n"
     ]
    }
   ],
   "source": [
    "# 기사제목을 출력합니다\n",
    "print('기사 제목 :')\n",
    "print(article.title)\n",
    "print('')\n",
    "\n",
    "# 기사 내용을 출력합니다.\n",
    "print('기사 제목 :')\n",
    "print(article.text)"
   ]
  },
  {
   "cell_type": "markdown",
   "metadata": {},
   "source": [
    "## 네이버뉴스기사 크롤링 (1) 뉴스URL, 페이지 이해하기"
   ]
  },
  {
   "cell_type": "markdown",
   "metadata": {},
   "source": [
    "* ```https://news.naver.com/main/list.nhn?mode=LSD&mid=sec&sid1=100&date=20200430&page=5```"
   ]
  },
  {
   "cell_type": "markdown",
   "metadata": {},
   "source": [
    "## 네이버뉴스 기사 크롤링 (2) 크롤러 만들기"
   ]
  },
  {
   "cell_type": "code",
   "execution_count": 17,
   "metadata": {},
   "outputs": [],
   "source": [
    "# 크롤러 필요한 도구 import\n",
    "import requests\n",
    "import pandas as pd\n",
    "from bs4 import BeautifulSoup"
   ]
  },
  {
   "cell_type": "code",
   "execution_count": 64,
   "metadata": {},
   "outputs": [],
   "source": [
    "# 크롤러를 만들기 전 필요한 도구들을 임포트합니다.\n",
    "import requests\n",
    "import pandas as pd\n",
    "from bs4 import BeautifulSoup\n",
    "\n",
    "# 페이지 수, 카테고리, 날짜를 입력값으로 받습니다.\n",
    "def make_urllist(page_num, code, date): \n",
    "    urllist= []\n",
    "    for i in range(1, page_num + 1):\n",
    "        url = 'https://news.naver.com/main/list.nhn?mode=LSD&mid=sec&sid1='+str(code)+'&date='+str(date)+'&page='+str(i)\n",
    "        headers = {'User-Agent': 'Mozilla/5.0 (X11; Linux x86_64) AppleWebKit/537.36 (KHTML, like Gecko) Chrome/54.0.2840.90 Safari/537.36'}\n",
    "        news = requests.get(url, headers=headers)\n",
    "\n",
    "        # BeautifulSoup의 인스턴스 생성합니다. 파서는 html.parser를 사용합니다.\n",
    "        soup = BeautifulSoup(news.content, 'html.parser')\n",
    "\n",
    "        # CASE 1\n",
    "        news_list = soup.select('.newsflash_body .type06_headline li dl')\n",
    "        # CASE 2\n",
    "        news_list.extend(soup.select('.newsflash_body .type06 li dl'))\n",
    "\n",
    "        # 각 뉴스로부터 a 태그인 <a href ='주소'> 에서 '주소'만을 가져옵니다.\n",
    "        for line in news_list:\n",
    "            urllist.append(line.a.get('href'))\n",
    "    return urllist"
   ]
  },
  {
   "cell_type": "code",
   "execution_count": 65,
   "metadata": {},
   "outputs": [
    {
     "name": "stdout",
     "output_type": "stream",
     "text": [
      "뉴스기사의 갯수: 20\n"
     ]
    }
   ],
   "source": [
    "# 함수 실행\n",
    "url_list = make_urllist(1, 101, 20201031)\n",
    "print('뉴스기사의 갯수:', len(url_list))"
   ]
  },
  {
   "cell_type": "code",
   "execution_count": 66,
   "metadata": {},
   "outputs": [
    {
     "data": {
      "text/plain": [
       "['https://news.naver.com/main/read.nhn?mode=LSD&mid=sec&sid1=101&oid=056&aid=0010926497',\n",
       " 'https://news.naver.com/main/read.nhn?mode=LSD&mid=sec&sid1=101&oid=022&aid=0003518608',\n",
       " 'https://news.naver.com/main/read.nhn?mode=LSD&mid=sec&sid1=101&oid=015&aid=0004441305',\n",
       " 'https://news.naver.com/main/read.nhn?mode=LSD&mid=sec&sid1=101&oid=277&aid=0004783335',\n",
       " 'https://news.naver.com/main/read.nhn?mode=LSD&mid=sec&sid1=101&oid=014&aid=0004520569']"
      ]
     },
     "execution_count": 66,
     "metadata": {},
     "output_type": "execute_result"
    }
   ],
   "source": [
    "# 5개만 출력\n",
    "url_list[:5]"
   ]
  },
  {
   "cell_type": "code",
   "execution_count": 67,
   "metadata": {},
   "outputs": [],
   "source": [
    "# code를 딕셔너리화\n",
    "idx2word = {'101' : '경제', '102' : '사회', '103' : '생활/문화', '105' : 'IT/과학'}"
   ]
  },
  {
   "cell_type": "code",
   "execution_count": 68,
   "metadata": {},
   "outputs": [],
   "source": [
    "from newspaper import Article\n",
    "\n",
    "#- 데이터프레임을 생성하는 함수입니다.\n",
    "def make_data(urllist, code):\n",
    "    text_list = []\n",
    "    for url in urllist:\n",
    "        article = Article(url, language='ko')\n",
    "        article.download()\n",
    "        article.parse()\n",
    "        text_list.append(article.text)\n",
    "\n",
    "#- 데이터프레임의 'news' 키 아래 파싱한 텍스트를 밸류로 붙여줍니다.\n",
    "    df = pd.DataFrame({'news': text_list})\n",
    "\n",
    "#- 데이터프레임의 'code' 키 아래 한글 카테고리명을 붙여줍니다.\n",
    "    df['code'] = idx2word[str(code)]\n",
    "    return df"
   ]
  },
  {
   "cell_type": "code",
   "execution_count": 69,
   "metadata": {},
   "outputs": [
    {
     "data": {
      "text/html": [
       "<div>\n",
       "<style scoped>\n",
       "    .dataframe tbody tr th:only-of-type {\n",
       "        vertical-align: middle;\n",
       "    }\n",
       "\n",
       "    .dataframe tbody tr th {\n",
       "        vertical-align: top;\n",
       "    }\n",
       "\n",
       "    .dataframe thead th {\n",
       "        text-align: right;\n",
       "    }\n",
       "</style>\n",
       "<table border=\"1\" class=\"dataframe\">\n",
       "  <thead>\n",
       "    <tr style=\"text-align: right;\">\n",
       "      <th></th>\n",
       "      <th>news</th>\n",
       "      <th>code</th>\n",
       "    </tr>\n",
       "  </thead>\n",
       "  <tbody>\n",
       "    <tr>\n",
       "      <th>0</th>\n",
       "      <td>[KBS 울산]전세 공급 부족 수준을 보여주는 울산의 '전세수급지수'가 9년여 만에...</td>\n",
       "      <td>경제</td>\n",
       "    </tr>\n",
       "    <tr>\n",
       "      <th>1</th>\n",
       "      <td>자료=통계청\\n\\n지난해 서비스업에 종사하는 임금근로자의 대출이 크게 늘고 연체율도...</td>\n",
       "      <td>경제</td>\n",
       "    </tr>\n",
       "    <tr>\n",
       "      <th>2</th>\n",
       "      <td>밀양시가 주최하고 비베카요가가 주관하는 '밀양아리랑 국제 VIRTUAL 요가 콘퍼런...</td>\n",
       "      <td>경제</td>\n",
       "    </tr>\n",
       "    <tr>\n",
       "      <th>3</th>\n",
       "      <td>[아시아경제 조강욱 기자] 이동걸 회장이 산업은행이 최근 선보인 정기예금 신상품에 ...</td>\n",
       "      <td>경제</td>\n",
       "    </tr>\n",
       "    <tr>\n",
       "      <th>4</th>\n",
       "      <td>신용회복위원회는 최근 포스트 코로나19 시대에 발맞춰 '금융교육 강사 비대면 워크숍...</td>\n",
       "      <td>경제</td>\n",
       "    </tr>\n",
       "    <tr>\n",
       "      <th>5</th>\n",
       "      <td>[파이낸셜뉴스] 던킨 도너츠와 배스킨라빈스 운용사인 던킨 브랜즈 그룹이 미국 햄버거...</td>\n",
       "      <td>경제</td>\n",
       "    </tr>\n",
       "    <tr>\n",
       "      <th>6</th>\n",
       "      <td>동영상 뉴스\\n\\n[앵커]최근 택배기사 사망이 잇따르면서 택배 회사들이 분류작업 인...</td>\n",
       "      <td>경제</td>\n",
       "    </tr>\n",
       "    <tr>\n",
       "      <th>7</th>\n",
       "      <td>[KBS 춘천]강원도가 도의회에 제출한 행정사무감사 자료를 보면, 지난달(9월) 기...</td>\n",
       "      <td>경제</td>\n",
       "    </tr>\n",
       "    <tr>\n",
       "      <th>8</th>\n",
       "      <td>[KBS 창원]조선업 주력인 창원과 거제, 통영, 고성군이 고용위기지역 연장을 정부...</td>\n",
       "      <td>경제</td>\n",
       "    </tr>\n",
       "    <tr>\n",
       "      <th>9</th>\n",
       "      <td>동영상 뉴스\\n\\n[앵커]새 임대차법 시행과 저금리 장기화 등으로 전셋값이 계속해서...</td>\n",
       "      <td>경제</td>\n",
       "    </tr>\n",
       "  </tbody>\n",
       "</table>\n",
       "</div>"
      ],
      "text/plain": [
       "                                                news code\n",
       "0  [KBS 울산]전세 공급 부족 수준을 보여주는 울산의 '전세수급지수'가 9년여 만에...   경제\n",
       "1  자료=통계청\\n\\n지난해 서비스업에 종사하는 임금근로자의 대출이 크게 늘고 연체율도...   경제\n",
       "2  밀양시가 주최하고 비베카요가가 주관하는 '밀양아리랑 국제 VIRTUAL 요가 콘퍼런...   경제\n",
       "3  [아시아경제 조강욱 기자] 이동걸 회장이 산업은행이 최근 선보인 정기예금 신상품에 ...   경제\n",
       "4  신용회복위원회는 최근 포스트 코로나19 시대에 발맞춰 '금융교육 강사 비대면 워크숍...   경제\n",
       "5  [파이낸셜뉴스] 던킨 도너츠와 배스킨라빈스 운용사인 던킨 브랜즈 그룹이 미국 햄버거...   경제\n",
       "6  동영상 뉴스\\n\\n[앵커]최근 택배기사 사망이 잇따르면서 택배 회사들이 분류작업 인...   경제\n",
       "7  [KBS 춘천]강원도가 도의회에 제출한 행정사무감사 자료를 보면, 지난달(9월) 기...   경제\n",
       "8  [KBS 창원]조선업 주력인 창원과 거제, 통영, 고성군이 고용위기지역 연장을 정부...   경제\n",
       "9  동영상 뉴스\\n\\n[앵커]새 임대차법 시행과 저금리 장기화 등으로 전셋값이 계속해서...   경제"
      ]
     },
     "execution_count": 69,
     "metadata": {},
     "output_type": "execute_result"
    }
   ],
   "source": [
    "data = make_data(url_list, 101)\n",
    "#- 상위 10개만 출력해봅니다.\n",
    "data[:10]"
   ]
  },
  {
   "cell_type": "code",
   "execution_count": 70,
   "metadata": {},
   "outputs": [
    {
     "data": {
      "text/plain": [
       "\"[KBS 울산]전세 공급 부족 수준을 보여주는 울산의 '전세수급지수'가 9년여 만에 최고치를 기록했습니다.KB국민은행이 발표한 월간 주택시장 동향에 따르면 10월 전국의 전세수급지수는 191.1로, 지난달 보다 4.1포인트 상승해 19년 2개월 만에 가장 높았고, 울산은 189.9로 9년 8개월 만에 가장 높았습니다.박영하 (ha93@kbs.co.kr)\""
      ]
     },
     "execution_count": 70,
     "metadata": {},
     "output_type": "execute_result"
    }
   ],
   "source": [
    "data.loc[0].news"
   ]
  },
  {
   "cell_type": "markdown",
   "metadata": {},
   "source": [
    "## 네이버 뉴스 기사 크롤링 (3) 데이터 수집 & 전처리"
   ]
  },
  {
   "cell_type": "code",
   "execution_count": 71,
   "metadata": {},
   "outputs": [
    {
     "data": {
      "text/plain": [
       "[102, 103, 105]"
      ]
     },
     "execution_count": 71,
     "metadata": {},
     "output_type": "execute_result"
    }
   ],
   "source": [
    "code_list = [102, 103, 105]\n",
    "\n",
    "code_list"
   ]
  },
  {
   "cell_type": "code",
   "execution_count": 72,
   "metadata": {},
   "outputs": [],
   "source": [
    "def make_total_data(page_num, code_list, date):\n",
    "    df = None\n",
    "\n",
    "    for code in code_list:\n",
    "        url_list = make_urllist(page_num, code, date)\n",
    "        df_temp = make_data(url_list, code)\n",
    "        print(str(code)+'번 코드에 대한 데이터를 만들었습니다.')\n",
    "\n",
    "        if df is not None:\n",
    "            df = pd.concat([df, df_temp])\n",
    "        else:\n",
    "            df = df_temp\n",
    "\n",
    "    return df"
   ]
  },
  {
   "cell_type": "code",
   "execution_count": 73,
   "metadata": {},
   "outputs": [
    {
     "name": "stdout",
     "output_type": "stream",
     "text": [
      "102번 코드에 대한 데이터를 만들었습니다.\n",
      "103번 코드에 대한 데이터를 만들었습니다.\n",
      "105번 코드에 대한 데이터를 만들었습니다.\n"
     ]
    }
   ],
   "source": [
    "df = make_total_data(1, code_list, 20200506)"
   ]
  },
  {
   "cell_type": "code",
   "execution_count": 74,
   "metadata": {},
   "outputs": [
    {
     "name": "stdout",
     "output_type": "stream",
     "text": [
      "뉴스 기사의 개수:  60\n"
     ]
    }
   ],
   "source": [
    "print('뉴스 기사의 개수: ',len(df))"
   ]
  },
  {
   "cell_type": "code",
   "execution_count": 75,
   "metadata": {},
   "outputs": [
    {
     "data": {
      "text/html": [
       "<div>\n",
       "<style scoped>\n",
       "    .dataframe tbody tr th:only-of-type {\n",
       "        vertical-align: middle;\n",
       "    }\n",
       "\n",
       "    .dataframe tbody tr th {\n",
       "        vertical-align: top;\n",
       "    }\n",
       "\n",
       "    .dataframe thead th {\n",
       "        text-align: right;\n",
       "    }\n",
       "</style>\n",
       "<table border=\"1\" class=\"dataframe\">\n",
       "  <thead>\n",
       "    <tr style=\"text-align: right;\">\n",
       "      <th></th>\n",
       "      <th>news</th>\n",
       "      <th>code</th>\n",
       "    </tr>\n",
       "  </thead>\n",
       "  <tbody>\n",
       "    <tr>\n",
       "      <th>13</th>\n",
       "      <td>블랙홀을 품은 삼중성계 HR 6819 상상도 [ESO/L. Calcada 제공/ 재...</td>\n",
       "      <td>IT/과학</td>\n",
       "    </tr>\n",
       "    <tr>\n",
       "      <th>7</th>\n",
       "      <td>[한국경제TV 김주리 기자]\\n\\n지구에서 약 1천광년밖에 떨어지지 않은 곳에서 맨...</td>\n",
       "      <td>IT/과학</td>\n",
       "    </tr>\n",
       "    <tr>\n",
       "      <th>14</th>\n",
       "      <td>동영상 뉴스\\n\\n[앵커]코로나19 신규 확진자가 2명 발생해 78일 만에 최저치를...</td>\n",
       "      <td>사회</td>\n",
       "    </tr>\n",
       "    <tr>\n",
       "      <th>1</th>\n",
       "      <td>동영상 뉴스\\n\\n오늘 서쪽 지방과 동쪽 지방의 온도 차가 제법 컸습니다.서쪽 지방...</td>\n",
       "      <td>생활/문화</td>\n",
       "    </tr>\n",
       "    <tr>\n",
       "      <th>19</th>\n",
       "      <td>넷플릭스와 유튜브, 페이스북 등에게 국내 이용자를 위한 ‘서비스 안정성’을 유지할 ...</td>\n",
       "      <td>IT/과학</td>\n",
       "    </tr>\n",
       "    <tr>\n",
       "      <th>6</th>\n",
       "      <td>[서울=뉴시스] 오동현 기자 = 펍지주식회사가 올해 첫 '플레이어언노운스 배틀그라운...</td>\n",
       "      <td>IT/과학</td>\n",
       "    </tr>\n",
       "    <tr>\n",
       "      <th>12</th>\n",
       "      <td>17일 오전 서울 종로경찰서에서 아동·청소년의 성보호에 관한 법률 위반 등 혐의와 ...</td>\n",
       "      <td>IT/과학</td>\n",
       "    </tr>\n",
       "    <tr>\n",
       "      <th>14</th>\n",
       "      <td>지난달 23일 오후 강원 춘천시청 대회의실에서 열린 제2회 강원 미래 과학 포럼에서...</td>\n",
       "      <td>IT/과학</td>\n",
       "    </tr>\n",
       "    <tr>\n",
       "      <th>0</th>\n",
       "      <td>[헤럴드경제=고승희 기자] 문화체육관광부는 한국문화예술위원회 7기 비상임위원으로 다...</td>\n",
       "      <td>생활/문화</td>\n",
       "    </tr>\n",
       "    <tr>\n",
       "      <th>0</th>\n",
       "      <td>파주시청. 사진제공=파주시 파주시청. 사진제공=파주시\\n\\n[파주=파이낸셜뉴스 강근...</td>\n",
       "      <td>사회</td>\n",
       "    </tr>\n",
       "  </tbody>\n",
       "</table>\n",
       "</div>"
      ],
      "text/plain": [
       "                                                 news   code\n",
       "13  블랙홀을 품은 삼중성계 HR 6819 상상도 [ESO/L. Calcada 제공/ 재...  IT/과학\n",
       "7   [한국경제TV 김주리 기자]\\n\\n지구에서 약 1천광년밖에 떨어지지 않은 곳에서 맨...  IT/과학\n",
       "14  동영상 뉴스\\n\\n[앵커]코로나19 신규 확진자가 2명 발생해 78일 만에 최저치를...     사회\n",
       "1   동영상 뉴스\\n\\n오늘 서쪽 지방과 동쪽 지방의 온도 차가 제법 컸습니다.서쪽 지방...  생활/문화\n",
       "19  넷플릭스와 유튜브, 페이스북 등에게 국내 이용자를 위한 ‘서비스 안정성’을 유지할 ...  IT/과학\n",
       "6   [서울=뉴시스] 오동현 기자 = 펍지주식회사가 올해 첫 '플레이어언노운스 배틀그라운...  IT/과학\n",
       "12  17일 오전 서울 종로경찰서에서 아동·청소년의 성보호에 관한 법률 위반 등 혐의와 ...  IT/과학\n",
       "14  지난달 23일 오후 강원 춘천시청 대회의실에서 열린 제2회 강원 미래 과학 포럼에서...  IT/과학\n",
       "0   [헤럴드경제=고승희 기자] 문화체육관광부는 한국문화예술위원회 7기 비상임위원으로 다...  생활/문화\n",
       "0   파주시청. 사진제공=파주시 파주시청. 사진제공=파주시\\n\\n[파주=파이낸셜뉴스 강근...     사회"
      ]
     },
     "execution_count": 75,
     "metadata": {},
     "output_type": "execute_result"
    }
   ],
   "source": [
    "df.sample(10)"
   ]
  },
  {
   "cell_type": "code",
   "execution_count": 76,
   "metadata": {},
   "outputs": [
    {
     "name": "stdout",
     "output_type": "stream",
     "text": [
      "102번 코드에 대한 데이터를 만들었습니다.\n",
      "103번 코드에 대한 데이터를 만들었습니다.\n",
      "105번 코드에 대한 데이터를 만들었습니다.\n"
     ]
    }
   ],
   "source": [
    "# 아래 주석처리된 코드의 주석을 해제하고 실행을 하면 대량 크롤링이 진행됩니다. \n",
    "# 위에서 수행했던 크롤링의 100배 분량이 수행될 것입니다. 한꺼번에 너무 많은 크롤링 요청이 서버에 전달되지 않도록 주의해 주세요. \n",
    "# 기사 일자를 바꿔보면서 데이터를 모으면 더욱 다양한 데이터를 얻을 수 있게 됩니다. \n",
    "\n",
    "df = make_total_data(30, code_list, 20201030)"
   ]
  },
  {
   "cell_type": "code",
   "execution_count": 80,
   "metadata": {},
   "outputs": [
    {
     "name": "stdout",
     "output_type": "stream",
     "text": [
      "뉴스 기사의 개수:  1789\n"
     ]
    }
   ],
   "source": [
    "print('뉴스 기사의 개수: ',len(df))"
   ]
  },
  {
   "cell_type": "code",
   "execution_count": 81,
   "metadata": {},
   "outputs": [
    {
     "name": "stdout",
     "output_type": "stream",
     "text": [
      "/home/jin/aiffel/news_crawler/news_data.csv File Saved!\n"
     ]
    }
   ],
   "source": [
    "import os\n",
    "\n",
    "# 데이터프레임 파일을 csv로 저장\n",
    "# 저장경로는 이번프로젝트를 위해 만든 폴더로 지정\n",
    "csv_path = os.getenv(\"HOME\")+\"/aiffel/news_crawler/news_data.csv\"\n",
    "df.to_csv(csv_path, index=False)\n",
    "\n",
    "if os.path.exists(csv_path):\n",
    "    print('{} File Saved!'.format(csv_path))"
   ]
  },
  {
   "cell_type": "markdown",
   "metadata": {},
   "source": [
    "## 네이버 뉴스 기사 크롤링 (4)데이터 전처리"
   ]
  },
  {
   "cell_type": "markdown",
   "metadata": {},
   "source": [
    "* 데이터 정제"
   ]
  },
  {
   "cell_type": "code",
   "execution_count": 1,
   "metadata": {},
   "outputs": [],
   "source": [
    "import os\n",
    "import pandas as pd"
   ]
  },
  {
   "cell_type": "code",
   "execution_count": 2,
   "metadata": {},
   "outputs": [
    {
     "data": {
      "text/html": [
       "<div>\n",
       "<style scoped>\n",
       "    .dataframe tbody tr th:only-of-type {\n",
       "        vertical-align: middle;\n",
       "    }\n",
       "\n",
       "    .dataframe tbody tr th {\n",
       "        vertical-align: top;\n",
       "    }\n",
       "\n",
       "    .dataframe thead th {\n",
       "        text-align: right;\n",
       "    }\n",
       "</style>\n",
       "<table border=\"1\" class=\"dataframe\">\n",
       "  <thead>\n",
       "    <tr style=\"text-align: right;\">\n",
       "      <th></th>\n",
       "      <th>news</th>\n",
       "      <th>code</th>\n",
       "    </tr>\n",
       "  </thead>\n",
       "  <tbody>\n",
       "    <tr>\n",
       "      <th>0</th>\n",
       "      <td>오늘(30일) 밤 8시 40분쯤, 경기도 화성시 우정읍 우정읍사무소 인근 왕복 2차...</td>\n",
       "      <td>사회</td>\n",
       "    </tr>\n",
       "    <tr>\n",
       "      <th>1</th>\n",
       "      <td>기사 섹션 분류 안내\\n\\n기사의 섹션 정보는 해당 언론사의 분류를 따르고 있습니다...</td>\n",
       "      <td>사회</td>\n",
       "    </tr>\n",
       "    <tr>\n",
       "      <th>2</th>\n",
       "      <td>기사 섹션 분류 안내\\n\\n기사의 섹션 정보는 해당 언론사의 분류를 따르고 있습니다...</td>\n",
       "      <td>사회</td>\n",
       "    </tr>\n",
       "    <tr>\n",
       "      <th>3</th>\n",
       "      <td>기사 섹션 분류 안내\\n\\n기사의 섹션 정보는 해당 언론사의 분류를 따르고 있습니다...</td>\n",
       "      <td>사회</td>\n",
       "    </tr>\n",
       "    <tr>\n",
       "      <th>4</th>\n",
       "      <td>기사 섹션 분류 안내\\n\\n기사의 섹션 정보는 해당 언론사의 분류를 따르고 있습니다...</td>\n",
       "      <td>사회</td>\n",
       "    </tr>\n",
       "  </tbody>\n",
       "</table>\n",
       "</div>"
      ],
      "text/plain": [
       "                                                news code\n",
       "0  오늘(30일) 밤 8시 40분쯤, 경기도 화성시 우정읍 우정읍사무소 인근 왕복 2차...   사회\n",
       "1  기사 섹션 분류 안내\\n\\n기사의 섹션 정보는 해당 언론사의 분류를 따르고 있습니다...   사회\n",
       "2  기사 섹션 분류 안내\\n\\n기사의 섹션 정보는 해당 언론사의 분류를 따르고 있습니다...   사회\n",
       "3  기사 섹션 분류 안내\\n\\n기사의 섹션 정보는 해당 언론사의 분류를 따르고 있습니다...   사회\n",
       "4  기사 섹션 분류 안내\\n\\n기사의 섹션 정보는 해당 언론사의 분류를 따르고 있습니다...   사회"
      ]
     },
     "execution_count": 2,
     "metadata": {},
     "output_type": "execute_result"
    }
   ],
   "source": [
    "csv_path = os.getenv('HOME')+'/aiffel/news_crawler/news_data.csv'\n",
    "df = pd.read_table(csv_path, sep=',')\n",
    "df.head()"
   ]
  },
  {
   "cell_type": "markdown",
   "metadata": {},
   "source": [
    "* 정규표현식 이용 >> 한글외의 문자 전부 제거"
   ]
  },
  {
   "cell_type": "code",
   "execution_count": 3,
   "metadata": {},
   "outputs": [
    {
     "data": {
      "text/plain": [
       "0       오늘일밤시분쯤경기도화성시우정읍우정읍사무소인근왕복차로도로에서달리던경차와톤트럭트랙터가서...\n",
       "1       기사섹션분류안내기사의섹션정보는해당언론사의분류를따르고있습니다언론사는개별기사를개이상섹션...\n",
       "2       기사섹션분류안내기사의섹션정보는해당언론사의분류를따르고있습니다언론사는개별기사를개이상섹션...\n",
       "3       기사섹션분류안내기사의섹션정보는해당언론사의분류를따르고있습니다언론사는개별기사를개이상섹션...\n",
       "4       기사섹션분류안내기사의섹션정보는해당언론사의분류를따르고있습니다언론사는개별기사를개이상섹션...\n",
       "                              ...                        \n",
       "1784    애플신제품아이폰가정식출시된일오전서울강남구신사동애플가로수길매장을찾은시민들이아이폰를살펴...\n",
       "1785    최근글로벌에다수의생산기지를두고있는국내주요제조대기업과보안장비계약을체결했습니다이를통해보...\n",
       "1786    게임산업은기술적으로정의할때디지털액터배우를만드는산업입니다김택진사진엔씨소프트이하엔씨대표...\n",
       "1787    일서울송파구에서진행된우아한청년들과민노총서비스일반노동조합의단체교섭조인식에서우아한청년들...\n",
       "1788    엑스포츠뉴스최지영기자아이온이월일오픈예정인클래식서버에대한정보를공개했다일엔씨소프트대표김...\n",
       "Name: news, Length: 1789, dtype: object"
      ]
     },
     "execution_count": 3,
     "metadata": {},
     "output_type": "execute_result"
    }
   ],
   "source": [
    "df['news']=df['news'].str.replace(\"[^ㄱ-ㅎㅏ-ㅣ가-힣]\",'')\n",
    "df['news']"
   ]
  },
  {
   "cell_type": "code",
   "execution_count": 4,
   "metadata": {},
   "outputs": [
    {
     "name": "stdout",
     "output_type": "stream",
     "text": [
      "news    0\n",
      "code    0\n",
      "dtype: int64\n"
     ]
    }
   ],
   "source": [
    "# 데이터에 Null 있나 확인\n",
    "print(df.isnull().sum())\n"
   ]
  },
  {
   "cell_type": "code",
   "execution_count": 5,
   "metadata": {},
   "outputs": [
    {
     "name": "stdout",
     "output_type": "stream",
     "text": [
      "뉴스기사 갯수: 1377\n"
     ]
    }
   ],
   "source": [
    "# 중복된 샘플 제거\n",
    "df.drop_duplicates(subset=['news'], inplace=True)\n",
    "\n",
    "print('뉴스기사 갯수:', len(df)) #1783 >>1377"
   ]
  },
  {
   "cell_type": "markdown",
   "metadata": {},
   "source": [
    "### 데이터 탐색"
   ]
  },
  {
   "cell_type": "markdown",
   "metadata": {},
   "source": [
    "*  각 카테괴별 샘플의 분포 확인"
   ]
  },
  {
   "cell_type": "markdown",
   "metadata": {},
   "source": [
    "**Matplotlib 한글폰트 적용**"
   ]
  },
  {
   "cell_type": "code",
   "execution_count": 6,
   "metadata": {},
   "outputs": [],
   "source": [
    "import matplotlib\n",
    "import matplotlib.pyplot as plt\n",
    "import matplotlib.font_manager as fm"
   ]
  },
  {
   "cell_type": "code",
   "execution_count": 7,
   "metadata": {},
   "outputs": [
    {
     "name": "stdout",
     "output_type": "stream",
     "text": [
      "['/usr/share/fonts/truetype/Gargi/Gargi.ttf', '/usr/share/fonts/truetype/tlwg/TlwgTypist.ttf', '/usr/share/fonts/truetype/freefont/FreeMonoBold.ttf', '/usr/share/fonts/truetype/nanum/NanumSquareL.ttf', '/usr/share/fonts/truetype/fonts-beng-extra/LikhanNormal.ttf', '/usr/share/fonts/truetype/kacst/KacstPoster.ttf', '/usr/share/fonts/truetype/ubuntu/UbuntuMono-RI.ttf', '/usr/share/fonts/truetype/lohit-tamil/Lohit-Tamil.ttf', '/usr/share/fonts/truetype/nanum/NanumGothicCoding-Bold.ttf', '/usr/share/fonts/truetype/nanum/NanumMyeongjoEco.ttf', '/usr/share/fonts/opentype/noto/NotoSerifCJK-Regular.ttc', '/usr/share/fonts/truetype/tlwg/Sawasdee-Bold.ttf', '/usr/share/fonts/truetype/lohit-assamese/Lohit-Assamese.ttf', '/usr/share/fonts/truetype/tlwg/Kinnari-Italic.ttf', '/usr/share/fonts/truetype/tlwg/Purisa-Bold.ttf', '/usr/share/fonts/truetype/freefont/FreeSerifBoldItalic.ttf', '/usr/share/fonts/truetype/freefont/FreeSansBold.ttf', '/usr/share/fonts/truetype/kacst/KacstTitleL.ttf', '/usr/share/fonts/truetype/lao/Phetsarath_OT.ttf', '/usr/share/fonts/truetype/kacst/KacstDecorative.ttf', '/usr/share/fonts/truetype/malayalam/Rachana-Regular.ttf', '/usr/share/fonts/truetype/nanum/NanumMyeongjoEcoExtraBold.ttf', '/usr/share/fonts/truetype/lohit-gujarati/Lohit-Gujarati.ttf', '/usr/share/fonts/truetype/nanum/NanumSquareB.ttf', '/usr/share/fonts/opentype/noto/NotoSerifCJK-Light.ttc', '/usr/share/fonts/truetype/fonts-deva-extra/samanata.ttf', '/usr/share/fonts/truetype/sinhala/lklug.ttf', '/usr/share/fonts/truetype/kacst/KacstScreen.ttf', '/usr/share/fonts/truetype/dejavu/DejaVuSans-ExtraLight.ttf', '/usr/share/fonts/opentype/noto/NotoSerifCJK-Medium.ttc', '/usr/share/fonts/truetype/nanum/NanumBarunGothicLight.ttf', '/usr/share/fonts/truetype/dejavu/DejaVuSerifCondensed-BoldItalic.ttf', '/usr/share/fonts/truetype/tlwg/TlwgTypo-Oblique.ttf', '/usr/share/fonts/truetype/tlwg/Kinnari-Bold.ttf', '/usr/share/fonts/truetype/tlwg/Laksaman-Bold.ttf', '/usr/share/fonts/truetype/nanum/NanumGothicExtraBold.ttf', '/usr/share/fonts/truetype/nanum/NanumMyeongjo.ttf', '/usr/share/fonts/truetype/tlwg/Loma-BoldOblique.ttf', '/usr/share/fonts/truetype/fonts-deva-extra/chandas1-2.ttf', '/usr/share/fonts/truetype/samyak-fonts/Samyak-Gujarati.ttf', '/usr/share/fonts/truetype/dejavu/DejaVuSansMono-Bold.ttf', '/usr/share/fonts/truetype/Gubbi/Gubbi.ttf', '/usr/share/fonts/truetype/malayalam/Keraleeyam.ttf', '/usr/share/fonts/truetype/ttf-khmeros-core/KhmerOSsys.ttf', '/usr/share/fonts/truetype/fonts-beng-extra/mitra.ttf', '/usr/share/fonts/truetype/ubuntu/Ubuntu-BI.ttf', '/usr/share/fonts/truetype/nanum/NanumSquareRoundB.ttf', '/usr/share/fonts/truetype/nanum/NanumBarunGothicBold.ttf', '/usr/share/fonts/truetype/kacst-one/KacstOne.ttf', '/usr/share/fonts/truetype/nanum/NanumBarunpenR.ttf', '/usr/share/fonts/truetype/liberation/LiberationSerif-BoldItalic.ttf', '/usr/share/fonts/truetype/tibetan-machine/TibetanMachineUni.ttf', '/usr/share/fonts/truetype/malayalam/Dyuthi.ttf', '/usr/share/fonts/truetype/kacst/KacstLetter.ttf', '/usr/share/fonts/truetype/tlwg/TlwgTypewriter-Bold.ttf', '/usr/share/fonts/truetype/tlwg/Waree-BoldOblique.ttf', '/usr/share/fonts/truetype/dejavu/DejaVuSansMono-BoldOblique.ttf', '/usr/share/fonts/truetype/dejavu/DejaVuSansMono.ttf', '/usr/share/fonts/truetype/ubuntu/Ubuntu-B.ttf', '/usr/share/fonts/truetype/samyak/Samyak-Devanagari.ttf', '/usr/share/fonts/truetype/liberation/LiberationMono-Bold.ttf', '/usr/share/fonts/truetype/tlwg/Garuda.ttf', '/usr/share/fonts/opentype/noto/NotoSerifCJK-Bold.ttc', '/usr/share/fonts/truetype/fonts-beng-extra/MuktiNarrow.ttf', '/usr/share/fonts/truetype/nanum/NanumMyeongjoExtraBold.ttf', '/usr/share/fonts/truetype/fonts-gujr-extra/Rekha.ttf', '/usr/share/fonts/truetype/padauk/PadaukBook-Bold.ttf', '/usr/share/fonts/truetype/dejavu/DejaVuSansCondensed-Oblique.ttf', '/usr/share/fonts/truetype/tlwg/Purisa-BoldOblique.ttf', '/usr/share/fonts/truetype/liberation/LiberationSerif-Italic.ttf', '/usr/share/fonts/truetype/ubuntu/Ubuntu-RI.ttf', '/usr/share/fonts/truetype/freefont/FreeSerif.ttf', '/usr/share/fonts/truetype/tlwg/TlwgTypewriter.ttf', '/usr/share/fonts/truetype/malayalam/RaghuMalayalamSans-Regular.ttf', '/usr/share/fonts/truetype/tlwg/TlwgMono-Oblique.ttf', '/usr/share/fonts/truetype/liberation2/LiberationSans-BoldItalic.ttf', '/usr/share/fonts/truetype/kacst-one/KacstOne-Bold.ttf', '/usr/share/fonts/truetype/lohit-oriya/Lohit-Odia.ttf', '/usr/share/fonts/truetype/malayalam/Uroob.ttf', '/usr/share/fonts/truetype/lohit-telugu/Lohit-Telugu.ttf', '/usr/share/fonts/truetype/nanum/NanumMyeongjoEcoBold.ttf', '/usr/share/fonts/truetype/dejavu/DejaVuSans.ttf', '/usr/share/fonts/truetype/nanum/NanumBarunGothicUltraLight.ttf', '/usr/share/fonts/truetype/tlwg/Kinnari-Oblique.ttf', '/usr/share/fonts/truetype/ubuntu/UbuntuMono-B.ttf', '/usr/share/fonts/truetype/padauk/Padauk-Bold.ttf', '/usr/share/fonts/truetype/nanum/NanumBarunGothic.ttf', '/usr/share/fonts/truetype/fonts-gujr-extra/padmaa-Bold.1.1.ttf', '/usr/share/fonts/truetype/freefont/FreeMonoBoldOblique.ttf', '/usr/share/fonts/truetype/tlwg/TlwgMono-BoldOblique.ttf', '/usr/share/fonts/truetype/fonts-beng-extra/MuktiNarrowBold.ttf', '/usr/share/fonts/truetype/liberation/LiberationSans-Bold.ttf', '/usr/share/fonts/truetype/malayalam/Chilanka-Regular.ttf', '/usr/share/fonts/truetype/tlwg/Norasi-BoldOblique.ttf', '/usr/share/fonts/opentype/malayalam/Manjari-Thin.otf', '/usr/share/fonts/truetype/nanum/NanumGothicCoding.ttf', '/usr/share/fonts/truetype/lohit-devanagari/Lohit-Devanagari.ttf', '/usr/share/fonts/truetype/liberation2/LiberationMono-Italic.ttf', '/usr/share/fonts/truetype/tlwg/TlwgTypo-BoldOblique.ttf', '/usr/share/fonts/truetype/fonts-deva-extra/kalimati.ttf', '/usr/share/fonts/truetype/samyak-fonts/Samyak-Malayalam.ttf', '/usr/share/fonts/truetype/nanum/NanumSquareRoundR.ttf', '/usr/share/fonts/opentype/noto/NotoSerifCJK-Black.ttc', '/usr/share/fonts/truetype/pagul/Pagul.ttf', '/usr/share/fonts/truetype/tlwg/TlwgTypist-Oblique.ttf', '/usr/share/fonts/truetype/padauk/PadaukBook-Regular.ttf', '/usr/share/fonts/truetype/tlwg/Sawasdee-BoldOblique.ttf', '/usr/share/fonts/opentype/noto/NotoSansCJK-Light.ttc', '/usr/share/fonts/truetype/malayalam/Meera.ttf', '/usr/share/fonts/truetype/dejavu/DejaVuSans-BoldOblique.ttf', '/usr/share/fonts/truetype/tlwg/Norasi-BoldItalic.ttf', '/usr/share/fonts/truetype/tlwg/Umpush-Bold.ttf', '/usr/share/fonts/truetype/ubuntu/Ubuntu-LI.ttf', '/usr/share/fonts/truetype/fonts-gujr-extra/padmaa.ttf', '/usr/share/fonts/truetype/noto/NotoMono-Regular.ttf', '/usr/share/fonts/opentype/noto/NotoSansCJK-Medium.ttc', '/usr/share/fonts/opentype/noto/NotoSansCJK-Bold.ttc', '/usr/share/fonts/truetype/dejavu/DejaVuSansCondensed-BoldOblique.ttf', '/usr/share/fonts/truetype/kacst/KacstBook.ttf', '/usr/share/fonts/truetype/tlwg/Umpush-BoldOblique.ttf', '/usr/share/fonts/truetype/kacst/KacstNaskh.ttf', '/usr/share/fonts/truetype/liberation/LiberationSansNarrow-BoldItalic.ttf', '/usr/share/fonts/truetype/tlwg/TlwgTypo.ttf', '/usr/share/fonts/truetype/tlwg/Garuda-BoldOblique.ttf', '/usr/share/fonts/truetype/liberation2/LiberationSerif-Bold.ttf', '/usr/share/fonts/truetype/liberation/LiberationMono-Regular.ttf', '/usr/share/fonts/truetype/tlwg/Norasi-Oblique.ttf', '/usr/share/fonts/truetype/tlwg/Umpush-Light.ttf', '/usr/share/fonts/truetype/tlwg/Laksaman-BoldItalic.ttf', '/usr/share/fonts/truetype/dejavu/DejaVuSerifCondensed.ttf', '/usr/share/fonts/truetype/liberation2/LiberationSans-Bold.ttf', '/usr/share/fonts/opentype/noto/NotoSansCJK-Black.ttc', '/usr/share/fonts/truetype/dejavu/DejaVuSans-Bold.ttf', '/usr/share/fonts/truetype/lohit-malayalam/Lohit-Malayalam.ttf', '/usr/share/fonts/truetype/liberation2/LiberationMono-BoldItalic.ttf', '/usr/share/fonts/truetype/malayalam/Karumbi.ttf', '/usr/share/fonts/truetype/nanum/NanumGothicBold.ttf', '/usr/share/fonts/truetype/kacst/KacstOffice.ttf', '/usr/share/fonts/truetype/tlwg/Norasi-Bold.ttf', '/usr/share/fonts/truetype/Navilu/Navilu.ttf', '/usr/share/fonts/truetype/ubuntu/Ubuntu-R.ttf', '/usr/share/fonts/truetype/lohit-punjabi/Lohit-Gurmukhi.ttf', '/usr/share/fonts/truetype/nanum/NanumSquareRoundEB.ttf', '/usr/share/fonts/truetype/dejavu/DejaVuMathTeXGyre.ttf', '/usr/share/fonts/truetype/tlwg/Laksaman-Italic.ttf', '/usr/share/fonts/truetype/liberation/LiberationSans-Regular.ttf', '/usr/share/fonts/truetype/liberation/LiberationSans-Italic.ttf', '/usr/share/fonts/truetype/dejavu/DejaVuSans-Oblique.ttf', '/usr/share/fonts/truetype/kacst/KacstArt.ttf', '/usr/share/fonts/truetype/tlwg/Purisa.ttf', '/usr/share/fonts/truetype/freefont/FreeMonoOblique.ttf', '/usr/share/fonts/truetype/tlwg/TlwgTypist-BoldOblique.ttf', '/usr/share/fonts/truetype/liberation/LiberationMono-BoldItalic.ttf', '/usr/share/fonts/truetype/dejavu/DejaVuSansCondensed.ttf', '/usr/share/fonts/truetype/tlwg/Umpush-LightOblique.ttf', '/usr/share/fonts/truetype/freefont/FreeSans.ttf', '/usr/share/fonts/truetype/tlwg/Laksaman.ttf', '/usr/share/fonts/truetype/abyssinica/AbyssinicaSIL-R.ttf', '/usr/share/fonts/truetype/fonts-guru-extra/Saab.ttf', '/usr/share/fonts/truetype/tlwg/Waree.ttf', '/usr/share/fonts/truetype/lohit-kannada/Lohit-Kannada.ttf', '/usr/share/fonts/truetype/samyak-fonts/Samyak-Tamil.ttf', '/usr/share/fonts/truetype/dejavu/DejaVuSerif-Bold.ttf', '/usr/share/fonts/truetype/nanum/NanumSquareEB.ttf', '/usr/share/fonts/truetype/liberation/LiberationSerif-Regular.ttf', '/usr/share/fonts/truetype/liberation2/LiberationMono-Bold.ttf', '/usr/share/fonts/truetype/nanum/NanumMyeongjoBold.ttf', '/usr/share/fonts/truetype/nanum/NanumGothicLight.ttf', '/usr/share/fonts/opentype/malayalam/Manjari-Bold.otf', '/usr/share/fonts/opentype/noto/NotoSansCJK-DemiLight.ttc', '/usr/share/fonts/opentype/noto/NotoSansCJK-Thin.ttc', '/usr/share/fonts/truetype/liberation/LiberationSansNarrow-Italic.ttf', '/usr/share/fonts/truetype/liberation/LiberationMono-Italic.ttf', '/usr/share/fonts/truetype/dejavu/DejaVuSansCondensed-Bold.ttf', '/usr/share/fonts/truetype/lohit-tamil-classical/Lohit-Tamil-Classical.ttf', '/usr/share/fonts/truetype/Sahadeva/sahadeva.ttf', '/usr/share/fonts/truetype/tlwg/Umpush.ttf', '/usr/share/fonts/truetype/nanum/NanumGothicEcoBold.ttf', '/usr/share/fonts/truetype/tlwg/Waree-Oblique.ttf', '/usr/share/fonts/truetype/fonts-beng-extra/JamrulNormal.ttf', '/usr/share/fonts/truetype/ttf-khmeros-core/KhmerOS.ttf', '/usr/share/fonts/truetype/liberation/LiberationSerif-Bold.ttf', '/usr/share/fonts/truetype/liberation/LiberationSansNarrow-Regular.ttf', '/usr/share/fonts/truetype/dejavu/DejaVuSerif-BoldItalic.ttf', '/usr/share/fonts/truetype/fonts-gujr-extra/padmaa-Medium-0.5.ttf', '/usr/share/fonts/truetype/dejavu/DejaVuSerif-Italic.ttf', '/usr/share/fonts/truetype/fonts-orya-extra/utkal.ttf', '/usr/share/fonts/truetype/nanum/NanumBarunpenB.ttf', '/usr/share/fonts/truetype/liberation2/LiberationSerif-Regular.ttf', '/usr/share/fonts/truetype/nanum/NanumGothicEco.ttf', '/usr/share/fonts/truetype/liberation2/LiberationSerif-Italic.ttf', '/usr/share/fonts/truetype/nanum/NanumSquareR.ttf', '/usr/share/fonts/truetype/kacst/KacstDigital.ttf', '/usr/share/fonts/truetype/tlwg/Kinnari-BoldItalic.ttf', '/usr/share/fonts/truetype/malayalam/AnjaliOldLipi.ttf', '/usr/share/fonts/truetype/kacst/KacstQurn.ttf', '/usr/share/fonts/truetype/dejavu/DejaVuSerif.ttf', '/usr/share/fonts/truetype/fonts-gujr-extra/aakar-medium.ttf', '/usr/share/fonts/truetype/tlwg/TlwgTypewriter-BoldOblique.ttf', '/usr/share/fonts/truetype/freefont/FreeSerifBold.ttf', '/usr/share/fonts/truetype/liberation2/LiberationSans-Italic.ttf', '/usr/share/fonts/truetype/dejavu/DejaVuSerifCondensed-Bold.ttf', '/usr/share/fonts/truetype/padauk/Padauk-Regular.ttf', '/usr/share/fonts/truetype/freefont/FreeSerifItalic.ttf', '/usr/share/fonts/truetype/dejavu/DejaVuSansMono-Oblique.ttf', '/usr/share/fonts/truetype/tlwg/TlwgMono.ttf', '/usr/share/fonts/truetype/tlwg/Waree-Bold.ttf', '/usr/share/fonts/truetype/nanum/NanumPen.ttf', '/usr/share/fonts/truetype/fonts-telu-extra/Pothana2000.ttf', '/usr/share/fonts/truetype/fonts-kalapi/Kalapi.ttf', '/usr/share/fonts/truetype/ubuntu/Ubuntu-L.ttf', '/usr/share/fonts/truetype/tlwg/Kinnari-BoldOblique.ttf', '/usr/share/fonts/truetype/tlwg/Norasi.ttf', '/usr/share/fonts/truetype/liberation2/LiberationMono-Regular.ttf', '/usr/share/fonts/truetype/openoffice/opens___.ttf', '/usr/share/fonts/truetype/malayalam/Suruma.ttf', '/usr/share/fonts/truetype/droid/DroidSansFallbackFull.ttf', '/usr/share/fonts/truetype/nanum/NanumBrush.ttf', '/usr/share/fonts/truetype/liberation/LiberationSansNarrow-Bold.ttf', '/usr/share/fonts/truetype/malayalam/Rachana-Bold.ttf', '/usr/share/fonts/opentype/noto/NotoSansCJK-Regular.ttc', '/usr/share/fonts/truetype/tlwg/TlwgTypist-Bold.ttf', '/usr/share/fonts/truetype/kacst/KacstTitle.ttf', '/usr/share/fonts/truetype/tlwg/Sawasdee.ttf', '/usr/share/fonts/truetype/tlwg/Garuda-Bold.ttf', '/usr/share/fonts/truetype/nanum/NanumGothicEcoExtraBold.ttf', '/usr/share/fonts/truetype/kacst/mry_KacstQurn.ttf', '/usr/share/fonts/truetype/freefont/FreeMono.ttf', '/usr/share/fonts/truetype/tlwg/TlwgMono-Bold.ttf', '/usr/share/fonts/truetype/tlwg/Kinnari.ttf', '/usr/share/fonts/truetype/tlwg/Sawasdee-Oblique.ttf', '/usr/share/fonts/truetype/ubuntu/UbuntuMono-R.ttf', '/usr/share/fonts/truetype/freefont/FreeSansBoldOblique.ttf', '/usr/share/fonts/truetype/nanum/NanumSquareRoundL.ttf', '/usr/share/fonts/opentype/noto/NotoSerifCJK-SemiBold.ttc', '/usr/share/fonts/truetype/tlwg/TlwgTypo-Bold.ttf', '/usr/share/fonts/truetype/ubuntu/Ubuntu-M.ttf', '/usr/share/fonts/truetype/tlwg/Loma.ttf', '/usr/share/fonts/truetype/liberation2/LiberationSerif-BoldItalic.ttf', '/usr/share/fonts/opentype/noto/NotoSerifCJK-ExtraLight.ttc', '/usr/share/fonts/truetype/tlwg/Norasi-Italic.ttf', '/usr/share/fonts/truetype/ubuntu/Ubuntu-MI.ttf', '/usr/share/fonts/truetype/kacst/KacstFarsi.ttf', '/usr/share/fonts/truetype/liberation2/LiberationSans-Regular.ttf', '/usr/share/fonts/truetype/freefont/FreeSansOblique.ttf', '/usr/share/fonts/truetype/fonts-beng-extra/ani.ttf', '/usr/share/fonts/truetype/fonts-telu-extra/vemana2000.ttf', '/usr/share/fonts/truetype/tlwg/Umpush-Oblique.ttf', '/usr/share/fonts/truetype/nanum/NanumGothic.ttf', '/usr/share/fonts/truetype/tlwg/TlwgTypewriter-Oblique.ttf', '/usr/share/fonts/truetype/Nakula/nakula.ttf', '/usr/share/fonts/truetype/ubuntu/Ubuntu-C.ttf', '/usr/share/fonts/truetype/tlwg/Loma-Bold.ttf', '/usr/share/fonts/truetype/dejavu/DejaVuSerifCondensed-Italic.ttf', '/usr/share/fonts/truetype/lohit-bengali/Lohit-Bengali.ttf', '/usr/share/fonts/truetype/ubuntu/UbuntuMono-BI.ttf', '/usr/share/fonts/truetype/tlwg/Loma-Oblique.ttf', '/usr/share/fonts/opentype/malayalam/Manjari-Regular.otf', '/usr/share/fonts/truetype/noto/NotoColorEmoji.ttf', '/usr/share/fonts/truetype/kacst/KacstPen.ttf', '/usr/share/fonts/truetype/Sarai/Sarai.ttf', '/usr/share/fonts/truetype/tlwg/Purisa-Oblique.ttf', '/usr/share/fonts/truetype/liberation/LiberationSans-BoldItalic.ttf', '/usr/share/fonts/truetype/tlwg/Garuda-Oblique.ttf']\n"
     ]
    }
   ],
   "source": [
    "font_list = fm.findSystemFonts(fontpaths = None, fontext = 'ttf')\n",
    "\n",
    "print(font_list)"
   ]
  },
  {
   "cell_type": "code",
   "execution_count": 8,
   "metadata": {},
   "outputs": [],
   "source": [
    "font_location = '/usr/share/fonts/opentype/noto/NotoSansCJK-Light.ttc'\n",
    "font_name = fm.FontProperties(fname=font_location).get_name()\n",
    "matplotlib.rc('font', family=font_name)"
   ]
  },
  {
   "cell_type": "code",
   "execution_count": 9,
   "metadata": {},
   "outputs": [],
   "source": [
    "# (어느 폰트가 한글을 지원하는지 모르겠는 경우) 폰트 이름에 'cjk'가 들어가는 폰트는 전부 한글을 지원합니다.\n",
    "# print([i for i in font_list if 'CJK' in i])"
   ]
  },
  {
   "cell_type": "code",
   "execution_count": 10,
   "metadata": {
    "scrolled": true
   },
   "outputs": [
    {
     "data": {
      "text/plain": [
       "<AxesSubplot:>"
      ]
     },
     "execution_count": 10,
     "metadata": {},
     "output_type": "execute_result"
    },
    {
     "data": {
      "image/png": "[encoded data removed]",
      "text/plain": [
       "<Figure size 432x288 with 1 Axes>"
      ]
     },
     "metadata": {
      "needs_background": "light"
     },
     "output_type": "display_data"
    }
   ],
   "source": [
    "df['code'].value_counts().plot(kind='bar')"
   ]
  },
  {
   "cell_type": "code",
   "execution_count": 11,
   "metadata": {},
   "outputs": [
    {
     "name": "stdout",
     "output_type": "stream",
     "text": [
      "    code  count\n",
      "0  IT/과학    519\n",
      "1     사회    388\n",
      "2  생활/문화    470\n"
     ]
    }
   ],
   "source": [
    "# 데이터 실제 갯수 확인\n",
    "# size() - 각 그룹의 사이즈를 취득할 수 있습니다.\n",
    "print(df.groupby('code').size().reset_index(name='count'))"
   ]
  },
  {
   "cell_type": "markdown",
   "metadata": {},
   "source": [
    "## 토큰화"
   ]
  },
  {
   "cell_type": "markdown",
   "metadata": {},
   "source": [
    "* 문자열을 특정다위로 나눈다 --나누는 단위 : 토큰\n",
    "* 토큰화, 토크나이징(tokinize)"
   ]
  },
  {
   "cell_type": "markdown",
   "metadata": {},
   "source": [
    "### 단어 토큰화시 고려해야 할 사항\n",
    "1) 구두점이나 특수 문자를 단순 제외해서는 안 된다.\n",
    "\n",
    "\n",
    "2) 줄임말과 단어 내에 띄어쓰기가 있는 경우.\n"
   ]
  },
  {
   "cell_type": "code",
   "execution_count": 12,
   "metadata": {},
   "outputs": [],
   "source": [
    "# 자바 설치 후 (sudo apt-get install openjdk-8-jdk)\n",
    "# java -version 확인\n",
    "# pip3 install JPype1-py3 or pip install JPype1"
   ]
  },
  {
   "cell_type": "code",
   "execution_count": 13,
   "metadata": {},
   "outputs": [],
   "source": [
    "from konlpy.tag import Komoran"
   ]
  },
  {
   "cell_type": "code",
   "execution_count": 14,
   "metadata": {},
   "outputs": [],
   "source": [
    "tokenizer = Komoran()"
   ]
  },
  {
   "cell_type": "code",
   "execution_count": 15,
   "metadata": {},
   "outputs": [
    {
     "name": "stdout",
     "output_type": "stream",
     "text": [
      "['밤', '에', '귀가', '하', '던', '여성', '에게', '범죄', '를', '시도', '하', 'ㄴ', '대', '남성', '이', '구속', '되', '었', '다', '서울', '제주', '경찰서', '는', '상해', '혐의', '로', '씨', '를', '구속', '하', '아', '수사', '하', '고', '있', '다고', '일', '밝히', '었', '다', '씨', '는', '지난달', '일', '피해', '여성', '을', '인근', '지하철', '역', '에서부터', '따라가', '아', '폭행', '을', '시도', '하', '려다가', '도망가', 'ㄴ', '혐의', '를', '받', '는다', '피하', '아', '여성', '이', '저항', '하', '자', '놀라', 'ㄴ', '씨', '는', '도망가', '았', '으며', '신고', '를', '받', '고', '주변', '을', '수색', '하', '던', '경찰', '에', '체포', '되', '었', '다', '피하', '아', '여성', '은', '이', '과정', '에서', '경미', '하', 'ㄴ', '부상', '을', '입', '은', '것', '으로', '전하', '아', '지', '었', '다']\n"
     ]
    }
   ],
   "source": [
    "kor_text = '밤에 귀가하던 여성에게 범죄를 시도한 대 남성이 구속됐다서울 제주경찰서는 \\\n",
    "            상해 혐의로 씨를 구속해 수사하고 있다고 일 밝혔다씨는 지난달 일 피해 여성을 \\\n",
    "            인근 지하철 역에서부터 따라가 폭행을 시도하려다가 도망간 혐의를 받는다피해 \\\n",
    "            여성이 저항하자 놀란 씨는 도망갔으며 신고를 받고 주변을 수색하던 경찰에 \\\n",
    "            체포됐다피해 여성은 이 과정에서 경미한 부상을 입은 것으로 전해졌다'\n",
    "\n",
    "#- 형태소 분석, 즉 토큰화(tokenization)를 합니다.\n",
    "print(tokenizer.morphs(kor_text))"
   ]
  },
  {
   "cell_type": "markdown",
   "metadata": {},
   "source": [
    "## 불용어 제거"
   ]
  },
  {
   "cell_type": "markdown",
   "metadata": {},
   "source": [
    "* 불필요한 토큰들 제거  \n",
    "(토큰화과정을 거친결과를 지속 확인하며 계속 추가)"
   ]
  },
  {
   "cell_type": "code",
   "execution_count": 16,
   "metadata": {},
   "outputs": [],
   "source": [
    "stopwords = ['에','는','은','을','했','에게','있','이','의','하','한','다','과','때문','할','수','무단','따른','및','금지','전재','경향신문','기자','는데','가','등','들','파이낸셜','저작','등','뉴스']"
   ]
  },
  {
   "cell_type": "code",
   "execution_count": 17,
   "metadata": {},
   "outputs": [],
   "source": [
    "# 토큰화 및 토큰화 과정에서 불용어를 제거하는 함수\n",
    "def preprocessing(data):\n",
    "    text_data=[]\n",
    "    \n",
    "    for sentence in data:\n",
    "        temp_data=[]\n",
    "        # 토큰화\n",
    "        temp_data = tokenizer.morphs(sentence)\n",
    "        \n",
    "        # 불용어 제거\n",
    "        temp_data = [word for word in temp_data if not word in stopwords]\n",
    "        text_data.append(temp_data)\n",
    "        \n",
    "    text_data = list(map(' '.join, text_data))  #.join -- list to str\n",
    "    \n",
    "    return text_data\n",
    "    "
   ]
  },
  {
   "cell_type": "code",
   "execution_count": 20,
   "metadata": {},
   "outputs": [
    {
     "name": "stdout",
     "output_type": "stream",
     "text": [
      "['오늘 일밤 시 분 쯤 경기도 화성시 우정읍 우정읍 사무소 인근 왕복 차로 도로 에서 달리 던 경 차 와 톤 트럭 트랙터 서로 부딪히 었 습니다 이사 고로 경차 운전 자와 톤 트럭 운전 자가 다리 와 가슴 등에 통증 호소 해인 근 병원 으로 옮기 어 지 어 치료 를 받 고 습니다 경찰 관계자 달리 던 경 차 앞서 어 던 트랙터 를 뒤 늦 게 발견 고 를 피하 려다 중앙선 넘 어 말 아 주 오 던 트럭 부딪히 고 과정 에서 트랙터 와 도 부딪히 ㄴ 것 으로 보이 ㄴ다고 설명 았 습니다 경찰 은운 전자 상대로 정확 ㄴ 사고 경위 를 조사 고 습니다 사진 출처 시청자 제공 김민혁', '기사 섹션 분류 안내 기사 섹션 정보 해당 언론사 분류 를 따르 고 습니다 언론사 개별 기사 를 개 이상 섹션 으로 중복 분류 ㄹ 습니다 닫 기', '한국경제 조시형 전북 군산 만경강 에서 지나 ㄴ 일 채취 야생 조류 분변 국립 야생동물 질병 관리 원 이중 간 검사 결과 형조 류 인플루엔자 항원 검출 되 었 다고 환경부 일 밝히 었 이번 검출 되 ㄴ 항원 고 병원 성 어 불 일 후 확인 되 ㄴ 환경부 농림 축산 식품 부 질병 관리 청 해당 지자체 관계 기관 에조 류 인플루엔자 바이러스 검출 사실 즉시 통보 해 항원 검출 되 ㄴ 곳 주변 지역 등에 대 해 신속히 방역 조처 를 도록 았 야생 조류 조류 인플루엔자 긴급 행동 지침 따라 이번 형 항원 이나 온 지점 에서 반경 내 지역 에서 야생 조류 분변 채집 나서 한편 조류 폐 사체 등에 대한 예찰 활동 벌이 기로 았 조시형 한국경제 재배 포', '서울 송파구 서울 동부 지검 구 윤 성기 자 서울 송파구 서울 동부 지검 구 윤 성기 자 서울 이상학 윤 대진 법무연수원 부원 장의 친 형 ㄴ 윤 우진 전 용산 세무서 장이 지난 월 변호사법 위 반사 건과 관련 해 참고인 신분 으로 조사 를 받 것 으로 알리 어 지 었 ㄹ 검찰 따르 면서 울 ㄹ 동부 지검 지나 ㄴ 월 윤전 세무서장 변호사법 위 반소 지가 있다 고 판단 해 참고인 신분 으로 부르 어 조사 았 중국 수입 업체 를 ㅁ 께 운영 던 친척 씨 와 씨 법률 문제 가생 겨 윤전 세무서장 찾아가 아 검사장 출신 변호사 를 소개 받 것 으로 전하 아 지 었 윤전 세무서 장은 변호사 를 소개 뒤 업무 상당 부분 관여 ㄴ 것 으로 알리 어 지 었 사건 서울 동부 지검 형 사부 에서 조사 다가 재배 당 되 어 형 사부 에서 조사 중인 것 으로 파악 되 었 앞 서 추미애 법무부 장관 지나 ㄴ 일 윤전 세무서 장이 육류 수입업자 으로부터 뇌물 받 았 지만 불 ㄹ 기소 처분 되 었 다는 의혹 대하 아 수사 지휘 권 발동 았 윤 전서 장이 년 육류 수입업자 로부터 세무 조사 무마 청탁 함께 현금 골프 접대 등수 천 만원 금품 받 혐의 로 경찰 수사 를 받 과정 윤석열 검찰 총장 이당 시 서울 중앙 지검 특수 부장 으로 개입 게 아니 냐는 의혹 이다 윤 대진 부원 장은 윤석열 총장 측근 으로 소유 ㄴ 으로 불리 ㄴ 코리아 재배 포', '동영상 앵커 아 ㄹ 러 윈 맞 아서 울 ㄹ 이태원 번화가 젊은이 발길 이어지 고 습니다 이러 ㄴ 가운데 전국 지자체 와 방역 당 국의 긴장도 높 아 지 고 데 요 이태원 현장 취재 나가 아 습니다 홍 민 기기 자네 그곳 분위기 전 아 주 시 죠 네 벌써 자정 가깝 ㄴ 시각 지만 곳 이태원 오히려 더욱 붐비 모습 입 니다 제 뒤 로 도 이태원 찾 사람 들이 골목 가득 메우 고 것 보 시 ㄹ 는데요 아 ㄹ 러 윈 분위기 를 내면 서도 방역 수칙 지키 기 위해 마스크 위 유령 이나 좀비 특수 분장 한경 우도 볼 었 습니다 게 대부분 무척 붐비 모습 었 저희 취재진 이이 곳 돌아보 니 마스크 를 벗 채모 여 서 담배 를 피우 방역 수칙 지키 지 않 모습 도 보이 었 습니다 좁 식당 에서 다닥다닥 붙 어 음식 먹 모 습도 볼 었 는데요 이렇 게 많 사람 몰리 ㄴ 만큼 곳 이태원 상인 이번 아 ㄹ 러 윈 복잡 ㄴ 심경 으로 준비 고 습니다 지나 ㄴ 월 이태원 클럽 에서 집단 감염 발생 하면 서 손님 발길 뚝 끊기 ㄴ 뒤 처음 맞 대목 이기 ㄴ데요 지만 한편 으로 또다시 집단 감염 발생 지 않 을까 우려 스스로 손소독 방역 수칙 지키 모습 었 습니다 게 곳곳 사람 로 적 지 않 모습 었 지 말 ㄴ 정도 도예 년 비하 면 적 규모 라고 ㅂ니다 곳 이태원 에서 도 오늘 오후 를 기준 으로 클럽 곳 전부 와 감성 주점 곳 가운데 곳 이자율 휴업 들어가 았 기 ㄴ 데 요 서울시 전체 로 도 클럽 가운데 절반 정도 와 약 감성 주점 이해 ㄹ 러 윈 기간 영업 쉬 기로 았 습니다 앵커 네 지자체 와 방역 당국 도 긴장 크 ㄹ 듯 ㅂ니다 네 그렇 습니다 우선 이번 아 ㄹ 러 윈 동안 방역 수칙 어기 서울시 내 유흥 주점 바로 집합 조치 되 ㅂ니다 서 어 울 시 법무부 경찰청 식 약 처 공무원 명 합동 점검 반 구성 해 밤 시부 터 새벽 시 까지 집중 점검 진행 고 습니다 방역 수칙 지키 지 않 아 적발 되 ㄴ 업소 대하 아서 원 스트라이크 아웃 제 를 적용 ㄴ다는 건 데 요 용산구 청도 아 ㄹ 러 윈 앞두 고 지나 ㄴ 일 부터 이번 주말 까지 를 특별 방역 추진 기간 으로 정하 았 습니다 태원 일대 유흥 주점 이나 방 고 위험 시설 곳 에서 방역 수칙 잘 지키 어 지 지점 검도 강화 았 습니다 또 본격 적 으로 사람 몰리 ㄹ 것 으로 보이 오늘 부터 현장 상황 대응 반 운영 요구 직원 명 이태원 거리 구역 맡 아 순찰 하면 서 방역 수칙 을제 대로 지키 지점 검 ㄹ 예정 입 니다 지금 까 지 서울 이태원 세계 음식 것 리에 서 홍민기 ㅂ니다 당신 제보 되 ㅂ니다 여러분 의소 중 제보 를 기 립 니다 카카오톡 검색 해 채널 추가 전화 메일 온라인 제보 저작권 자 재배 포', '앵커 추미애 법무부 장관 윤석열 검찰 총장 갈등 계속 되 가운데 서울 중앙 지검 이윤 총장 관련 사건 수사 속도 를 내 고 습니다 ㄴ 편 추장 관의 잇따르 ㄴ 수사 지휘 권 발동 감찰 권 행사 를 놓 고 반발 검찰 내부 목소리 도 점점 커지 고 습니다 김 진호 입 니다 리포트 추미애 법무부 장관 윤석열 검찰 총장 주변 인물 관련 해 수사 지휘 권 행사 ㄴ 사건 건 ㅂ니다 그중 윤 총장 장모 최 모 씨 불법 요양 병원 설립 관여 았 다는 의혹 규명 데 속도 붙 었 습니다 검찰 최 씨 동업자 와 요양 병원 운영자 최근 잇따르 아 조사 았 습니다 또 파 주시 해당 요양 병원 관련 되 ㄴ 서류 를 넘기 어 달 라고 요청 았 습니다 요양 병원 설립 운영 과정 장모 최 씨 실제로 관여 았 는지 파악 려는 것 으로 보이 ㅂ니다 또 윤 총장 최 측근 으로 알리 어 지 ㄴ 윤 대진 검사 장 의형 윤 우진 전 영등포 세무서 장의 뇌물 사건 무마 의혹 대하 아서 도 사가 진행 중 ㅂ니다 검찰 영등포 세무서 와 중부지방국세청 압수수색 강제 수사 돌입 해 사건 무마 여부 를 들여다보 고 습니다 비 해 윤 총장 부인 ㄴ 김건희 씨 가운 영 코바 나라 업체 기업 후원금 급증 았 다는 의혹 은수사 팀 정해 지지 도 않 았 습니다 중앙 지검 측은 사건 검토 중 라고 았 지만 검찰 안팎 에선 해당 사건 혐의 입증 어렵 어 선뜻 수사 를 맡 으려는 부서 없 것 아니 냐는 추측 도 나오 고 습니다 추 장관 대하 ㄴ 검찰 내부 반발 심하 아 지 분위기 ㅂ니다 추장 관이 커밍아웃 라는 말로 수사 지휘 를 비판 평검사 를 겨냥 해 글 올리 ㄴ 데 반발 고 겁 니다 실 제로 현직 검사 중 나도 커밍아웃 동참 ㄴ다는 식 항의 성 댓글 올리 ㄴ 사람 오늘 저녁 까지 명 넘 것 으로 나타나 았 습니다 김진호 입 니다 영상 편집 김종선 김진호', '앵커 내 일해 ㄹ 러 윈 데이 를 앞두 고 코로나 확산 위기감 높 아 지 고 습니다 정부 지나 ㄴ 월 이태원 클럽 같 코로나 확산 막 기 위해 서울 전역 에서 방역 특별 점검 들어가 았 습니다 구경 하기 자가 보도 ㅂ니다 리포트 아 ㄹ 러 윈 하루 앞두 ㄴ 서울 이태원 차분 ㄴ 분위기 었 습니다 유흥 주점 중심 으로 코로나 확산 되 ㄹ 거란 우려 상인 자발 적 으로 휴업 았 습니다 골목 드나들 방문객 부터 체온 측정 하고 명부 를 작성 상인 자체 방역 대책 마련 았 습니다 호성 이태원 관광 특구 연합회 부회장 아 ㄹ 러 윈 데이 특수 데 지금 정말 이태원 상인 이나 주민 죽 느냐 살 느냐 절 박 위기 놓이 어 기 에서 울 시 클럽 감성 주점 곳 휴업 의사 를 밝히 었 다면서 아 ㄹ 러 윈 서울 클럽 중 절반 감성 주점 휴업 ㄹ 것 으로 전망 았 습니다 그러 ㅁ 도 방역 당국 긴장 놓 지 못하 고 습니다 서 어 울 시 내일 일 까지 강남 이태원 클럽 밀집 지역 유흥 시설 마다 전담 공무원 이상주 해방 역수 칙 준수 여부 를 밀착 점검 중 ㅂ니다 또 단속 피해 다른 지역 으로 이용객 몰리 이르 ㄴ 바 풍선효과 를 차단 하기 위해 서울시 와 경찰 식 약 처 서울 전역 모 든 춤추 유흥 시설 유사 유흥 시설 로 점검 대상 늘리 었 습니다 박 유미 서울시 방역 통 제관 경제 일상 공존 지속 가능 ㄴ 방역 체 계가 안착 되 도록 아 ㄹ 러 윈 데이 기간 시민 영업 주 방역 참여 를 시 한번 간곡히 부탁 드리 ㅂ니다 ㄴ 편 코로나 확진 자가 하루 새 명 늘 어 사흘 째 명 대 를 기록 았 습니다 국내 감염 명 이고 해외 유입 명 입 니다 방역 당국 코로나 추적 억제 상황 보다 감염 전파 속도 약간 더 빠르 다면서 주의 를 요구 았 습니다 정 세균 국무총리 언제 다시 대 규모 확산 세가 촉발 되 ㄹ지 모르 ㅂ니다 방역 고삐 를 더 욱 단단히 쥐 고 긴장 늦추 어서 안 되 겠 습니다 방역 당국 은인 파가 밀집 ㄴ 상황 에서 감염 전파 되 면 언제 어디 서 ㄴ 유행 다시 번 질 다며 이번 주말 아 ㄹ 러 윈 행사 와 단풍 여행 자제 해달 라고 거듭 요청 았 습니다 구경 입 니다 구경', '아시아경제박종일기자강남구에서일번확진자가발생했다우선이날명의확진자중번명은집단감염이발생한럭키사우나논현로관련으로양성판정을받았습니다첫확진자가발생한일이후현재까지럭키사우나관련확진자는총명으로이중강남구민이명인것으로확인됐다가족및지인등차감염자명이여기에포함돼있다이달일부터일까지럭키사우나방문자는일까지강남구보건소를찾아반드시검체검사를받아주길바랍니다번은앞서확진받은강남구민과의접촉으로확진받았고번명의감염경로는미상으로현재역학조사진행중입니다역학조사결과추가접촉자나동선이확인되면신속히공개하도록하겠다정순균구청장은강남구민여러분께서는개인위생수칙을철저히지켜주시고자가격리자여러분또한자가생활수칙을잘지키셔서강남에서확진자가감소할수있도록협력해주실것을당부한다고말했다박종일기자', '가금 류 농가 소독 모습 용인시 제공 재 판매 가금 류 농가 소독 모습 용인시 제공 재 판매 서울 연합뉴스 김 경기 자 환경부 전북 군산 만경강 에서 지나 ㄴ 일 채취 야생 조류 분변 국립 야생동물 질병 관리 원 이중 간 검사 결과 형조 류 인플루엔자 항원 검출 되 었 다고 일 밝히 었 이번 검출 되 ㄴ 항원 고 병원 성 어 불 일 후 확인 되 ㄴ 환경부 농림 축산 식품 부 질병 관리 청 해당 지자체 관계 기관 에조 류 인플루엔자 바이러스 검출 사실 즉시 통보 해 항원 검출 되 ㄴ 곳 주변 지역 등에 대 해 신속히 방역 조처 를 도록 았 야생 조류 조류 인플루엔자 긴급 행동 지침 따라 이번 형 항원 이나 온 지점 에서 반경 내 지역 에서 야생 조류 분변 채집 나서 한편 조류 폐 사체 등에 대한 예찰 활동 벌이 기로 았 농 식품 부도 항원 검출 직후 부터 검출 지점 출입 통제 하고 해당 지역 내 가금 농가 를 소독 방역 관리 를 강화 았', '양주시 플레이 ㄴ 양주 현장 점검 사진 제공 양주시 양주시 플레이 ㄴ 양주 현장 점검 사진 제공 양주시 양주시 플레이 ㄴ 양주 현장 점검 사진 제공 양주시 양주시 플레이 ㄴ 양주 현장 점검 사진 제공 양주시 양주시 플레이 ㄴ 양주 현장 점검 사진 제공 양주시 양주시 플레이 ㄴ 양주 현장 점검 사진 제공 양주시 파이낸셜뉴스 양주 강 근 주기 자 양주시 민 선기 하반기 시책 사업 ㄴ 감동 힐링 그린 프로젝트 플레이 ㄴ 양주 추진 위하 ㄴ 양주 에서 쉬 자 양주 에서 걷 자 월 마지막 현장 점검 마치 었 이성 호시 장은 이날 현장 점검 마치 ㄴ 뒤 포스트 코로나 시대 대내외 적 ㄴ 환경 변화 대응 려면 직접 발로 뛰 현장 중심 행정 더욱 강화 아야 ㄴ다며 시민 이안 전하 고슬기 롭 게 즐기 ㄹ 힐링 공간 조성 더불 어 민생 경제 조기 회복 연계 ㄴ 지역 콘텐츠 를 적극 발굴 해 코로나 위기 극복 위하 ㄴ 새롭 ㄴ 돌파구 마련 최선 겠 다고 말 았 플레이 ㄴ 양주 포스트 코로나 시대 대응 해 생명 가치 존중 신성 장 활력 중심 으로 시 민이 고장 내 에서 활력 충전 ㄹ 자연 친화 적 휴식 공간 조성 목표 로 하고 있다 이성호 양주시 장은 월 마지막 현장 일정 으로 정 성호 국회의원 조 학 부시 장 정덕 영양 주시 의장 박태희 도의 원 관계 공무원 함께 조선 초기 최대 왕실 사찰 던 양주 회암사 지 와 회암사 김삿갓 풍류 길 순회 았 회암사 지 가치 를 체계 적 으로 보존 하고 관리 하기 위해 진행 중인 종합 정비 계획 내년 상반기 유네스코 세계유산 잠정 목록 등재 를 위하 ㄴ 추진 방안 공유 하고 회암사 지 야간 경관 조명 설치 세심 게 살피 었 이어 회암사 를 찾 아 지 공 나옹 무학 선사 기리 대 화상 다례 제 와 소외 계층 시민 이산 사 체험 통하 아 지치 ㄴ 마음 치유 ㄹ 템플스테이 프로그램 확인 하고 사찰 운영 관련 되 ㄴ 애로 사항 청취 았 시민 휴식 장소 로 각광 받 고 김삿갓 풍류 길 도 둘러보 며 구간 별 안전시설 실태 와 편의 시설 확충 방안 집중 점검 았 정성호 의원 양주 품 고 유구 역사 와 문화유산 가치 를 보전 고 널리 홍보 하기 위해 더욱 힘쓰 겠 다고 말 았 저작권 자 파이낸셜뉴스 재 배포']\n"
     ]
    }
   ],
   "source": [
    "text_data = preprocessing(df['news'][:10])\n",
    "print(text_data)"
   ]
  },
  {
   "cell_type": "code",
   "execution_count": 33,
   "metadata": {},
   "outputs": [
    {
     "data": {
      "text/html": [
       "<div>\n",
       "<style scoped>\n",
       "    .dataframe tbody tr th:only-of-type {\n",
       "        vertical-align: middle;\n",
       "    }\n",
       "\n",
       "    .dataframe tbody tr th {\n",
       "        vertical-align: top;\n",
       "    }\n",
       "\n",
       "    .dataframe thead th {\n",
       "        text-align: right;\n",
       "    }\n",
       "</style>\n",
       "<table border=\"1\" class=\"dataframe\">\n",
       "  <thead>\n",
       "    <tr style=\"text-align: right;\">\n",
       "      <th></th>\n",
       "      <th>news</th>\n",
       "      <th>code</th>\n",
       "    </tr>\n",
       "  </thead>\n",
       "  <tbody>\n",
       "    <tr>\n",
       "      <th>0</th>\n",
       "      <td>오늘일밤시분쯤경기도화성시우정읍우정읍사무소인근왕복차로도로에서달리던경차와톤트럭트랙터가서...</td>\n",
       "      <td>사회</td>\n",
       "    </tr>\n",
       "    <tr>\n",
       "      <th>1</th>\n",
       "      <td>기사섹션분류안내기사의섹션정보는해당언론사의분류를따르고있습니다언론사는개별기사를개이상섹션...</td>\n",
       "      <td>사회</td>\n",
       "    </tr>\n",
       "    <tr>\n",
       "      <th>7</th>\n",
       "      <td>한국경제조시형기자전북군산만경강에서지난일채취한야생조류분변을국립야생동물질병관리원이중간검...</td>\n",
       "      <td>사회</td>\n",
       "    </tr>\n",
       "    <tr>\n",
       "      <th>17</th>\n",
       "      <td>서울송파구서울동부지검뉴스구윤성기자서울송파구서울동부지검뉴스구윤성기자서울뉴스이상학기자윤...</td>\n",
       "      <td>사회</td>\n",
       "    </tr>\n",
       "    <tr>\n",
       "      <th>19</th>\n",
       "      <td>동영상뉴스앵커핼러윈을맞아서울이태원등번화가에는젊은이들의발길이이어지고있습니다이런가운데전...</td>\n",
       "      <td>사회</td>\n",
       "    </tr>\n",
       "  </tbody>\n",
       "</table>\n",
       "</div>"
      ],
      "text/plain": [
       "                                                 news code\n",
       "0   오늘일밤시분쯤경기도화성시우정읍우정읍사무소인근왕복차로도로에서달리던경차와톤트럭트랙터가서...   사회\n",
       "1   기사섹션분류안내기사의섹션정보는해당언론사의분류를따르고있습니다언론사는개별기사를개이상섹션...   사회\n",
       "7   한국경제조시형기자전북군산만경강에서지난일채취한야생조류분변을국립야생동물질병관리원이중간검...   사회\n",
       "17  서울송파구서울동부지검뉴스구윤성기자서울송파구서울동부지검뉴스구윤성기자서울뉴스이상학기자윤...   사회\n",
       "19  동영상뉴스앵커핼러윈을맞아서울이태원등번화가에는젊은이들의발길이이어지고있습니다이런가운데전...   사회"
      ]
     },
     "execution_count": 33,
     "metadata": {},
     "output_type": "execute_result"
    }
   ],
   "source": [
    "df.head()"
   ]
  },
  {
   "cell_type": "markdown",
   "metadata": {},
   "source": [
    "# 머신러닝 사용하기"
   ]
  },
  {
   "cell_type": "code",
   "execution_count": 40,
   "metadata": {},
   "outputs": [],
   "source": [
    "from sklearn.model_selection import train_test_split\n",
    "from sklearn.feature_extraction.text import CountVectorizer\n",
    "from sklearn.feature_extraction.text import TfidfTransformer\n",
    "from sklearn.naive_bayes import MultinomialNB\n",
    "from sklearn import metrics"
   ]
  },
  {
   "cell_type": "code",
   "execution_count": 41,
   "metadata": {},
   "outputs": [],
   "source": [
    "#- 훈련 데이터와 테스트 데이터를 분리합니다.\n",
    "X_train, X_test, y_train, y_test = train_test_split(text_data, df['code'], random_state = 0)"
   ]
  },
  {
   "cell_type": "code",
   "execution_count": 42,
   "metadata": {},
   "outputs": [
    {
     "name": "stdout",
     "output_type": "stream",
     "text": [
      "훈련용 뉴스 기사의 개수 : 1032\n",
      "테스트용 뉴스 기사의 개수 :  345\n",
      "훈련용 레이블의 개수 :  1032\n",
      "테스트용 레이블의 개수 :  345\n"
     ]
    }
   ],
   "source": [
    "print('훈련용 뉴스 기사의 개수 :', len(X_train))\n",
    "print('테스트용 뉴스 기사의 개수 : ', len(X_test))\n",
    "print('훈련용 레이블의 개수 : ', len(y_train))\n",
    "print('테스트용 레이블의 개수 : ', len(y_test))"
   ]
  },
  {
   "cell_type": "code",
   "execution_count": null,
   "metadata": {},
   "outputs": [],
   "source": [
    "#- 단어의 수를 카운트하는 사이킷런의 카운트벡터라이저입니다.\n",
    "count_vect = CountVectorizer()\n",
    "X_train_counts = count_vect.fit_transform(X_train)\n",
    "\n",
    "#- 카운트벡터라이저의 결과로부터 TF-IDF 결과를 얻습니다.\n",
    "tfidf_transformer = TfidfTransformer()\n",
    "X_train_tfidf = tfidf_transformer.fit_transform(X_train_counts)"
   ]
  },
  {
   "cell_type": "code",
   "execution_count": 44,
   "metadata": {},
   "outputs": [],
   "source": [
    "#- 나이브 베이즈 분류기를 수행합니다.\n",
    "#- X_train은 TF-IDF 벡터, y_train은 레이블입니다.\n",
    "\n",
    "clf = MultinomialNB().fit(X_train_tfidf, y_train)"
   ]
  },
  {
   "cell_type": "code",
   "execution_count": 45,
   "metadata": {},
   "outputs": [],
   "source": [
    "# 텍스트를 입력하면 자동으로 TF-IDF벡터로 바꾸는 전처리 함수\n",
    "# count_vect의 정보가 이미 위에서 저장되있으므로 fit 필요없음??\n",
    "\n",
    "def tfidf_vectorizer(data):\n",
    "    data_counts = count_vect.transform(data)\n",
    "    data_tfidf = tfidf_transformer.transform(data_counts)\n",
    "    return data_tfidf"
   ]
  },
  {
   "cell_type": "code",
   "execution_count": 46,
   "metadata": {},
   "outputs": [
    {
     "name": "stdout",
     "output_type": "stream",
     "text": [
      "['IT/과학']\n"
     ]
    }
   ],
   "source": [
    "# 임의 문장으로 test1\n",
    "new_sent = preprocessing([\"민주당 일각에서 법사위의 체계·자구 심사 기능을 없애야 한다는 \\\n",
    "                           주장이 나오는 데 대해 “체계·자구 심사가 법안 지연의 수단으로 \\\n",
    "                          쓰이는 것은 바람직하지 않다”면서도 “국회를 통과하는 법안 중 위헌\\\n",
    "                          법률이 1년에 10건 넘게 나온다. 그런데 체계·자구 심사까지 없애면 매우 위험하다”고 반박했다.\"])\n",
    "print(clf.predict(tfidf_vectorizer(new_sent)))"
   ]
  },
  {
   "cell_type": "code",
   "execution_count": 47,
   "metadata": {},
   "outputs": [
    {
     "name": "stdout",
     "output_type": "stream",
     "text": [
      "['생활/문화']\n"
     ]
    }
   ],
   "source": [
    "# test2\n",
    "new_sent = preprocessing([\"인도 로맨틱 코미디 영화 <까립까립 싱글>(2017)을 봤을 때 나는 두 눈을 의심했다. \\\n",
    "                          저 사람이 남자 주인공이라고? 노안에 가까운 이목구비와 기름때로 뭉친 파마머리와, \\\n",
    "                          대충 툭툭 던지는 말투 등 전혀 로맨틱하지 않은 외모였다. 반감이 일면서 \\\n",
    "                          ‘난 외모지상주의자가 아니다’라고 자부했던 나에 대해 회의가 들었다.\\\n",
    "                           티브이를 꺼버릴까? 다른 걸 볼까? 그런데, 이상하다. 왜 이렇게 매력 있지? 개구리와\\\n",
    "                            같이 툭 불거진 눈망울 안에는 어떤 인도 배우에게서도 느끼지 못한 \\\n",
    "                            부드러움과 선량함, 무엇보다 슬픔이 있었다. 2시간 뒤 영화가 끝나고 나는 완전히 이 배우에게 빠졌다\"])\n",
    "print(clf.predict(tfidf_vectorizer(new_sent)))"
   ]
  },
  {
   "cell_type": "code",
   "execution_count": 48,
   "metadata": {},
   "outputs": [
    {
     "name": "stdout",
     "output_type": "stream",
     "text": [
      "['IT/과학']\n"
     ]
    }
   ],
   "source": [
    "# test3\n",
    "new_sent = preprocessing([\"20분기 연속으로 적자에 시달리는 LG전자가 브랜드 이름부터 성능, 디자인까지 대대적인 변화를 \\\n",
    "                          적용한 LG 벨벳은 등장 전부터 온라인 커뮤니티를 뜨겁게 달궜다. 사용자들은 “디자인이 예쁘다”, \\\n",
    "                          “슬림하다”는 반응을 보이며 LG 벨벳에 대한 기대감을 드러냈다.\"])\n",
    "print(clf.predict(tfidf_vectorizer(new_sent)))"
   ]
  },
  {
   "cell_type": "markdown",
   "metadata": {},
   "source": [
    "* 테스트 데이터에 적용"
   ]
  },
  {
   "cell_type": "code",
   "execution_count": 49,
   "metadata": {},
   "outputs": [
    {
     "name": "stdout",
     "output_type": "stream",
     "text": [
      "              precision    recall  f1-score   support\n",
      "\n",
      "       IT/과학       0.54      1.00      0.70       129\n",
      "          사회       0.82      0.54      0.65        93\n",
      "       생활/문화       0.82      0.30      0.44       123\n",
      "\n",
      "    accuracy                           0.63       345\n",
      "   macro avg       0.73      0.61      0.60       345\n",
      "weighted avg       0.72      0.63      0.59       345\n",
      "\n"
     ]
    }
   ],
   "source": [
    "y_pred = clf.predict(tfidf_vectorizer(X_test))\n",
    "print(metrics.classification_report(y_test, y_pred))"
   ]
  },
  {
   "cell_type": "code",
   "execution_count": null,
   "metadata": {},
   "outputs": [],
   "source": []
  }
 ],
 "metadata": {
  "kernelspec": {
   "display_name": "Python 3",
   "language": "python",
   "name": "python3"
  },
  "language_info": {
   "codemirror_mode": {
    "name": "ipython",
    "version": 3
   },
   "file_extension": ".py",
   "mimetype": "text/x-python",
   "name": "python",
   "nbconvert_exporter": "python",
   "pygments_lexer": "ipython3",
   "version": "3.7.9"
  }
 },
 "nbformat": 4,
 "nbformat_minor": 4
}
